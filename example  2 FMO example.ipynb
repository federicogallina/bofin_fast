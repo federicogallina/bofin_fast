{
 "cells": [
  {
   "cell_type": "markdown",
   "metadata": {},
   "source": [
    "#FMO"
   ]
  },
  {
   "cell_type": "markdown",
   "metadata": {},
   "source": []
  },
  {
   "cell_type": "markdown",
   "metadata": {},
   "source": [
    "### Introduction"
   ]
  },
  {
   "cell_type": "markdown",
   "metadata": {},
   "source": [
    "\n",
    "\n",
    "Hierarchy method reference: link.aps.org/doi/10.1103/PhysRevLett.104.250401\n",
    "\n",
    "FMO reference http://arxiv.org/pdf/1512.09086v1.pdf\n",
    "Based on the implementation in http://dx.doi.org/10.1073/pnas.0908989106"
   ]
  },
  {
   "cell_type": "markdown",
   "metadata": {},
   "source": [
    "In this example notebook we outline how to employ the HEOM to \n",
    "solve the FMO photosynthetic complex dynamics. \n",
    "\n"
   ]
  },
  {
   "cell_type": "code",
   "execution_count": 1,
   "metadata": {},
   "outputs": [
    {
     "name": "stdout",
     "output_type": "stream",
     "text": [
      "The history saving thread hit an unexpected error (DatabaseError('database disk image is malformed')).History will not be written to the database.\n",
      "Populating the interactive namespace from numpy and matplotlib\n"
     ]
    }
   ],
   "source": [
    "%pylab inline\n",
    "from qutip import *"
   ]
  },
  {
   "cell_type": "code",
   "execution_count": 2,
   "metadata": {},
   "outputs": [],
   "source": [
    "from qutip.ipynbtools import HTMLProgressBar"
   ]
  },
  {
   "cell_type": "code",
   "execution_count": 3,
   "metadata": {},
   "outputs": [],
   "source": [
    "%load_ext autoreload\n",
    "%autoreload 2"
   ]
  },
  {
   "cell_type": "code",
   "execution_count": 4,
   "metadata": {},
   "outputs": [],
   "source": [
    "from heom_fmotd import BosonicHEOMSolver"
   ]
  },
  {
   "cell_type": "code",
   "execution_count": 5,
   "metadata": {},
   "outputs": [],
   "source": [
    "#Multiple by h*c*100 to get joules from inverse centimeters\n",
    "\n",
    "Hsys = Qobj([[200, -87.7, 5.5, -5.9, 6.7, -13.7, -9.9],\n",
    "                    [-87.7, 320, 30.8, 8.2, 0.7, 11.8, 4.3],\n",
    "                    [5.5, 30.8, 0, -53.5, -2.2, -9.6, 6.0],\n",
    "                    [-5.9, 8.2, -53.5, 110, -70.7, -17.0, -63.3],\n",
    "                    [6.7, 0.7, -2.2, -70.7, 270, 81.1, -1.3],\n",
    "                    [-13.7,11.8, -9.6, -17.0 ,81.1, 420, 39.7],\n",
    "                    [-9.9, 4.3, 6.0, -63.3, -1.3, 39.7, 230]])"
   ]
  },
  {
   "cell_type": "code",
   "execution_count": 6,
   "metadata": {},
   "outputs": [],
   "source": [
    "\n",
    "#start the excitation at site :1:\n",
    "rho0 = basis(7,0)*basis(7,0).dag() \n",
    "\n",
    "#time...  .15 = how many ps?  around 1, but need to get units correct\n",
    "tlist = np.linspace(0, .15, 800)\n",
    "tlist2 = np.linspace(0, .15, 800)\n",
    "eigen_sparse = False\n",
    "calc_time = True                                             \n",
    "\n",
    "# might as well use Q as projectors for site populations for plotting, but whatever\n",
    "P1=basis(7,0) * basis(7,0).dag()\n",
    "P2=basis(7,1) * basis(7,1).dag()\n",
    "\n",
    "optionsODE = Options(nsteps=15000, store_states=True,rtol=1e-17,atol=1e-17)\n",
    "#\n",
    "Nc = 4\n",
    "#K is the matsubara terms; if temperature < system energy,  N>1\n",
    "Nk = 1\n"
   ]
  },
  {
   "cell_type": "code",
   "execution_count": 7,
   "metadata": {},
   "outputs": [],
   "source": [
    "#Note here we are comparing matlab results and python results with the boundary condition switched off. There is some inconsistency between \n",
    "# the approximation tanimura uses in link.aps.org/doi/10.1103/PhysRevLett.104.250401 (which is what we use in the qutip implementation)  and the one ishizaki uses in \n",
    "# http://dx.doi.org/10.1073/pnas.0908989106 (which is slightly different, and the one i use in matlab, to reproduce their  low-temperature data)\n",
    "\n",
    "#version with all bath parameters the same\n",
    "lam = 35. \n",
    "gamma = 106.  #??? maybe.  need to check units on this parameter\n",
    "T = 200./0.95\n",
    "beta = 1/T\n",
    "\n",
    "#resultHEOM=heom_fmo_no_lists.HSolverDLMultiBaths(idFMO, Q,  lam0,Temperature, Ncc, Kk, gamma,renorm=True,options=optionsODE,bnd_cut_approx=False)\n"
   ]
  },
  {
   "cell_type": "code",
   "execution_count": 8,
   "metadata": {},
   "outputs": [
    {
     "data": {
      "text/plain": [
       "Text(0, 0.5, 'J')"
      ]
     },
     "execution_count": 8,
     "metadata": {},
     "output_type": "execute_result"
    },
    {
     "data": {
      "image/png": "[encoded data removed]",
      "text/plain": [
       "<Figure size 576x576 with 1 Axes>"
      ]
     },
     "metadata": {
      "needs_background": "light"
     },
     "output_type": "display_data"
    }
   ],
   "source": [
    "###############################################\n",
    "\n",
    "# defines cks and vks for the Matsubara decomposition of the Drude Lorentz spectral density\n",
    "\n",
    "\n",
    "def cot(x):\n",
    "    return 1./np.tan(x)\n",
    "\n",
    "wlist = np.linspace(0, 500, 1000)\n",
    "pref = 1.\n",
    "\n",
    "J = [w * 2 * lam * gamma / ((gamma**2 + w**2)) for w in wlist]\n",
    "\n",
    "# Plot the results\n",
    "fig, axes = plt.subplots(1, 1, sharex=True, figsize=(8,8))\n",
    "axes.plot(wlist, J, 'r', linewidth=2)\n",
    "axes.set_xlabel(r'$\\omega$', fontsize=28)\n",
    "axes.set_ylabel(r'J', fontsize=28)\n",
    "\n"
   ]
  },
  {
   "cell_type": "code",
   "execution_count": 9,
   "metadata": {},
   "outputs": [
    {
     "name": "stdout",
     "output_type": "stream",
     "text": [
      "[(14424.187844967773+0j)]\n",
      "[(-3710+0j)]\n",
      "[(106+0j)]\n",
      "[(106+0j)]\n"
     ]
    }
   ],
   "source": [
    "Nk = 1 # number of exponentials in approximation of the Matsubara approximation\n",
    "\n",
    "\n",
    "def _calc_matsubara_params():\n",
    "        \"\"\"\n",
    "        Calculate the Matsubara coefficents and frequencies\n",
    "        Returns\n",
    "        -------\n",
    "        c, nu: both list(float)\n",
    "        \"\"\"\n",
    "        c = []\n",
    "        nu = []\n",
    "        lam0 = lam\n",
    "        gam = gamma\n",
    "        hbar = 1\n",
    "        beta = 1.0/T\n",
    "        N_m =  Nk\n",
    "\n",
    "        g = 2*np.pi / (beta)\n",
    "        for k in range(N_m):\n",
    "            if k == 0:\n",
    "                nu.append(gam)\n",
    "                c.append(lam0*gam*\n",
    "                    (1.0/np.tan(gam*hbar*beta/2.0) - 1j) / hbar)\n",
    "            else:\n",
    "                g = 2*np.pi / (beta)\n",
    "                nu.append(k*g)\n",
    "                c.append(4*lam0*gam*nu[k] /\n",
    "                      ((nu[k]**2 - gam**2)*beta*hbar**2))\n",
    "\n",
    "    \n",
    "        return c, nu\n",
    " \n",
    "\n",
    "\n",
    "\n",
    "ctest, nutest=_calc_matsubara_params()\n",
    "\n",
    "pref = 1\n",
    "\n",
    "ckAR = [pref * lam * gamma * (cot(gamma / (2 * T))) + 0.j]\n",
    "ckAR.extend([(pref * 4 * lam * gamma * T *  2 * np.pi * k * T / (( 2 * np.pi * k * T)**2 - gamma**2))+0.j for k in range(1,Nk)])\n",
    "\n",
    "vkAR = [gamma+0.j]\n",
    "vkAR.extend([2 * np.pi * k * T + 0.j for k in range(1,Nk)])\n",
    "\n",
    "ckAI = [pref * lam * gamma * (-1.0) + 0.j]\n",
    "\n",
    "vkAI = [gamma+0.j]\n",
    "\n",
    "print(ckAR)\n",
    "print(ckAI)\n",
    "print(vkAR)\n",
    "print(vkAI)"
   ]
  },
  {
   "cell_type": "code",
   "execution_count": 31,
   "metadata": {},
   "outputs": [
    {
     "data": {
      "text/plain": [
       "[Quantum object: dims = [[7], [7]], shape = (7, 7), type = oper, isherm = True\n",
       " Qobj data =\n",
       " [[1. 0. 0. 0. 0. 0. 0.]\n",
       "  [0. 0. 0. 0. 0. 0. 0.]\n",
       "  [0. 0. 0. 0. 0. 0. 0.]\n",
       "  [0. 0. 0. 0. 0. 0. 0.]\n",
       "  [0. 0. 0. 0. 0. 0. 0.]\n",
       "  [0. 0. 0. 0. 0. 0. 0.]\n",
       "  [0. 0. 0. 0. 0. 0. 0.]],\n",
       " Quantum object: dims = [[7], [7]], shape = (7, 7), type = oper, isherm = True\n",
       " Qobj data =\n",
       " [[1. 0. 0. 0. 0. 0. 0.]\n",
       "  [0. 0. 0. 0. 0. 0. 0.]\n",
       "  [0. 0. 0. 0. 0. 0. 0.]\n",
       "  [0. 0. 0. 0. 0. 0. 0.]\n",
       "  [0. 0. 0. 0. 0. 0. 0.]\n",
       "  [0. 0. 0. 0. 0. 0. 0.]\n",
       "  [0. 0. 0. 0. 0. 0. 0.]]]"
      ]
     },
     "execution_count": 31,
     "metadata": {},
     "output_type": "execute_result"
    }
   ],
   "source": [
    "Q2[0]"
   ]
  },
  {
   "cell_type": "code",
   "execution_count": 10,
   "metadata": {},
   "outputs": [
    {
     "name": "stdout",
     "output_type": "stream",
     "text": [
      "[Quantum object: dims = [[7], [7]], shape = (7, 7), type = oper, isherm = True\n",
      "Qobj data =\n",
      "[[1. 0. 0. 0. 0. 0. 0.]\n",
      " [0. 0. 0. 0. 0. 0. 0.]\n",
      " [0. 0. 0. 0. 0. 0. 0.]\n",
      " [0. 0. 0. 0. 0. 0. 0.]\n",
      " [0. 0. 0. 0. 0. 0. 0.]\n",
      " [0. 0. 0. 0. 0. 0. 0.]\n",
      " [0. 0. 0. 0. 0. 0. 0.]], Quantum object: dims = [[7], [7]], shape = (7, 7), type = oper, isherm = True\n",
      "Qobj data =\n",
      "[[0. 0. 0. 0. 0. 0. 0.]\n",
      " [0. 1. 0. 0. 0. 0. 0.]\n",
      " [0. 0. 0. 0. 0. 0. 0.]\n",
      " [0. 0. 0. 0. 0. 0. 0.]\n",
      " [0. 0. 0. 0. 0. 0. 0.]\n",
      " [0. 0. 0. 0. 0. 0. 0.]\n",
      " [0. 0. 0. 0. 0. 0. 0.]], Quantum object: dims = [[7], [7]], shape = (7, 7), type = oper, isherm = True\n",
      "Qobj data =\n",
      "[[0. 0. 0. 0. 0. 0. 0.]\n",
      " [0. 0. 0. 0. 0. 0. 0.]\n",
      " [0. 0. 1. 0. 0. 0. 0.]\n",
      " [0. 0. 0. 0. 0. 0. 0.]\n",
      " [0. 0. 0. 0. 0. 0. 0.]\n",
      " [0. 0. 0. 0. 0. 0. 0.]\n",
      " [0. 0. 0. 0. 0. 0. 0.]], Quantum object: dims = [[7], [7]], shape = (7, 7), type = oper, isherm = True\n",
      "Qobj data =\n",
      "[[0. 0. 0. 0. 0. 0. 0.]\n",
      " [0. 0. 0. 0. 0. 0. 0.]\n",
      " [0. 0. 0. 0. 0. 0. 0.]\n",
      " [0. 0. 0. 1. 0. 0. 0.]\n",
      " [0. 0. 0. 0. 0. 0. 0.]\n",
      " [0. 0. 0. 0. 0. 0. 0.]\n",
      " [0. 0. 0. 0. 0. 0. 0.]], Quantum object: dims = [[7], [7]], shape = (7, 7), type = oper, isherm = True\n",
      "Qobj data =\n",
      "[[0. 0. 0. 0. 0. 0. 0.]\n",
      " [0. 0. 0. 0. 0. 0. 0.]\n",
      " [0. 0. 0. 0. 0. 0. 0.]\n",
      " [0. 0. 0. 0. 0. 0. 0.]\n",
      " [0. 0. 0. 0. 1. 0. 0.]\n",
      " [0. 0. 0. 0. 0. 0. 0.]\n",
      " [0. 0. 0. 0. 0. 0. 0.]], Quantum object: dims = [[7], [7]], shape = (7, 7), type = oper, isherm = True\n",
      "Qobj data =\n",
      "[[0. 0. 0. 0. 0. 0. 0.]\n",
      " [0. 0. 0. 0. 0. 0. 0.]\n",
      " [0. 0. 0. 0. 0. 0. 0.]\n",
      " [0. 0. 0. 0. 0. 0. 0.]\n",
      " [0. 0. 0. 0. 0. 0. 0.]\n",
      " [0. 0. 0. 0. 0. 1. 0.]\n",
      " [0. 0. 0. 0. 0. 0. 0.]], Quantum object: dims = [[7], [7]], shape = (7, 7), type = oper, isherm = True\n",
      "Qobj data =\n",
      "[[0. 0. 0. 0. 0. 0. 0.]\n",
      " [0. 0. 0. 0. 0. 0. 0.]\n",
      " [0. 0. 0. 0. 0. 0. 0.]\n",
      " [0. 0. 0. 0. 0. 0. 0.]\n",
      " [0. 0. 0. 0. 0. 0. 0.]\n",
      " [0. 0. 0. 0. 0. 0. 0.]\n",
      " [0. 0. 0. 0. 0. 0. 1.]], Quantum object: dims = [[7], [7]], shape = (7, 7), type = oper, isherm = True\n",
      "Qobj data =\n",
      "[[1. 0. 0. 0. 0. 0. 0.]\n",
      " [0. 0. 0. 0. 0. 0. 0.]\n",
      " [0. 0. 0. 0. 0. 0. 0.]\n",
      " [0. 0. 0. 0. 0. 0. 0.]\n",
      " [0. 0. 0. 0. 0. 0. 0.]\n",
      " [0. 0. 0. 0. 0. 0. 0.]\n",
      " [0. 0. 0. 0. 0. 0. 0.]], Quantum object: dims = [[7], [7]], shape = (7, 7), type = oper, isherm = True\n",
      "Qobj data =\n",
      "[[0. 0. 0. 0. 0. 0. 0.]\n",
      " [0. 1. 0. 0. 0. 0. 0.]\n",
      " [0. 0. 0. 0. 0. 0. 0.]\n",
      " [0. 0. 0. 0. 0. 0. 0.]\n",
      " [0. 0. 0. 0. 0. 0. 0.]\n",
      " [0. 0. 0. 0. 0. 0. 0.]\n",
      " [0. 0. 0. 0. 0. 0. 0.]], Quantum object: dims = [[7], [7]], shape = (7, 7), type = oper, isherm = True\n",
      "Qobj data =\n",
      "[[0. 0. 0. 0. 0. 0. 0.]\n",
      " [0. 0. 0. 0. 0. 0. 0.]\n",
      " [0. 0. 1. 0. 0. 0. 0.]\n",
      " [0. 0. 0. 0. 0. 0. 0.]\n",
      " [0. 0. 0. 0. 0. 0. 0.]\n",
      " [0. 0. 0. 0. 0. 0. 0.]\n",
      " [0. 0. 0. 0. 0. 0. 0.]], Quantum object: dims = [[7], [7]], shape = (7, 7), type = oper, isherm = True\n",
      "Qobj data =\n",
      "[[0. 0. 0. 0. 0. 0. 0.]\n",
      " [0. 0. 0. 0. 0. 0. 0.]\n",
      " [0. 0. 0. 0. 0. 0. 0.]\n",
      " [0. 0. 0. 1. 0. 0. 0.]\n",
      " [0. 0. 0. 0. 0. 0. 0.]\n",
      " [0. 0. 0. 0. 0. 0. 0.]\n",
      " [0. 0. 0. 0. 0. 0. 0.]], Quantum object: dims = [[7], [7]], shape = (7, 7), type = oper, isherm = True\n",
      "Qobj data =\n",
      "[[0. 0. 0. 0. 0. 0. 0.]\n",
      " [0. 0. 0. 0. 0. 0. 0.]\n",
      " [0. 0. 0. 0. 0. 0. 0.]\n",
      " [0. 0. 0. 0. 0. 0. 0.]\n",
      " [0. 0. 0. 0. 1. 0. 0.]\n",
      " [0. 0. 0. 0. 0. 0. 0.]\n",
      " [0. 0. 0. 0. 0. 0. 0.]], Quantum object: dims = [[7], [7]], shape = (7, 7), type = oper, isherm = True\n",
      "Qobj data =\n",
      "[[0. 0. 0. 0. 0. 0. 0.]\n",
      " [0. 0. 0. 0. 0. 0. 0.]\n",
      " [0. 0. 0. 0. 0. 0. 0.]\n",
      " [0. 0. 0. 0. 0. 0. 0.]\n",
      " [0. 0. 0. 0. 0. 0. 0.]\n",
      " [0. 0. 0. 0. 0. 1. 0.]\n",
      " [0. 0. 0. 0. 0. 0. 0.]], Quantum object: dims = [[7], [7]], shape = (7, 7), type = oper, isherm = True\n",
      "Qobj data =\n",
      "[[0. 0. 0. 0. 0. 0. 0.]\n",
      " [0. 0. 0. 0. 0. 0. 0.]\n",
      " [0. 0. 0. 0. 0. 0. 0.]\n",
      " [0. 0. 0. 0. 0. 0. 0.]\n",
      " [0. 0. 0. 0. 0. 0. 0.]\n",
      " [0. 0. 0. 0. 0. 0. 0.]\n",
      " [0. 0. 0. 0. 0. 0. 1.]]]\n",
      "SIMPL DUN\n",
      "SIMPL DUN\n",
      "SIMPL DUN\n",
      "SIMPL DUN\n",
      "SIMPL DUN\n",
      "SIMPL DUN\n",
      "SIMPL DUN\n",
      "14\n",
      "[Quantum object: dims = [[7], [7]], shape = (7, 7), type = oper, isherm = True\n",
      "Qobj data =\n",
      "[[1. 0. 0. 0. 0. 0. 0.]\n",
      " [0. 0. 0. 0. 0. 0. 0.]\n",
      " [0. 0. 0. 0. 0. 0. 0.]\n",
      " [0. 0. 0. 0. 0. 0. 0.]\n",
      " [0. 0. 0. 0. 0. 0. 0.]\n",
      " [0. 0. 0. 0. 0. 0. 0.]\n",
      " [0. 0. 0. 0. 0. 0. 0.]], Quantum object: dims = [[7], [7]], shape = (7, 7), type = oper, isherm = True\n",
      "Qobj data =\n",
      "[[0. 0. 0. 0. 0. 0. 0.]\n",
      " [0. 1. 0. 0. 0. 0. 0.]\n",
      " [0. 0. 0. 0. 0. 0. 0.]\n",
      " [0. 0. 0. 0. 0. 0. 0.]\n",
      " [0. 0. 0. 0. 0. 0. 0.]\n",
      " [0. 0. 0. 0. 0. 0. 0.]\n",
      " [0. 0. 0. 0. 0. 0. 0.]], Quantum object: dims = [[7], [7]], shape = (7, 7), type = oper, isherm = True\n",
      "Qobj data =\n",
      "[[0. 0. 0. 0. 0. 0. 0.]\n",
      " [0. 0. 0. 0. 0. 0. 0.]\n",
      " [0. 0. 1. 0. 0. 0. 0.]\n",
      " [0. 0. 0. 0. 0. 0. 0.]\n",
      " [0. 0. 0. 0. 0. 0. 0.]\n",
      " [0. 0. 0. 0. 0. 0. 0.]\n",
      " [0. 0. 0. 0. 0. 0. 0.]], Quantum object: dims = [[7], [7]], shape = (7, 7), type = oper, isherm = True\n",
      "Qobj data =\n",
      "[[0. 0. 0. 0. 0. 0. 0.]\n",
      " [0. 0. 0. 0. 0. 0. 0.]\n",
      " [0. 0. 0. 0. 0. 0. 0.]\n",
      " [0. 0. 0. 1. 0. 0. 0.]\n",
      " [0. 0. 0. 0. 0. 0. 0.]\n",
      " [0. 0. 0. 0. 0. 0. 0.]\n",
      " [0. 0. 0. 0. 0. 0. 0.]], Quantum object: dims = [[7], [7]], shape = (7, 7), type = oper, isherm = True\n",
      "Qobj data =\n",
      "[[0. 0. 0. 0. 0. 0. 0.]\n",
      " [0. 0. 0. 0. 0. 0. 0.]\n",
      " [0. 0. 0. 0. 0. 0. 0.]\n",
      " [0. 0. 0. 0. 0. 0. 0.]\n",
      " [0. 0. 0. 0. 1. 0. 0.]\n",
      " [0. 0. 0. 0. 0. 0. 0.]\n",
      " [0. 0. 0. 0. 0. 0. 0.]], Quantum object: dims = [[7], [7]], shape = (7, 7), type = oper, isherm = True\n",
      "Qobj data =\n",
      "[[0. 0. 0. 0. 0. 0. 0.]\n",
      " [0. 0. 0. 0. 0. 0. 0.]\n",
      " [0. 0. 0. 0. 0. 0. 0.]\n",
      " [0. 0. 0. 0. 0. 0. 0.]\n",
      " [0. 0. 0. 0. 0. 0. 0.]\n",
      " [0. 0. 0. 0. 0. 1. 0.]\n",
      " [0. 0. 0. 0. 0. 0. 0.]], Quantum object: dims = [[7], [7]], shape = (7, 7), type = oper, isherm = True\n",
      "Qobj data =\n",
      "[[0. 0. 0. 0. 0. 0. 0.]\n",
      " [0. 0. 0. 0. 0. 0. 0.]\n",
      " [0. 0. 0. 0. 0. 0. 0.]\n",
      " [0. 0. 0. 0. 0. 0. 0.]\n",
      " [0. 0. 0. 0. 0. 0. 0.]\n",
      " [0. 0. 0. 0. 0. 0. 0.]\n",
      " [0. 0. 0. 0. 0. 0. 1.]]]\n",
      "7\n",
      "making python csr matrix\n"
     ]
    },
    {
     "name": "stderr",
     "output_type": "stream",
     "text": [
      "/mnt/e/Dropbox/Dropbox/notebooks/tarun heom codes/heom_paper_examples/heom_fmotd.py:182: UserWarning: Expected simplified input.\n",
      "  warnings.warn(\"Expected simplified input.\")\n",
      "/mnt/e/Dropbox/Dropbox/notebooks/tarun heom codes/heom_paper_examples/heom_fmotd.py:189: UserWarning: Expected simplified input.\n",
      "  warnings.warn(\"Expected simplified input.\")\n"
     ]
    }
   ],
   "source": [
    "\n",
    "#each site is coupled to an independant bath in the site basis\n",
    "Q=[basis(7,m)*basis(7,m).dag() for m in range(7)  ]\n",
    "\n",
    "NR = len(ckAR)\n",
    "NI = len(ckAI)\n",
    "Q2 = []\n",
    "ckAR2 = []\n",
    "ckAI2 = []\n",
    "vkAR2 = []\n",
    "vkAI2 = []\n",
    "for m in range(7):\n",
    "    Q2.extend([ basis(7,m)*basis(7,m).dag() for kk in range(NR)])\n",
    "    ckAR2.extend(ckAR)    \n",
    "    vkAR2.extend(vkAR)\n",
    "   \n",
    "for m in range(7):\n",
    "    Q2.extend([ basis(7,m)*basis(7,m).dag() for kk in range(NI)])\n",
    "    ckAI2.extend(ckAI)\n",
    "    vkAI2.extend(vkAI)\n",
    "    \n",
    "print(Q2)\n",
    "\n",
    "options = Options(nsteps=15000, store_states=True, rtol=1e-14, atol=1e-14)\n",
    "\n",
    "\n",
    "HEOMMats = BosonicHEOMSolver(Hsys, Q2, ckAR2, ckAI2, vkAR2, vkAI2, Nc, options=options)\n"
   ]
  },
  {
   "cell_type": "code",
   "execution_count": 12,
   "metadata": {},
   "outputs": [],
   "source": [
    "output=HEOMMats.run(rho0,tlist)"
   ]
  },
  {
   "cell_type": "code",
   "execution_count": 14,
   "metadata": {},
   "outputs": [
    {
     "data": {
      "text/plain": [
       "[(14424.187844967773+0j),\n",
       " (14424.187844967773+0j),\n",
       " (14424.187844967773+0j),\n",
       " (14424.187844967773+0j),\n",
       " (14424.187844967773+0j),\n",
       " (14424.187844967773+0j),\n",
       " (14424.187844967773+0j)]"
      ]
     },
     "execution_count": 14,
     "metadata": {},
     "output_type": "execute_result"
    }
   ],
   "source": [
    "ckAR2"
   ]
  },
  {
   "cell_type": "code",
   "execution_count": 15,
   "metadata": {},
   "outputs": [
    {
     "data": {
      "text/plain": [
       "[(106+0j), (106+0j), (106+0j), (106+0j), (106+0j), (106+0j), (106+0j)]"
      ]
     },
     "execution_count": 15,
     "metadata": {},
     "output_type": "execute_result"
    }
   ],
   "source": [
    "vkAR2"
   ]
  },
  {
   "cell_type": "code",
   "execution_count": 17,
   "metadata": {},
   "outputs": [
    {
     "data": {
      "text/plain": [
       "[(-3710+0j),\n",
       " (-3710+0j),\n",
       " (-3710+0j),\n",
       " (-3710+0j),\n",
       " (-3710+0j),\n",
       " (-3710+0j),\n",
       " (-3710+0j)]"
      ]
     },
     "execution_count": 17,
     "metadata": {},
     "output_type": "execute_result"
    }
   ],
   "source": [
    "ckAI2"
   ]
  },
  {
   "cell_type": "code",
   "execution_count": 18,
   "metadata": {},
   "outputs": [
    {
     "data": {
      "text/plain": [
       "[(106+0j), (106+0j), (106+0j), (106+0j), (106+0j), (106+0j), (106+0j)]"
      ]
     },
     "execution_count": 18,
     "metadata": {},
     "output_type": "execute_result"
    }
   ],
   "source": [
    "vkAI2"
   ]
  },
  {
   "cell_type": "code",
   "execution_count": 13,
   "metadata": {},
   "outputs": [
    {
     "data": {
      "text/plain": [
       "<matplotlib.legend.Legend at 0x7fc239328940>"
      ]
     },
     "execution_count": 13,
     "metadata": {},
     "output_type": "execute_result"
    },
    {
     "data": {
      "image/png": "[encoded data removed]",
      "text/plain": [
       "<Figure size 864x864 with 1 Axes>"
      ]
     },
     "metadata": {
      "needs_background": "light"
     },
     "output_type": "display_data"
    }
   ],
   "source": [
    "#P1HEOM=expect(output.states,P1)\n",
    "#P2HEOM=expect(output.states,P2)\n",
    "P1HEOM=expect(output.states,P1)\n",
    "P2HEOM=expect(output.states,P2)\n",
    "\n",
    "fig, axes2 = subplots(1, 1, sharex=True, figsize=(12,12))\n",
    "#axes2.plot(tlist, resultME.expect[0], 'b', linewidth=2, label=\"P1 Master Equation\")\n",
    "axes2.plot(tlist2, real(P1HEOM), 'y', linewidth=2, label=\"P1 HEOM\")\n",
    "\n",
    "#axes2.plot(tlist2, real(MatlabP1), 'g--', linewidth=2, label=\"P1 HEOM from matlab\")\n",
    "axes2.plot(tlist2, real(P2HEOM), 'r--', linewidth=2, label=\"P2 HEOM\")\n",
    "\n",
    "axes2.legend(loc=0)"
   ]
  },
  {
   "cell_type": "code",
   "execution_count": 10,
   "metadata": {},
   "outputs": [
    {
     "data": {
      "text/plain": [
       "<matplotlib.legend.Legend at 0x7f315b439588>"
      ]
     },
     "execution_count": 10,
     "metadata": {},
     "output_type": "execute_result"
    },
    {
     "data": {
      "image/png": "[encoded data removed]",
      "text/plain": [
       "<Figure size 864x864 with 1 Axes>"
      ]
     },
     "metadata": {
      "needs_background": "light"
     },
     "output_type": "display_data"
    }
   ],
   "source": [
    "#P1HEOM=expect(output.states,P1)\n",
    "#P2HEOM=expect(output.states,P2)\n",
    "P1HEOM=expect(output.states,P1)\n",
    "P2HEOM=expect(output.states,P2)\n",
    "\n",
    "fig, axes2 = subplots(1, 1, sharex=True, figsize=(12,12))\n",
    "#axes2.plot(tlist, resultME.expect[0], 'b', linewidth=2, label=\"P1 Master Equation\")\n",
    "axes2.plot(tlist2, real(P1HEOM), 'y', linewidth=2, label=\"P1 HEOM\")\n",
    "\n",
    "#axes2.plot(tlist2, real(MatlabP1), 'g--', linewidth=2, label=\"P1 HEOM from matlab\")\n",
    "axes2.plot(tlist2, real(P2HEOM), 'r--', linewidth=2, label=\"P2 HEOM\")\n",
    "\n",
    "axes2.legend(loc=0)"
   ]
  },
  {
   "cell_type": "markdown",
   "metadata": {},
   "source": [
    "### Comparison to pure dephasing exact result"
   ]
  },
  {
   "cell_type": "markdown",
   "metadata": {},
   "source": [
    "### Software versions"
   ]
  },
  {
   "cell_type": "code",
   "execution_count": 93,
   "metadata": {},
   "outputs": [
    {
     "data": {
      "text/html": [
       "<table><tr><th>Software</th><th>Version</th></tr><tr><td>QuTiP</td><td>3.2.0.dev-</td></tr><tr><td>Numpy</td><td>1.8.1</td></tr><tr><td>SciPy</td><td>0.14.0</td></tr><tr><td>matplotlib</td><td>1.3.1</td></tr><tr><td>Cython</td><td>0.20.1</td></tr><tr><td>IPython</td><td>2.1.0</td></tr><tr><td>Python</td><td>2.7.7 |Anaconda 2.0.1 (64-bit)| (default, Jun 11 2014, 10:40:02) [MSC v.1500 64 bit (AMD64)]</td></tr><tr><td>OS</td><td>nt [win32]</td></tr><tr><td colspan='2'>Thu Jun 18 15:09:30 2015 Tokyo Standard Time</td></tr></table>"
      ],
      "text/plain": [
       "<IPython.core.display.HTML at 0x1a1aef98>"
      ]
     },
     "execution_count": 93,
     "metadata": {},
     "output_type": "execute_result"
    }
   ],
   "source": [
    "from qutip.ipynbtools import version_table\n",
    "\n",
    "version_table()"
   ]
  },
  {
   "cell_type": "code",
   "execution_count": null,
   "metadata": {},
   "outputs": [],
   "source": []
  }
 ],
 "metadata": {
  "anaconda-cloud": {},
  "kernelspec": {
   "display_name": "Python 3",
   "language": "python",
   "name": "python3"
  },
  "language_info": {
   "codemirror_mode": {
    "name": "ipython",
    "version": 3
   },
   "file_extension": ".py",
   "mimetype": "text/x-python",
   "name": "python",
   "nbconvert_exporter": "python",
   "pygments_lexer": "ipython3",
   "version": "3.7.3"
  }
 },
 "nbformat": 4,
 "nbformat_minor": 1
}
