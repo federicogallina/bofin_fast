{
 "cells": [
  {
   "cell_type": "markdown",
   "metadata": {},
   "source": [
    "## Example 1: Spin-Bath model\n",
    "### Introduction"
   ]
  },
  {
   "cell_type": "markdown",
   "metadata": {},
   "source": [
    "The HEOM method solves the dynamics and steady state of a system and its environment, the latter of which is encoded in a set of auxiliary density matrices.\n",
    "\n",
    "In this example we show the evolution of a single two-level system in contact with a single Bosonic environment.  The properties of the system are encoded in Hamiltonian, and a coupling operator which describes how it is coupled to the environment.\n",
    "\n",
    "The Bosonic environment is implicitly assumed to obey a particular Hamiltonian (see paper), the parameters of which are encoded in the spectral density, and subsequently the free-bath correlation functions.\n",
    "\n",
    "In the example below we show how to model the overdamped Drude-Lorentz Spectral Density, commonly used with the HEOM. We show how to do this the Matsubara, Pade and fitting decompositions, and compare their convergence.  \n",
    "\n",
    "### Drude-Lorentz (overdamped) spectral density\n",
    "The Drude-Lorentz spectral density is:\n",
    "\n",
    "$$J_D(\\omega)= \\frac{2\\omega\\lambda\\gamma}{{\\gamma}^2 + \\omega^2}$$\n",
    "\n",
    "where $\\lambda$ scales the coupling strength, and $\\gamma$ is the cut-off frequency.  We use the convention,\n",
    "\\begin{equation*}\n",
    "C(t) = \\int_0^{\\infty} d\\omega \\frac{J_D(\\omega)}{\\pi}[\\coth(\\beta\\omega) \\cos(\\omega \\tau) - i \\sin(\\omega \\tau)]\n",
    "\\end{equation*}\n",
    "\n",
    "With the HEOM we must use an exponential decomposition:\n",
    "\n",
    "\\begin{equation*}\n",
    "C(t)=\\sum_{k=0}^{k=\\infty} c_k e^{-\\nu_k t}\n",
    "\\end{equation*}\n",
    "\n",
    "As an example, the Matsubara decomposition of the Drude-Lorentz spectral density is given by:\n",
    "\n",
    "\\begin{equation*}\n",
    "    \\nu_k = \\begin{cases}\n",
    "               \\gamma               & k = 0\\\\\n",
    "               {2 \\pi k} / {\\beta }  & k \\geq 1\\\\\n",
    "           \\end{cases}\n",
    "\\end{equation*}\n",
    "\n",
    "\\begin{equation*}\n",
    "    c_k = \\begin{cases}\n",
    "               \\lambda \\gamma (\\cot(\\beta \\gamma / 2) - i)             & k = 0\\\\\n",
    "               4 \\lambda \\gamma \\nu_k / \\{(nu_k^2 - \\gamma^2)\\beta \\}    & k \\geq 1\\\\\n",
    "           \\end{cases}\n",
    "\\end{equation*}\n",
    "\n",
    "Note that in the above, and the following, we set $\\hbar = k_\\mathrm{B} = 1$.\n",
    "\n",
    "###  Brownian motion (underdamped) spectral density\n",
    "The underdamped spectral density is:\n",
    "\n",
    "$$J_U = \\frac{\\alpha^2 \\Gamma \\omega}{(\\omega_c^2 - \\omega^2)^2 + \\Gamma^2 \\omega^2)}.$$\n",
    "\n",
    "Here $\\alpha$  scales the coupling strength, $\\Gamma$ is the cut-off frequency, and $\\omega_c$ defines a resonance frequency.  With the HEOM we must use an exponential decomposition:\n",
    "\n",
    "The Matsubara decomposition of this spectral density is, in real and imaginary parts:\n",
    "\n",
    "\n",
    "\n",
    "\\begin{equation*}\n",
    "    c_k^R = \\begin{cases}\n",
    "               \\alpha^2 \\coth(\\beta( \\Omega + i\\Gamma/2)/2)/4\\Omega & k = 0\\\\\n",
    "               \\alpha^2 \\coth(\\beta( \\Omega - i\\Gamma/2)/2)/4\\Omega & k = 0\\\\\n",
    "              -2\\alpha^2\\Gamma/\\beta \\frac{\\epsilon_k }{((\\Omega + i\\Gamma/2)^2 + \\epsilon_k^2)(\\Omega - i\\Gamma/2)^2 + \\epsilon_k^2)}      & k \\geq 1\\\\\n",
    "           \\end{cases}\n",
    "\\end{equation*}\n",
    "\n",
    "\\begin{equation*}\n",
    "    \\nu_k^R = \\begin{cases}\n",
    "               -i\\Omega  + \\Gamma/2, i\\Omega  +\\Gamma/2,             & k = 0\\\\\n",
    "               {2 \\pi k} / {\\beta }  & k \\geq 1\\\\\n",
    "           \\end{cases}\n",
    "\\end{equation*}\n",
    "\n",
    "\n",
    "\n",
    "\n",
    "\\begin{equation*}\n",
    "    c_k^I = \\begin{cases}\n",
    "               i\\alpha^2 /4\\Omega & k = 0\\\\\n",
    "                -i\\alpha^2 /4\\Omega & k = 0\\\\\n",
    "           \\end{cases}\n",
    "\\end{equation*}\n",
    "\n",
    "\\begin{equation*}\n",
    "    \\nu_k^I = \\begin{cases}\n",
    "               i\\Omega  + \\Gamma/2, -i\\Omega  + \\Gamma/2,             & k = 0\\\\\n",
    "           \\end{cases}\n",
    "\\end{equation*}\n",
    "\n",
    "Note that in the above, and the following, we set $\\hbar = k_\\mathrm{B} = 1$.\n",
    "\n"
   ]
  },
  {
   "cell_type": "code",
   "execution_count": 1,
   "metadata": {},
   "outputs": [
    {
     "name": "stdout",
     "output_type": "stream",
     "text": [
      "The history saving thread hit an unexpected error (DatabaseError('database disk image is malformed')).History will not be written to the database.\n",
      "Populating the interactive namespace from numpy and matplotlib\n"
     ]
    }
   ],
   "source": [
    "%pylab inline\n"
   ]
  },
  {
   "cell_type": "code",
   "execution_count": 2,
   "metadata": {},
   "outputs": [],
   "source": [
    "from qutip import *"
   ]
  },
  {
   "cell_type": "code",
   "execution_count": 3,
   "metadata": {},
   "outputs": [],
   "source": [
    "%load_ext autoreload\n",
    "%autoreload 2"
   ]
  },
  {
   "cell_type": "code",
   "execution_count": 4,
   "metadata": {},
   "outputs": [],
   "source": [
    "\n",
    "#Here we import both python and c++ solvers to compare results and performance\n",
    "from heom_fmotd import BosonicHEOMSolver\n",
    "from heom_fmotd_py import BosonicHEOMSolver as BosonicHEOMSolverPy"
   ]
  },
  {
   "cell_type": "code",
   "execution_count": 5,
   "metadata": {},
   "outputs": [],
   "source": [
    "\n",
    "def cot(x):\n",
    "    return 1./np.tan(x)\n"
   ]
  },
  {
   "cell_type": "code",
   "execution_count": 6,
   "metadata": {},
   "outputs": [],
   "source": [
    "# Defining the system Hamiltonian\n",
    "eps = .5     # Energy of the 2-level system.\n",
    "Del = 1.0    # Tunnelling term\n",
    "Hsys = 0.5 * eps * sigmaz() + 0.5 * Del* sigmax()"
   ]
  },
  {
   "cell_type": "code",
   "execution_count": 7,
   "metadata": {},
   "outputs": [],
   "source": [
    "# Initial state of the system.\n",
    "rho0 = basis(2,0) * basis(2,0).dag()  "
   ]
  },
  {
   "cell_type": "code",
   "execution_count": 8,
   "metadata": {},
   "outputs": [],
   "source": [
    "from mpmath import mp\n",
    "from mpmath import zeta\n",
    "from mpmath import gamma\n",
    "\n",
    "mp.dps = 15; mp.pretty = True"
   ]
  },
  {
   "cell_type": "code",
   "execution_count": 55,
   "metadata": {},
   "outputs": [],
   "source": [
    "\n",
    "alpha = 0.25\n",
    "T = 0.5\n",
    "#wc = 2 * pi * 0.1\n",
    "wc = 1\n",
    "beta  = 1/T \n",
    "s = 1\n",
    "\n",
    "\n",
    "tlist = np.linspace(0, 10, 5000)\n",
    "tlist3 = linspace(0,25,5000)\n",
    "#tlist3 = linspace(0,50,10000)\n",
    "\n",
    "#note: the argumetns to zeta should be in as high precision as possible, might need some adjustment\n",
    "# see http://mpmath.org/doc/current/basics.html#providing-correct-input\n",
    "ct = [complex((1/pi)*alpha * wc**(1-s) * beta**(-(s+1)) * (zeta(s+1,(1+beta*wc-1.0j*wc*t)/(beta*wc)) + \n",
    "            zeta(s+1,(1+1.0j*wc*t)/(beta*wc)))) for t in tlist]\n",
    "\n",
    "\n",
    "#also check long timescales\n",
    "ctlong = [complex((1/pi)*alpha * wc**(1-s) * beta**(-(s+1)) * (zeta(s+1,(1+beta*wc-1.0j*wc*t)/(beta*wc)) + \n",
    "            zeta(s+1,(1+1.0j*wc*t)/(beta*wc)))) for t in tlist3]\n",
    "\n",
    "\n",
    "corrRana =  real(ctlong)\n",
    "corrIana = imag(ctlong)\n",
    "\n",
    "\n",
    "pref = 1.\n",
    "\n"
   ]
  },
  {
   "cell_type": "code",
   "execution_count": 56,
   "metadata": {},
   "outputs": [
    {
     "data": {
      "text/plain": [
       "Text(0, 0.5, 'C')"
      ]
     },
     "execution_count": 56,
     "metadata": {},
     "output_type": "execute_result"
    },
    {
     "data": {
      "image/png": "[encoded data removed]",
      "text/plain": [
       "<Figure size 576x576 with 1 Axes>"
      ]
     },
     "metadata": {
      "needs_background": "light"
     },
     "output_type": "display_data"
    },
    {
     "data": {
      "image/png": "[encoded data removed]",
      "text/plain": [
       "<Figure size 576x576 with 1 Axes>"
      ]
     },
     "metadata": {
      "needs_background": "light"
     },
     "output_type": "display_data"
    }
   ],
   "source": [
    "wlist = np.linspace(0, 5, 1000)\n",
    "\n",
    "def JDL(energy):\n",
    "    #underdamped brownian oscillator\n",
    "    lam = 0.4*alpha\n",
    "    gamma = 0.5*wc\n",
    "    \n",
    "    return 2 * lam * gamma * (energy)/(((energy**2) + (gamma**2)))\n",
    "\n",
    "\n",
    "\n",
    "#J = [w**s * alpha * (1./(wc**(s-1))) * e**(-w/wc)  for w in wlist]\n",
    "J = [w * alpha * e**(-w/wc)  for w in wlist]\n",
    "\n",
    "JDL2 = [JDL(w)  for w in wlist]\n",
    "# Plot the results\n",
    "fig, axes = plt.subplots(1, 1, sharex=True, figsize=(8,8))\n",
    "axes.plot(wlist, J, 'r--', linewidth=2)\n",
    "axes.plot(wlist, JDL2, 'b', linewidth=2)\n",
    "axes.axvline(x=Del)\n",
    "axes.set_xlabel(r'$\\omega$', fontsize=28)\n",
    "axes.set_ylabel(r'J', fontsize=28)\n",
    "\n",
    "\n",
    "fig, axes = plt.subplots(1, 1, sharex=True, figsize=(8,8))\n",
    "axes.plot(tlist3, real(ctlong), 'r', linewidth=2)\n",
    "axes.plot(tlist3, imag(ctlong), 'b', linewidth=2)\n",
    "\n",
    "#axes.axvline(x=1/Del)\n",
    "\n",
    "axes.set_xlabel(r'$t$', fontsize=28)\n",
    "axes.set_ylabel(r'C', fontsize=28)"
   ]
  },
  {
   "cell_type": "code",
   "execution_count": 71,
   "metadata": {},
   "outputs": [
    {
     "name": "stdout",
     "output_type": "stream",
     "text": [
      "1\n",
      "[0.45739777 1.69480475 0.5       ]\n"
     ]
    },
    {
     "data": {
      "image/png": "[encoded data removed]",
      "text/plain": [
       "<Figure size 432x288 with 1 Axes>"
      ]
     },
     "metadata": {
      "needs_background": "light"
     },
     "output_type": "display_data"
    }
   ],
   "source": [
    "\n",
    "#lets try fitting the spectrurum\n",
    "#use underdamped case with meier tannor form (no imaginary omega)\n",
    "#tlist2 = tlist\n",
    "\n",
    "wlist = np.linspace(0, 20, 5000)\n",
    "\n",
    "from scipy.optimize import curve_fit\n",
    "\n",
    "#seperate functions for plotting later:\n",
    "\n",
    "\n",
    "\n",
    "def fit_func_nocost(x, a, b, c, N):\n",
    "    tot = 0\n",
    "    for i in range(N):\n",
    "        # print(i)\n",
    "        #tot += a[i]*np.exp(b[i]*x)*np.cos(c[i]*x + d[i])\n",
    "        #tot+= a[i] * b[i] * (x)/(((x**2) + (b[i]**2)))\n",
    "        #tot+= 2 * a[i] * b[i] * (x)/(((x+c[i])**2 + (b[i]**2))*((x-c[i])**2 + (b[i]**2)))\n",
    "        tot+= 2 * a[i] * b[i] * (x)/(((x+c[i])**2 + (b[i]**2))*((x-c[i])**2 + (b[i]**2)))\n",
    "    cost = 0.\n",
    "    \n",
    "    return tot   \n",
    "\n",
    "def wrapper_fit_func_nocost(x, N, *args):\n",
    "    a, b, c = list(args[0][:N]), list(args[0][N:2*N]),list(args[0][2*N:3*N])\n",
    "    # print(\"debug\")\n",
    "    return fit_func_nocost(x, a, b, c, N)\n",
    "\n",
    "\n",
    "# function that evaluates values with fitted params at\n",
    "# given inputs\n",
    "def checker(tlist, vals, N):\n",
    "    y = []\n",
    "    for i in tlist:\n",
    "        # print(i)\n",
    "        \n",
    "        y.append(wrapper_fit_func_nocost(i, N, vals))\n",
    "    return y\n",
    "\n",
    "\n",
    "#######\n",
    "#Real part \n",
    "\n",
    "def wrapper_fit_func(x, N, *args):\n",
    "    a, b, c = list(args[0][:N]), list(args[0][N:2*N]),list(args[0][2*N:3*N])\n",
    "    # print(\"debug\")\n",
    "    return fit_func(x, a, b, c, N)\n",
    "\n",
    "\n",
    "\n",
    "def fit_func(x, a, b, c,  N):\n",
    "    tot = 0\n",
    "    for i in range(N):\n",
    "        # print(i)\n",
    "        #tot+= a[i] * b[i] * (x)/(((x**2) + (b[i]**2)))\n",
    "        #tot+= a[i] * b[i] * (x)/(((x**2-c[i]**2)**2 + (x**2*b[i]**2)))\n",
    "        tot+= 2 * a[i] * b[i] * (x)/(((x+c[i])**2 + (b[i]**2))*((x-c[i])**2 + (b[i]**2)))\n",
    "    cost = 0.\n",
    "    #for i in range(N):\n",
    "        #print(i)\n",
    "    #    cost += ((corrRana[0]-a[i]*np.cos(d[i])))\n",
    "        \n",
    "        \n",
    "    tot+=0.0*cost\n",
    "    \n",
    "    return tot      \n",
    "\n",
    "def fitterR(ans, tlist, k):\n",
    "    # the actual computing of fit\n",
    "    popt = []\n",
    "    pcov = [] \n",
    "    # tries to fit for k exponents\n",
    "    for i in range(k):\n",
    "        #params_0 = [0]*(2*(i+1))\n",
    "        params_0 = [0.]*(3*(i+1))\n",
    "        upper_a = 10*abs(max(ans, key = abs))\n",
    "        #sets initial guess\n",
    "        guess = []\n",
    "        #aguess = [ans[0]]*(i+1)#[max(ans)]*(i+1)\n",
    "        aguess = [abs(max(ans, key = abs))]*(i+1)\n",
    "        bguess = [1*wc]*(i+1)\n",
    "        cguess = [1*wc]*(i+1)\n",
    "        \n",
    "        guess.extend(aguess)\n",
    "        guess.extend(bguess)\n",
    "        guess.extend(cguess)\n",
    "       \n",
    "        # sets bounds\n",
    "        # a's = anything , b's negative\n",
    "        # sets lower bound\n",
    "        b_lower = []\n",
    "        alower = [-upper_a]*(i+1)\n",
    "        blower = [0.1*wc]*(i+1)\n",
    "        clower = [0.5*wc]*(i+1)\n",
    "        \n",
    "        b_lower.extend(alower)\n",
    "        b_lower.extend(blower)\n",
    "        b_lower.extend(clower)\n",
    "        \n",
    "        # sets higher bound\n",
    "        b_higher = []\n",
    "        ahigher = [upper_a]*(i+1)\n",
    "        #bhigher = [np.inf]*(i+1)\n",
    "        bhigher = [10*wc]*(i+1)\n",
    "        chigher = [10*wc]*(i+1)\n",
    "      \n",
    "        b_higher.extend(ahigher)\n",
    "        b_higher.extend(bhigher)\n",
    "        b_higher.extend(chigher)\n",
    "       \n",
    "        param_bounds = (b_lower, b_higher)\n",
    "        \n",
    "        p1, p2 = curve_fit(lambda x, *params_0: wrapper_fit_func(x, i+1, \\\n",
    "            params_0), tlist, ans, p0=guess, bounds = param_bounds,sigma=[0.01 for w in wlist], maxfev = 100000000)\n",
    "        popt.append(p1)\n",
    "        pcov.append(p2)\n",
    "        print(i+1)\n",
    "    return popt\n",
    "# print(popt)\n",
    "\n",
    "\n",
    "J = [w * alpha * e**(-w/wc)  for w in wlist]\n",
    "k = 1\n",
    "popt1 = fitterR(J, wlist, k)\n",
    "for i in range(k):\n",
    "    y = checker(wlist, popt1[i],i+1)\n",
    "    print(popt1[i])\n",
    "    plt.plot(wlist, J, wlist, y)\n",
    "    \n",
    "    plt.show()\n",
    "  \n",
    "#tlist3 = linspace(0,1,1000)\n",
    "\n",
    "#y = checker(tlist3, popt2[k-1],k)\n",
    "#plt.plot(tlist3, imag(ctlong), tlist3, y)\n",
    "\n",
    "#plt.show()"
   ]
  },
  {
   "cell_type": "code",
   "execution_count": 72,
   "metadata": {},
   "outputs": [
    {
     "name": "stdout",
     "output_type": "stream",
     "text": [
      "[0.4573977725943736]\n",
      "[1.694804751945695]\n",
      "[0.5000000000000029]\n"
     ]
    }
   ],
   "source": [
    "\n",
    "\n",
    "lam = list(popt1[k-1])[:k]\n",
    "\n",
    "gamma = list(popt1[k-1])[k:2*k] #damping terms\n",
    "\n",
    "w0 = list(popt1[k-1])[2*k:3*k] #w0 termss\n",
    "\n",
    "\n",
    "\n",
    "\n",
    "print(lam)\n",
    "print(gamma)\n",
    "print(w0)"
   ]
  },
  {
   "cell_type": "code",
   "execution_count": 73,
   "metadata": {},
   "outputs": [
    {
     "name": "stderr",
     "output_type": "stream",
     "text": [
      "WARNING:matplotlib.backends.backend_ps:The PostScript backend does not support transparency; partially transparent artists will be rendered opaque.\n",
      "WARNING:matplotlib.backends.backend_ps:The PostScript backend does not support transparency; partially transparent artists will be rendered opaque.\n"
     ]
    },
    {
     "name": "stdout",
     "output_type": "stream",
     "text": [
      "[0.4573977725943736]\n",
      "[1.694804751945695]\n",
      "[0.5000000000000029]\n",
      "0.0012380728174065838\n"
     ]
    },
    {
     "data": {
      "text/plain": [
       "<matplotlib.legend.Legend at 0x7fb25cc6c978>"
      ]
     },
     "execution_count": 73,
     "metadata": {},
     "output_type": "execute_result"
    },
    {
     "data": {
      "image/png": "[encoded data removed]",
      "text/plain": [
       "<Figure size 576x576 with 1 Axes>"
      ]
     },
     "metadata": {
      "needs_background": "light"
     },
     "output_type": "display_data"
    },
    {
     "data": {
      "image/png": "[encoded data removed]",
      "text/plain": [
       "<Figure size 576x576 with 1 Axes>"
      ]
     },
     "metadata": {
      "needs_background": "light"
     },
     "output_type": "display_data"
    }
   ],
   "source": [
    "#new one based on meier-tannor version of underdamped stuff\n",
    "lamT = []\n",
    "\n",
    "print(lam)\n",
    "print(gamma)\n",
    "print(w0)\n",
    "\n",
    "fig, axes = plt.subplots(1, 1, sharex=True, figsize=(8,8))\n",
    "axes.plot(wlist, J, 'r--', linewidth=2, label=\"original\")\n",
    "for kk,ll in enumerate(lam):\n",
    "    #axes.plot(wlist,  [lam[kk] * gamma[kk] * (w)/(((w**2-w0[kk]**2)**2 + (gamma[kk]**2*w**2))) for w in wlist],linewidth=2)\n",
    "    axes.plot(wlist,  [2* lam[kk] * gamma[kk] * (w)/(((w+w0[kk])**2 + (gamma[kk]**2))*((w-w0[kk])**2 + (gamma[kk]**2))) for w in wlist],linewidth=2, label=\"fit\")\n",
    "\n",
    "\n",
    "\n",
    "\n",
    "\n",
    "axes.set_xlabel(r'$w$', fontsize=28)\n",
    "axes.set_ylabel(r'J', fontsize=28)\n",
    "\n",
    "axes.legend()\n",
    "fig.savefig('noisepower.eps')\n",
    "wlist2 = np.linspace(-2,2 , 50000)\n",
    "\n",
    "\n",
    "\n",
    "s1 =  [w * alpha * e**(-abs(w)/wc) *  ((1/(e**(w/T)-1))+1) for w in wlist2]\n",
    "s2 = [sum([(2* lam[kk] * gamma[kk] * (w)/(((w+w0[kk])**2 + (gamma[kk]**2))*((w-w0[kk])**2 + (gamma[kk]**2)))) * ((1/(e**(w/T)-1))+1)  for kk,lamkk in enumerate(lam)]) for w in wlist2]\n",
    "\n",
    "\n",
    "fig, axes = plt.subplots(1, 1, sharex=True, figsize=(8,8))\n",
    "axes.plot(wlist2, s1, 'r', linewidth=2,label=\"original\")\n",
    "axes.plot(wlist2, s2, 'b', linewidth=2,label=\"fit\")\n",
    "\n",
    "axes.set_xlabel(r'$w$', fontsize=28)\n",
    "axes.set_ylabel(r'S(w)', fontsize=28)\n",
    "\n",
    "#axes.axvline(x=Del)\n",
    "print(min(s2))\n",
    "axes.legend()\n",
    "\n",
    "#fig.savefig('powerspectrum.eps')\n",
    "#J(w>0) * (n(w>w)+1)\n"
   ]
  },
  {
   "cell_type": "code",
   "execution_count": 74,
   "metadata": {},
   "outputs": [
    {
     "name": "stdout",
     "output_type": "stream",
     "text": [
      "Computing bath correlation function.\n",
      "Got bath correlation function.\n"
     ]
    }
   ],
   "source": [
    "def Jw(w):\n",
    "    Jt  = w**s * alpha * (1./(wc**(s-1))) * e**(-w/wc) \n",
    "    return Jt\n",
    "\n",
    "from spectra import bath_correlation\n",
    "\n",
    "# plt.plot(tlist, y)\n",
    "# plt.show()\n",
    "\n",
    "print(\"Computing bath correlation function.\")\n",
    "\n",
    "corrRnum, corrInum = bath_correlation(tlist3, Jw, 1/T, wstart=0, wend=100)\n",
    "print(\"Got bath correlation function.\")"
   ]
  },
  {
   "cell_type": "code",
   "execution_count": 75,
   "metadata": {},
   "outputs": [],
   "source": [
    "energy, state = Hsys.eigenstates()"
   ]
  },
  {
   "cell_type": "code",
   "execution_count": 76,
   "metadata": {},
   "outputs": [],
   "source": [
    "def cot(x):\n",
    "    return 1./np.tan(x)\n",
    "\n",
    "\n",
    "def coth(x):\n",
    "    \"\"\"\n",
    "    Calculates the coth function.\n",
    "    \n",
    "    Parameters\n",
    "    ----------\n",
    "    x: np.ndarray\n",
    "        Any numpy array or list like input.\n",
    "        \n",
    "    Returns\n",
    "    -------\n",
    "    cothx: ndarray\n",
    "        The coth function applied to the input.\n",
    "    \"\"\"\n",
    "    return 1/np.tanh(x)"
   ]
  },
  {
   "cell_type": "code",
   "execution_count": 77,
   "metadata": {},
   "outputs": [
    {
     "name": "stdout",
     "output_type": "stream",
     "text": [
      "0.5\n",
      "(0.46774515872289546+0.09770497705124077j)\n",
      "[(0.10697279687082643+0.022345019437310827j), (0.10697279687082643-0.022345019437310827j), (-0.08792736279503761+0j), (-0.007156299777629741+0j)]\n",
      "[(1.694804751945695-0.5000000000000029j), (1.694804751945695+0.5000000000000029j), (3.141592653589793+0j), (6.283185307179586+0j)]\n"
     ]
    }
   ],
   "source": [
    "#underdamped meier tannior version\n",
    "\n",
    "#Note: Dont square lambda.  i should just rename lambda to something else\n",
    "\n",
    "Nk = 3 # number of exponentials in approximation of the Matsubara approximation\n",
    "\n",
    "pref = 1\n",
    "\n",
    "ckAR = []\n",
    "vkAR = []\n",
    "ckAI = []\n",
    "vkAI = []\n",
    "for kk, ll in enumerate(lam):\n",
    "    #print(kk)\n",
    "    lamt = lam[kk]\n",
    "    Om = w0[kk]\n",
    "    Gamma = gamma[kk]\n",
    "    print(T)\n",
    "    print(coth(beta*(Om+1.0j*Gamma)/2))\n",
    "    ckAR_temp = [(lamt/(4*Om))*coth(beta*(Om+1.0j*Gamma)/2),(lamt/(4*Om))*coth(beta*(Om-1.0j*Gamma)/2)]\n",
    "    for k in range(1,Nk):\n",
    "        #print(k)\n",
    "        ek = 2*pi*k/beta\n",
    "        ckAR_temp.append((-2*lamt*2*Gamma/beta)*ek/(((Om+1.0j*Gamma)**2+ek**2)*((Om-1.0j*Gamma)**2+ek**2)))\n",
    "    \n",
    "    \n",
    "    ckAR.extend(ckAR_temp)\n",
    "    \n",
    "    vkAR_temp =   [-1.0j*Om+Gamma,1.0j*Om+Gamma]\n",
    "    vkAR_temp.extend([2 * np.pi * k * T + 0.j for k in range(1,Nk)])\n",
    "    \n",
    "    vkAR.extend(vkAR_temp)\n",
    "    factor=1./4.\n",
    "    ckAI.extend([-factor*lamt*1.0j/(Om),factor*lamt*1.0j/(Om)])\n",
    "\n",
    "    vkAI.extend( [-(-1.0j*(Om) - Gamma),-(1.0j*(Om) - Gamma)])\n",
    "\n",
    "print(ckAR)\n",
    "print(vkAR)\n",
    "\n",
    "Q2 = []\n",
    "\n",
    "NR = len(ckAR)\n",
    "NI = len(ckAI)\n",
    "\n",
    "Q2.extend([ sigmaz() for kk in range(NR)])\n",
    "Q2.extend([ sigmaz() for kk in range(NI)])\n",
    "options = Options(nsteps=15000, store_states=True, rtol=1e-14, atol=1e-14)"
   ]
  },
  {
   "cell_type": "code",
   "execution_count": 78,
   "metadata": {},
   "outputs": [
    {
     "name": "stdout",
     "output_type": "stream",
     "text": [
      "(1.694804751945695+0.5000000000000029j)\n",
      "(1.694804751945695-0.5000000000000029j)\n"
     ]
    },
    {
     "name": "stderr",
     "output_type": "stream",
     "text": [
      "/home/neill/anaconda3/lib/python3.7/site-packages/numpy/core/_asarray.py:85: ComplexWarning: Casting complex values to real discards the imaginary part\n",
      "  return array(a, dtype, copy=False, order=order)\n"
     ]
    },
    {
     "data": {
      "text/plain": [
       "Text(0, 0.5, 'Im[C(t)]')"
      ]
     },
     "execution_count": 78,
     "metadata": {},
     "output_type": "execute_result"
    },
    {
     "data": {
      "image/png": "[encoded data removed]",
      "text/plain": [
       "<Figure size 576x576 with 1 Axes>"
      ]
     },
     "metadata": {
      "needs_background": "light"
     },
     "output_type": "display_data"
    },
    {
     "data": {
      "image/png": "[encoded data removed]",
      "text/plain": [
       "<Figure size 576x576 with 1 Axes>"
      ]
     },
     "metadata": {
      "needs_background": "light"
     },
     "output_type": "display_data"
    }
   ],
   "source": [
    "#corrRana =  real(ct)\n",
    "#corrIana = imag(ct)\n",
    "corrRana =  real(ctlong)\n",
    "corrIana = imag(ctlong)\n",
    "\n",
    "def checker2(tlisttemp):\n",
    "    y = []\n",
    "    for i in tlisttemp:\n",
    "        # print(i)\n",
    "        \n",
    "        temp = []\n",
    "        for kkk,ck in enumerate(ckAR):\n",
    "            \n",
    "            temp.append(ck*exp(-vkAR[kkk]*i))\n",
    "            \n",
    "        y.append(sum(temp))\n",
    "    return y\n",
    "\n",
    "\n",
    "y = checker2(tlist3)\n",
    "\n",
    "# Plot the results\n",
    "fig, axes = plt.subplots(1, 1, sharex=True, figsize=(8,8))\n",
    "axes.plot(tlist3,real(y), 'r', linewidth=2)\n",
    "axes.plot(tlist3,  corrRana, 'b--', linewidth=2)\n",
    "axes.set_xlabel(r'$t$', fontsize=28)\n",
    "axes.set_ylabel(r'Re[C(t)]', fontsize=28)\n",
    "\n",
    "\n",
    "# function that evaluates values with fitted params at\n",
    "# given inputs\n",
    "def checker2(tlisttemp):\n",
    "    y = []\n",
    "    for i in tlisttemp:\n",
    "        # print(i)\n",
    "        \n",
    "        temp = []\n",
    "        for kkk,ck in enumerate(ckAI):\n",
    "            if i==0: \n",
    "                print(vkAI[kkk])\n",
    "            temp.append(ck*exp(-vkAI[kkk]*i))\n",
    "            \n",
    "        y.append(sum(temp))\n",
    "    return y\n",
    "\n",
    "\n",
    "\n",
    "y = checker2(tlist3)\n",
    "\n",
    "fig, axes = plt.subplots(1, 1, sharex=True, figsize=(8,8))\n",
    "axes.plot(tlist3, y, 'r', linewidth=2)\n",
    "axes.plot(tlist3, corrIana, 'b--', linewidth=2)\n",
    "axes.set_xlabel(r'$t$', fontsize=28)\n",
    "axes.set_ylabel(r'Im[C(t)]', fontsize=28)\n"
   ]
  },
  {
   "cell_type": "code",
   "execution_count": 79,
   "metadata": {},
   "outputs": [
    {
     "name": "stdout",
     "output_type": "stream",
     "text": [
      "4\n",
      "2\n",
      "hello\n",
      "0.02450704574584961\n"
     ]
    }
   ],
   "source": [
    "\n",
    "\n",
    "\n",
    "NC = 5\n",
    "\n",
    "\n",
    "NR2 = len(ckAR)\n",
    "NI2 = len(ckAI)\n",
    "print(NR2)\n",
    "print(NI2)\n",
    "#Q2 = [Q for kk in range(NR+NI)]\n",
    "#print(Q2)\n",
    "options = Options(nsteps=15000, store_states=True, rtol=1e-14, atol=1e-14)\n",
    "import time \n",
    "\n",
    "start = time.time()\n",
    "#HEOMFit = BosonicHEOMSolverPY(Hsys, Q2, ckAR2, ckAI2, vkAR2, vkAI2, NC, options=options)\n",
    "HEOMFit = BosonicHEOMSolver(Hsys, Q2, ckAR, ckAI, vkAR, vkAI, NC, options=options)\n",
    "\n",
    "print(\"hello\")\n",
    "end = time.time()\n",
    "print(end - start)"
   ]
  },
  {
   "cell_type": "code",
   "execution_count": 45,
   "metadata": {},
   "outputs": [
    {
     "data": {
      "text/plain": [
       "[(1.694804751945695-0.5000000000000029j),\n",
       " (1.694804751945695-0.5000000000000029j),\n",
       " (1.694804751945695+0.5000000000000029j),\n",
       " (1.694804751945695+0.5000000000000029j)]"
      ]
     },
     "execution_count": 45,
     "metadata": {},
     "output_type": "execute_result"
    }
   ],
   "source": [
    "HEOMFit.common_vk"
   ]
  },
  {
   "cell_type": "code",
   "execution_count": 80,
   "metadata": {},
   "outputs": [
    {
     "name": "stdout",
     "output_type": "stream",
     "text": [
      "hello\n",
      "0.4980189800262451\n"
     ]
    }
   ],
   "source": [
    "tlist4 = np.linspace(0, 50, 1000)\n",
    "\n",
    "rho0 = basis(2,0) * basis(2,0).dag()   \n",
    "\n",
    "\n",
    "import time\n",
    "\n",
    "start = time.time()\n",
    "resultFit = HEOMFit.run(rho0, tlist4)\n",
    "print(\"hello\")\n",
    "end = time.time()\n",
    "print(end - start)"
   ]
  },
  {
   "cell_type": "code",
   "execution_count": 81,
   "metadata": {},
   "outputs": [],
   "source": [
    "# Define some operators with which we will measure the system\n",
    "# 1,1 element of density matrix - corresonding to groundstate\n",
    "P11p=basis(2,0) * basis(2,0).dag()\n",
    "P22p=basis(2,1) * basis(2,1).dag()\n",
    "# 1,2 element of density matrix  - corresonding to coherence\n",
    "P12p=basis(2,0) * basis(2,1).dag()\n",
    "# Calculate expectation values in the bases\n",
    "P11exp1 = expect(resultFit.states, P11p)\n",
    "P22exp1 = expect(resultFit.states, P22p)\n",
    "P12exp1 = expect(resultFit.states, P12p)"
   ]
  },
  {
   "cell_type": "code",
   "execution_count": 68,
   "metadata": {},
   "outputs": [
    {
     "name": "stdout",
     "output_type": "stream",
     "text": [
      "(array([-0.55901699,  0.55901699]), array([Quantum object: dims = [[2], [1]], shape = (2, 1), type = ket\n",
      "Qobj data =\n",
      "[[ 0.52573111]\n",
      " [-0.85065081]],\n",
      "       Quantum object: dims = [[2], [1]], shape = (2, 1), type = ket\n",
      "Qobj data =\n",
      "[[-0.85065081]\n",
      " [-0.52573111]]], dtype=object))\n"
     ]
    }
   ],
   "source": [
    "print(Hsys.eigenstates())\n",
    "energies, states = Hsys.eigenstates()\n",
    "#rhoss = (states[0]*states[0].dag()*exp(-beta*energies[0]) + states[1]*states[1].dag()*exp(-beta*energies[1]))\n",
    "rhoss = 0.*rho0\n",
    "for kkk,ss in enumerate(states):\n",
    "    rhoss += (states[kkk]*states[kkk].dag()*exp(-beta*energies[kkk]))\n",
    "rhoss = rhoss/rhoss.norm()\n",
    "\n",
    "P12 = expect(rhoss,P12p)\n",
    "P11 = expect(rhoss,P11p)"
   ]
  },
  {
   "cell_type": "code",
   "execution_count": 69,
   "metadata": {},
   "outputs": [
    {
     "name": "stderr",
     "output_type": "stream",
     "text": [
      "/home/neill/anaconda3/lib/python3.7/site-packages/numpy/core/_asarray.py:85: ComplexWarning: Casting complex values to real discards the imaginary part\n",
      "  return array(a, dtype, copy=False, order=order)\n"
     ]
    },
    {
     "data": {
      "text/plain": [
       "<matplotlib.legend.Legend at 0x7fb25c9e6198>"
      ]
     },
     "execution_count": 69,
     "metadata": {},
     "output_type": "execute_result"
    },
    {
     "data": {
      "image/png": "[encoded data removed]",
      "text/plain": [
       "<Figure size 576x576 with 1 Axes>"
      ]
     },
     "metadata": {
      "needs_background": "light"
     },
     "output_type": "display_data"
    }
   ],
   "source": [
    "\n",
    "# Plot the results\n",
    "fig, axes = plt.subplots(1, 1, sharex=True, figsize=(8,8))\n",
    "#axes.plot(tlist, np.real(P11exp)+ np.real(P22exp), 'b', linewidth=2, label=\"P11\")\n",
    "axes.plot(tlist4, np.real(P11exp1), 'b', linewidth=2, label=\"P11 \")\n",
    "axes.plot(tlist4, np.real(P12exp1), 'r', linewidth=2, label=\"P12 \")\n",
    "\n",
    "axes.plot(tlist4, np.real(P11exp3), 'b--', linewidth=2, label=\"P11 \")\n",
    "axes.plot(tlist4, np.real(P12exp3), 'r--', linewidth=2, label=\"P12 \")\n",
    "\n",
    "axes.plot(tlist4, [P11 for t in tlist4], 'r--', linewidth=2, label=\"P12 \")\n",
    "axes.plot(tlist4, [P12 for t in tlist4], 'r--', linewidth=2, label=\"P12 \")\n",
    "axes.set_xlabel(r't', fontsize=28)\n",
    "axes.legend(loc=0, fontsize=12)"
   ]
  },
  {
   "cell_type": "code",
   "execution_count": 44,
   "metadata": {},
   "outputs": [
    {
     "name": "stdout",
     "output_type": "stream",
     "text": [
      "1\n",
      "2\n",
      "3\n"
     ]
    },
    {
     "data": {
      "image/png": "[encoded data removed]",
      "text/plain": [
       "<Figure size 432x288 with 1 Axes>"
      ]
     },
     "metadata": {
      "needs_background": "light"
     },
     "output_type": "display_data"
    },
    {
     "data": {
      "image/png": "[encoded data removed]",
      "text/plain": [
       "<Figure size 432x288 with 1 Axes>"
      ]
     },
     "metadata": {
      "needs_background": "light"
     },
     "output_type": "display_data"
    },
    {
     "data": {
      "image/png": "[encoded data removed]",
      "text/plain": [
       "<Figure size 432x288 with 1 Axes>"
      ]
     },
     "metadata": {
      "needs_background": "light"
     },
     "output_type": "display_data"
    },
    {
     "name": "stdout",
     "output_type": "stream",
     "text": [
      "1\n",
      "2\n"
     ]
    },
    {
     "data": {
      "image/png": "[encoded data removed]",
      "text/plain": [
       "<Figure size 432x288 with 1 Axes>"
      ]
     },
     "metadata": {
      "needs_background": "light"
     },
     "output_type": "display_data"
    },
    {
     "data": {
      "image/png": "[encoded data removed]",
      "text/plain": [
       "<Figure size 432x288 with 1 Axes>"
      ]
     },
     "metadata": {
      "needs_background": "light"
     },
     "output_type": "display_data"
    }
   ],
   "source": [
    "#lets also try correlation function fitting\n",
    "\n",
    "#tlist2 = tlist\n",
    "tlist2 = tlist3  #use longer timescale data\n",
    "\n",
    "from scipy.optimize import curve_fit\n",
    "\n",
    "#seperate functions for plotting later:\n",
    "\n",
    "\n",
    "\n",
    "def fit_func_nocost(x, a, b, c, N):\n",
    "    tot = 0\n",
    "    for i in range(N):\n",
    "        # print(i)\n",
    "        tot += a[i]*np.exp(b[i]*x)*np.cos(c[i]*x)\n",
    "    cost = 0.\n",
    "    \n",
    "    return tot   \n",
    "\n",
    "def wrapper_fit_func_nocost(x, N, *args):\n",
    "    a, b, c = list(args[0][:N]), list(args[0][N:2*N]), list(args[0][2*N:3*N])\n",
    "    # print(\"debug\")\n",
    "    return fit_func_nocost(x, a, b, c, N)\n",
    "\n",
    "\n",
    "# function that evaluates values with fitted params at\n",
    "# given inputs\n",
    "def checker(tlist, vals, N):\n",
    "    y = []\n",
    "    for i in tlist:\n",
    "        # print(i)\n",
    "        \n",
    "        y.append(wrapper_fit_func_nocost(i, N, vals))\n",
    "    return y\n",
    "\n",
    "\n",
    "#######\n",
    "#Real part \n",
    "\n",
    "def wrapper_fit_func(x, N, *args):\n",
    "    a, b, c = list(args[0][:N]), list(args[0][N:2*N]), list(args[0][2*N:3*N])\n",
    "    # print(\"debug\")\n",
    "    return fit_func(x, a, b, c, N)\n",
    "\n",
    "\n",
    "\n",
    "def fit_func(x, a, b, c, N):\n",
    "    tot = 0\n",
    "    for i in range(N):\n",
    "        # print(i)\n",
    "        tot += a[i]*np.exp(b[i]*x)*np.cos(c[i]*x )\n",
    "    cost = 0.\n",
    "    for i in range(N):\n",
    "        #print(i)\n",
    "        cost += ((corrRana[0]-a[i]))\n",
    "        \n",
    "        \n",
    "    tot+=0.0*cost\n",
    "    \n",
    "    return tot      \n",
    "\n",
    "def fitterR(ans, tlist, k):\n",
    "    # the actual computing of fit\n",
    "    popt = []\n",
    "    pcov = [] \n",
    "    # tries to fit for k exponents\n",
    "    for i in range(k):\n",
    "        #params_0 = [0]*(2*(i+1))\n",
    "        params_0 = [0.]*(3*(i+1))\n",
    "        upper_a = 200*abs(max(ans, key = abs))\n",
    "        #sets initial guess\n",
    "        guess = []\n",
    "        #aguess = [ans[0]]*(i+1)#[max(ans)]*(i+1)\n",
    "        aguess = [abs(max(ans, key = abs))]*(i+1)\n",
    "        bguess = [-wc]*(i+1)\n",
    "        cguess = [wc]*(i+1)\n",
    "        \n",
    "        guess.extend(aguess)\n",
    "        guess.extend(bguess)\n",
    "        guess.extend(cguess) #c \n",
    "       \n",
    "        # sets bounds\n",
    "        # a's = anything , b's negative\n",
    "        # sets lower bound\n",
    "        b_lower = []\n",
    "        alower = [-upper_a]*(i+1)\n",
    "        blower = [-np.inf]*(i+1)\n",
    "        clower = [0]*(i+1)\n",
    "        \n",
    "        b_lower.extend(alower)\n",
    "        b_lower.extend(blower)\n",
    "        b_lower.extend(clower)\n",
    "        \n",
    "        # sets higher bound\n",
    "        b_higher = []\n",
    "        ahigher = [upper_a]*(i+1)\n",
    "        #bhigher = [np.inf]*(i+1)\n",
    "        bhigher = [0]*(i+1)\n",
    "        chigher = [np.inf]*(i+1)\n",
    "        \n",
    "        b_higher.extend(ahigher)\n",
    "        b_higher.extend(bhigher)\n",
    "        b_higher.extend(chigher)\n",
    "      \n",
    "        param_bounds = (b_lower, b_higher)\n",
    "        \n",
    "        p1, p2 = curve_fit(lambda x, *params_0: wrapper_fit_func(x, i+1, \\\n",
    "            params_0), tlist, ans, p0=guess, sigma=[0.01 for t in tlist], bounds = param_bounds, maxfev = 100000000)\n",
    "        popt.append(p1)\n",
    "        pcov.append(p2)\n",
    "        print(i+1)\n",
    "    return popt\n",
    "# print(popt)\n",
    "\n",
    "\n",
    "\n",
    "k = 3\n",
    "popt1 = fitterR(corrRana, tlist2, k)\n",
    "for i in range(k):\n",
    "    y = checker(tlist2, popt1[i],i+1)\n",
    "    plt.plot(tlist2, corrRana, tlist2, y)\n",
    "    \n",
    "    plt.show()\n",
    "    \n",
    "\n",
    "\n",
    "#y = checker(tlist3, popt1[k-1],k)\n",
    "#plt.plot(tlist3, real(ctlong), tlist3, y)\n",
    "\n",
    "#plt.show()\n",
    "\n",
    "\n",
    "#######\n",
    "#Imag part \n",
    "\n",
    "\n",
    "\n",
    "def fit_func2(x, a, b, c, N):\n",
    "    tot = 0\n",
    "    for i in range(N):\n",
    "        # print(i)\n",
    "        tot += a[i]*np.exp(b[i]*x)*np.sin(c[i]*x)\n",
    "    cost = 0.\n",
    "    for i in range(N):\n",
    "        # print(i)\n",
    "        cost += (corrIana[0]-a[i])\n",
    "        \n",
    "        \n",
    "    tot+=0*cost\n",
    "    \n",
    "    return tot \n",
    "# actual fitting function\n",
    "\n",
    "\n",
    "def wrapper_fit_func2(x, N, *args):\n",
    "    a, b, c = list(args[0][:N]), list(args[0][N:2*N]), list(args[0][2*N:3*N])\n",
    "    # print(\"debug\")\n",
    "    return fit_func2(x, a, b, c,  N)\n",
    "\n",
    "# function that evaluates values with fitted params at\n",
    "# given inputs\n",
    "def checker2(tlist, vals, N):\n",
    "    y = []\n",
    "    for i in tlist:\n",
    "        # print(i)\n",
    "        \n",
    "        y.append(wrapper_fit_func2(i, N, vals))\n",
    "    return y\n",
    "\n",
    "  \n",
    "    \n",
    "def fitterI(ans, tlist, k):\n",
    "    # the actual computing of fit\n",
    "    popt = []\n",
    "    pcov = [] \n",
    "    # tries to fit for k exponents\n",
    "    for i in range(k):\n",
    "        #params_0 = [0]*(2*(i+1))\n",
    "        params_0 = [0.]*(3*(i+1))\n",
    "        upper_a = abs(max(ans, key = abs))*10\n",
    "        #sets initial guess\n",
    "        guess = []\n",
    "        #aguess = [ans[0]]*(i+1)#[max(ans)]*(i+1)\n",
    "        aguess = [-abs(max(ans, key = abs))]*(i+1)\n",
    "        bguess = [-2]*(i+1)\n",
    "        cguess = [1]*(i+1)\n",
    "       \n",
    "        guess.extend(aguess)\n",
    "        guess.extend(bguess)\n",
    "        guess.extend(cguess) #c \n",
    "        \n",
    "        # sets bounds\n",
    "        # a's = anything , b's negative\n",
    "        # sets lower bound\n",
    "        b_lower = []\n",
    "        alower = [-upper_a]*(i+1)\n",
    "        blower = [-1000]*(i+1)\n",
    "        clower = [0]*(i+1)\n",
    "       \n",
    "        b_lower.extend(alower)\n",
    "        b_lower.extend(blower)\n",
    "        b_lower.extend(clower)\n",
    "      \n",
    "        # sets higher bound\n",
    "        b_higher = []\n",
    "        ahigher = [upper_a]*(i+1)\n",
    "        bhigher = [0.01]*(i+1)        \n",
    "        chigher = [1000]*(i+1)\n",
    "\n",
    "        b_higher.extend(ahigher)\n",
    "        b_higher.extend(bhigher)\n",
    "        b_higher.extend(chigher)\n",
    "    \n",
    "        param_bounds = (b_lower, b_higher)\n",
    "        \n",
    "        p1, p2 = curve_fit(lambda x, *params_0: wrapper_fit_func2(x, i+1, \\\n",
    "            params_0), tlist, ans, p0=guess, sigma=[0.01 for t in tlist], bounds = param_bounds, maxfev = 100000000)\n",
    "        popt.append(p1)\n",
    "        pcov.append(p2)\n",
    "        print(i+1)\n",
    "    return popt\n",
    "# print(popt)\n",
    "\n",
    "k1 = 2\n",
    "popt2 = fitterI(corrIana, tlist2, k1)\n",
    "for i in range(k1):\n",
    "    y = checker2(tlist2, popt2[i], i+1)\n",
    "    plt.plot(tlist2, corrIana, tlist2, y)\n",
    "    plt.show()  \n",
    "    \n",
    "#tlist3 = linspace(0,1,1000)\n",
    "\n",
    "#y = checker(tlist3, popt2[k-1],k)\n",
    "#plt.plot(tlist3, imag(ctlong), tlist3, y)\n",
    "\n",
    "#plt.show()"
   ]
  },
  {
   "cell_type": "code",
   "execution_count": 46,
   "metadata": {},
   "outputs": [
    {
     "name": "stdout",
     "output_type": "stream",
     "text": [
      "[(0.008359316447540356+0j), (0.08565588196878364+0j), (-0.035219291076018705+0j), (0.008359316447540356-0j), (0.08565588196878364-0j), (-0.035219291076018705-0j)]\n",
      "[(0.3360122377935487-2.8792395238654714e-21j), (2.1950178246197978-5.367862183329457e-19j), (4.938904794844101-3.94178646457276j), (0.3360122377935487+2.8792395238654714e-21j), (2.1950178246197978+5.367862183329457e-19j), (4.938904794844101+3.94178646457276j)]\n"
     ]
    }
   ],
   "source": [
    "#ckAR1 = list(popt1[k-1])[:len(list(popt1[k-1]))//2]\n",
    "ckAR1 = list(popt1[k-1])[:k]\n",
    "#0.5 from cosine\n",
    "ckAR = [0.5*x+0j for x in ckAR1]\n",
    "\n",
    "#dress with exp(id)\n",
    "\n",
    "\n",
    "ckAR.extend(conjugate(ckAR)) #just directly double\n",
    "\n",
    "\n",
    "# vkAR, vkAI\n",
    "vkAR1 = list(popt1[k-1])[k:2*k] #damping terms\n",
    "wkAR1 = list(popt1[k-1])[2*k:3*k] #oscillating term\n",
    "vkAR = [-x-1.0j*wkAR1[kk] for kk, x in enumerate(vkAR1)] #combine\n",
    "vkAR.extend([-x+1.0j*wkAR1[kk] for kk, x in enumerate(vkAR1)]) #double\n",
    "\n",
    "\n",
    "print(ckAR)\n",
    "print(vkAR)\n",
    "\n"
   ]
  },
  {
   "cell_type": "code",
   "execution_count": 47,
   "metadata": {},
   "outputs": [
    {
     "name": "stdout",
     "output_type": "stream",
     "text": [
      "[0.03516704463175203j, 0.25843250696856834j, -0.03516704463175203j, -0.25843250696856834j]\n",
      "[(1.4366341742791666-1.8040636871317122j), (1.2346166778971621-0.16151008498579547j), (1.4366341742791666+1.8040636871317122j), (1.2346166778971621+0.16151008498579547j)]\n"
     ]
    }
   ],
   "source": [
    "#ckAR1 = list(popt1[k-1])[:len(list(popt1[k-1]))//2]\n",
    "ckAI1 = list(popt2[k1-1])[:k1]\n",
    "#0.5 from cosine\n",
    "ckAI = [-1.0j*0.5*x for x in ckAI1]\n",
    "\n",
    "#dress with exp(id)\n",
    "\n",
    "#for kk in range(k1):\n",
    "#    ckAI[kk] = ckAI[kk]*exp(1.0j*list(popt2[k1-1])[3*k1+kk])\n",
    "\n",
    "ckAI.extend(conjugate(ckAI)) #just directly double\n",
    "\n",
    "\n",
    "# vkAR, vkAI\n",
    "vkAI1 = list(popt2[k1-1])[k1:2*k1] #damping terms\n",
    "wkAI1 = list(popt2[k1-1])[2*k1:3*k1] #oscillating term\n",
    "vkAI = [-x-1.0j*wkAI1[kk] for kk, x in enumerate(vkAI1)] #combine\n",
    "vkAI.extend([-x+1.0j*wkAI1[kk] for kk, x in enumerate(vkAI1)]) #double\n",
    "\n",
    "\n",
    "\n",
    "print(ckAI)\n",
    "print(vkAI)"
   ]
  },
  {
   "cell_type": "code",
   "execution_count": 48,
   "metadata": {},
   "outputs": [],
   "source": [
    "#check the spectrum of the fit\n",
    "\n",
    "def spectrum_matsubara_approx(w, ck, vk):\n",
    "    \"\"\"\n",
    "    Calculates the approximate Matsubara correlation spectrum\n",
    "    from ck and vk.\n",
    "\n",
    "    Parameters\n",
    "    ==========\n",
    "\n",
    "    w: np.ndarray\n",
    "        A 1D numpy array of frequencies.\n",
    "\n",
    "    ck: float\n",
    "        The coefficient of the exponential function.\n",
    "\n",
    "    vk: float\n",
    "        The frequency of the exponential function.\n",
    "    \"\"\"\n",
    "    return ck*2*(vk)/(w**2 + vk**2)\n",
    "\n",
    "def spectrum_approx(w, ck,vk):\n",
    "    \"\"\"\n",
    "    Calculates the approximate non Matsubara correlation spectrum\n",
    "    from the bath parameters.\n",
    "\n",
    "    Parameters\n",
    "    ==========\n",
    "    w: np.ndarray\n",
    "        A 1D numpy array of frequencies.\n",
    "\n",
    "    coup_strength: float\n",
    "        The coupling strength parameter.\n",
    "\n",
    "    bath_broad: float\n",
    "        A parameter characterizing the FWHM of the spectral density, i.e.,\n",
    "        the bath broadening.\n",
    "\n",
    "    bath_freq: float\n",
    "        The bath frequency.\n",
    "    \"\"\"\n",
    "    sw = []\n",
    "    for kk,ckk in enumerate(ck):\n",
    "        \n",
    "        sw.append((ckk*(real(vk[kk]))/((w-imag(vk[kk]))**2+(real(vk[kk])**2))))\n",
    "    return sw\n",
    "\n"
   ]
  },
  {
   "cell_type": "code",
   "execution_count": 49,
   "metadata": {},
   "outputs": [
    {
     "name": "stdout",
     "output_type": "stream",
     "text": [
      "10\n"
     ]
    },
    {
     "data": {
      "image/png": "[encoded data removed]",
      "text/plain": [
       "<Figure size 576x576 with 1 Axes>"
      ]
     },
     "metadata": {
      "needs_background": "light"
     },
     "output_type": "display_data"
    },
    {
     "data": {
      "image/png": "[encoded data removed]",
      "text/plain": [
       "<Figure size 576x576 with 1 Axes>"
      ]
     },
     "metadata": {
      "needs_background": "light"
     },
     "output_type": "display_data"
    }
   ],
   "source": [
    "\n",
    "\n",
    "\n",
    "wlist2 = np.linspace(-2*pi*4,2 * pi *4 , 50000)\n",
    "wlist2 = np.linspace(-2,2 , 50000)\n",
    "\n",
    "\n",
    "\n",
    "s1 =  [w * alpha * e**(-abs(w)/wc) *  ((1/(e**(w/T)-1))+1) for w in wlist2]\n",
    "s2 =  spectrum_approx(wlist2,ckAR,vkAR)\n",
    "s2.extend(spectrum_approx(wlist2,[1.0j*ckk for ckk in ckAI],vkAI))\n",
    "\n",
    "#s2 =  spectrum_approx(wlist2,ckAI,vkAI)\n",
    "print(len(s2))\n",
    "s2sum = [0. for w in wlist2]\n",
    "for s22 in s2:\n",
    "    for kk,ww in enumerate(wlist2):\n",
    "        s2sum[kk] += s22[kk]\n",
    "\n",
    "\n",
    "fig, axes = plt.subplots(1, 1, sharex=True, figsize=(8,8))\n",
    "axes.plot(wlist2, s1, 'r', linewidth=2)\n",
    "axes.plot(wlist2, s2sum, 'b', linewidth=2)\n",
    "\n",
    "fig, axes = plt.subplots(1, 1, sharex=True, figsize=(8,8))\n",
    "for sww in s2:\n",
    "    axes.plot(wlist2, sww, linewidth=2)\n",
    "#axes.plot(wlist2, s2sum, 'b', linewidth=2)\n",
    "\n",
    "#axes.axvline(x=Del)\n",
    "\n",
    "\n",
    "\n"
   ]
  },
  {
   "cell_type": "code",
   "execution_count": 50,
   "metadata": {},
   "outputs": [],
   "source": [
    "\n",
    "Q2 = []\n",
    "\n",
    "NR = len(ckAR)\n",
    "NI = len(ckAI)\n",
    "\n",
    "Q2.extend([ sigmaz() for kk in range(NR)])\n",
    "Q2.extend([ sigmaz() for kk in range(NI)])\n",
    "options = Options(nsteps=15000, store_states=True, rtol=1e-14, atol=1e-14)"
   ]
  },
  {
   "cell_type": "code",
   "execution_count": 51,
   "metadata": {},
   "outputs": [
    {
     "name": "stderr",
     "output_type": "stream",
     "text": [
      "/mnt/g/dropbox/Dropbox/github/tarunheom/heom_paper/heom_fmotd.py:222: UserWarning: Expected simplified input.\n",
      "  warnings.warn(\"Expected simplified input.\")\n"
     ]
    },
    {
     "name": "stdout",
     "output_type": "stream",
     "text": [
      "hello\n",
      "0.6663708686828613\n"
     ]
    }
   ],
   "source": [
    "\n",
    "\n",
    "NC = 5\n",
    "\n",
    "#Q2 = [Q for kk in range(NR+NI)]\n",
    "#print(Q2)\n",
    "options = Options(nsteps=15000, store_states=True, rtol=1e-14, atol=1e-14)\n",
    "import time\n",
    "\n",
    "start = time.time()\n",
    "\n",
    "#HEOMFit = BosonicHEOMSolver(Hsys, Q2, ckAR2, ckAI2, vkAR2, vkAI2, NC, options=options)\n",
    "HEOMFit = BosonicHEOMSolver(Hsys, Q2, ckAR, ckAI, vkAR, vkAI, NC, options=options)\n",
    "print(\"hello\")\n",
    "end = time.time()\n",
    "print(end - start)"
   ]
  },
  {
   "cell_type": "code",
   "execution_count": 52,
   "metadata": {},
   "outputs": [
    {
     "name": "stdout",
     "output_type": "stream",
     "text": [
      "hello\n",
      "9.978365182876587\n"
     ]
    }
   ],
   "source": [
    "tlist4 = np.linspace(0, 50, 1000)\n",
    "\n",
    "rho0 = basis(2,0) * basis(2,0).dag()   \n",
    "\n",
    "\n",
    "import time\n",
    "\n",
    "start = time.time()\n",
    "resultFit = HEOMFit.run(rho0, tlist4)\n",
    "print(\"hello\")\n",
    "end = time.time()\n",
    "print(end - start)"
   ]
  },
  {
   "cell_type": "code",
   "execution_count": 70,
   "metadata": {},
   "outputs": [
    {
     "data": {
      "text/plain": [
       "<matplotlib.legend.Legend at 0x7fb25ca4ff60>"
      ]
     },
     "execution_count": 70,
     "metadata": {},
     "output_type": "execute_result"
    },
    {
     "data": {
      "image/png": "[encoded data removed]",
      "text/plain": [
       "<Figure size 576x576 with 1 Axes>"
      ]
     },
     "metadata": {
      "needs_background": "light"
     },
     "output_type": "display_data"
    }
   ],
   "source": [
    "# Define some operators with which we will measure the system\n",
    "# 1,1 element of density matrix - corresonding to groundstate\n",
    "P11p=basis(2,0) * basis(2,0).dag()\n",
    "P22p=basis(2,1) * basis(2,1).dag()\n",
    "# 1,2 element of density matrix  - corresonding to coherence\n",
    "P12p=basis(2,0) * basis(2,1).dag()\n",
    "# Calculate expectation values in the bases\n",
    "P11expC = expect(resultFit.states, P11p)\n",
    "P22expC = expect(resultFit.states, P22p)\n",
    "P12expC = expect(resultFit.states, P12p)\n",
    "\n",
    "# Plot the results\n",
    "fig, axes = plt.subplots(1, 1, sharex=True, figsize=(8,8))\n",
    "#axes.plot(tlist, np.real(P11exp)+ np.real(P22exp), 'b', linewidth=2, label=\"P11\")\n",
    "axes.plot(tlist4, np.real(P11expC), 'b', linewidth=2, label=\"P11 C\")\n",
    "axes.plot(tlist4, np.real(P12expC), 'r', linewidth=2, label=\"P12 C\")\n",
    "\n",
    "axes.plot(tlist4, np.real(P11exp3), 'b--', linewidth=2, label=\"P11 S\")\n",
    "axes.plot(tlist4, np.real(P12exp3), 'r--', linewidth=2, label=\"P12 S\")\n",
    "\n",
    "axes.plot(tlist4, [P11 for t in tlist4], 'r--', linewidth=2, label=\"P12 \")\n",
    "axes.plot(tlist4, [P12 for t in tlist4], 'r--', linewidth=2, label=\"P12 \")\n",
    "axes.set_xlabel(r't', fontsize=28)\n",
    "axes.legend(loc=0, fontsize=12)"
   ]
  },
  {
   "cell_type": "code",
   "execution_count": 38,
   "metadata": {},
   "outputs": [
    {
     "data": {
      "text/html": [
       "<table><tr><th>Software</th><th>Version</th></tr><tr><td>QuTiP</td><td>4.5.0.dev0</td></tr><tr><td>Numpy</td><td>1.18.1</td></tr><tr><td>SciPy</td><td>1.4.1</td></tr><tr><td>matplotlib</td><td>3.1.2</td></tr><tr><td>Cython</td><td>0.29.14</td></tr><tr><td>Number of CPUs</td><td>8</td></tr><tr><td>BLAS Info</td><td>INTEL MKL</td></tr><tr><td>IPython</td><td>7.11.1</td></tr><tr><td>Python</td><td>3.7.3 (default, Mar 27 2019, 22:11:17) \n",
       "[GCC 7.3.0]</td></tr><tr><td>OS</td><td>posix [linux]</td></tr><tr><td colspan='2'>Tue Aug 04 15:08:09 2020 JST</td></tr></table>"
      ],
      "text/plain": [
       "<IPython.core.display.HTML object>"
      ]
     },
     "execution_count": 38,
     "metadata": {},
     "output_type": "execute_result"
    }
   ],
   "source": [
    "from qutip.ipynbtools import version_table\n",
    "\n",
    "version_table()"
   ]
  },
  {
   "cell_type": "code",
   "execution_count": null,
   "metadata": {},
   "outputs": [],
   "source": []
  },
  {
   "cell_type": "code",
   "execution_count": null,
   "metadata": {},
   "outputs": [],
   "source": [
    "def pure_dephasing_evolution_analytical(tlist, wq, ck, vk):\n",
    "    \"\"\"\n",
    "    Computes the propagating function appearing in the pure dephasing model.\n",
    "        \n",
    "    Parameters\n",
    "    ----------\n",
    "    t: float\n",
    "        A float specifying the time at which to calculate the integral.\n",
    "    \n",
    "    wq: float\n",
    "        The qubit frequency in the Hamiltonian.\n",
    "\n",
    "    ck: ndarray\n",
    "        The list of coefficients in the correlation function.\n",
    "        \n",
    "    vk: ndarray\n",
    "        The list of frequencies in the correlation function.\n",
    "    \n",
    "    Returns\n",
    "    -------\n",
    "    integral: float\n",
    "        The value of the integral function at time t.\n",
    "    \"\"\"\n",
    "    evolution = np.array([np.exp(-1j*wq*t - correlation_integral(t, ck, vk)) for t in tlist])\n",
    "    return evolution\n",
    "\n",
    "def correlation_integral(t, ck, vk):\n",
    "    \"\"\"\n",
    "    Computes the integral sum function appearing in the pure dephasing model.\n",
    "    \n",
    "    If the correlation function is a sum of exponentials then this sum\n",
    "    is given by:\n",
    "    \n",
    "    .. math:\n",
    "        \n",
    "        \\int_0^{t}d\\tau D(\\tau) = \\sum_k\\frac{c_k}{\\mu_k^2}e^{\\mu_k t}\n",
    "        + \\frac{\\bar c_k}{\\bar \\mu_k^2}e^{\\bar \\mu_k t}\n",
    "        - \\frac{\\bar \\mu_k c_k + \\mu_k \\bar c_k}{\\mu_k \\bar \\mu_k} t\n",
    "        + \\frac{\\bar \\mu_k^2 c_k + \\mu_k^2 \\bar c_k}{\\mu_k^2 \\bar \\mu_k^2}\n",
    "        \n",
    "    Parameters\n",
    "    ----------\n",
    "    t: float\n",
    "        A float specifying the time at which to calculate the integral.\n",
    "    \n",
    "    ck: ndarray\n",
    "        The list of coefficients in the correlation function.\n",
    "        \n",
    "    vk: ndarray\n",
    "        The list of frequencies in the correlation function.\n",
    "    \n",
    "    Returns\n",
    "    -------\n",
    "    integral: float\n",
    "        The value of the integral function at time t.\n",
    "    \"\"\"\n",
    "    t1 = np.sum(np.multiply(np.divide(ck, vk**2), np.exp(vk*t) - 1))\n",
    "    \n",
    "    t2 = np.sum(np.multiply(np.divide(np.conjugate(ck), np.conjugate(vk)**2),\n",
    "                            np.exp(np.conjugate(vk)*t) - 1))\n",
    "    t3 = np.sum((np.divide(ck, vk) + np.divide(np.conjugate(ck), np.conjugate(vk)))*t)\n",
    "\n",
    "    return 2*(t1+t2-t3)"
   ]
  },
  {
   "cell_type": "code",
   "execution_count": null,
   "metadata": {},
   "outputs": [],
   "source": [
    "tlist2 = tlist\n",
    "\n",
    "from scipy.optimize import curve_fit\n",
    "def wrapper_fit_func(x, N, *args):\n",
    "    a, b, c, d = list(args[0][:N]), list(args[0][N:2*N]), list(args[0][2*N:3*N]), list(args[0][3*N:4*N])\n",
    "    # print(\"debug\")\n",
    "    return fit_func(x, a, b, c, d, N)\n",
    "\n",
    "# actual fitting function\n",
    "def fit_func(x, a, b, c, d, N):\n",
    "    tot = 0\n",
    "    for i in range(N):\n",
    "        # print(i)\n",
    "        tot += a[i]*np.exp(b[i]*x)*np.cos(c[i]*x + d[i])\n",
    "    return tot\n",
    "\n",
    "\n",
    "def fitterR(ans, tlist, k):\n",
    "    # the actual computing of fit\n",
    "    popt = []\n",
    "    pcov = [] \n",
    "    # tries to fit for k exponents\n",
    "    for i in range(k):\n",
    "        #params_0 = [0]*(2*(i+1))\n",
    "        params_0 = [0.]*(4*(i+1))\n",
    "        upper_a = abs(max(ans, key = abs))\n",
    "        #sets initial guess\n",
    "        guess = []\n",
    "        #aguess = [ans[0]]*(i+1)#[max(ans)]*(i+1)\n",
    "        aguess = [abs(max(ans, key = abs))]*(i+1)\n",
    "        bguess = [-10]*(i+1)\n",
    "        cguess = [4]*(i+1)\n",
    "        dguess = [0]*(i+1)\n",
    "        guess.extend(aguess)\n",
    "        guess.extend(bguess)\n",
    "        guess.extend(cguess) #c \n",
    "        guess.extend(dguess) #d\n",
    "        # sets bounds\n",
    "        # a's = anything , b's negative\n",
    "        # sets lower bound\n",
    "        b_lower = []\n",
    "        alower = [-upper_a]*(i+1)\n",
    "        blower = [-np.inf]*(i+1)\n",
    "        clower = [0]*(i+1)\n",
    "        dlower = [0]*(i+1)\n",
    "        b_lower.extend(alower)\n",
    "        b_lower.extend(blower)\n",
    "        b_lower.extend(clower)\n",
    "        b_lower.extend(dlower)\n",
    "        # sets higher bound\n",
    "        b_higher = []\n",
    "        ahigher = [upper_a]*(i+1)\n",
    "        bhigher = [np.inf]*(i+1)\n",
    "        chigher = [np.inf]*(i+1)\n",
    "        dhigher = [2*pi]*(i+1)\n",
    "        b_higher.extend(ahigher)\n",
    "        b_higher.extend(bhigher)\n",
    "        b_higher.extend(chigher)\n",
    "        b_higher.extend(dhigher)\n",
    "        param_bounds = (b_lower, b_higher)\n",
    "        \n",
    "        p1, p2 = curve_fit(lambda x, *params_0: wrapper_fit_func(x, i+1, \\\n",
    "            params_0), tlist, ans, p0=guess, bounds = param_bounds)\n",
    "        popt.append(p1)\n",
    "        pcov.append(p2)\n",
    "        print(i+1)\n",
    "    return popt\n",
    "# print(popt)\n",
    "\n",
    "# function that evaluates values with fitted params at\n",
    "# given inputs\n",
    "def checker(tlist, vals, N):\n",
    "    y = []\n",
    "    for i in tlist:\n",
    "        # print(i)\n",
    "        \n",
    "        y.append(wrapper_fit_func(i, N, vals))\n",
    "    return y\n",
    "\n",
    "k = 2\n",
    "popt1 = fitterR(corrRana, tlist2, k)\n",
    "for i in range(k):\n",
    "    y = checker(tlist2, popt1[i],i+1)\n",
    "    plt.plot(tlist2, corrRana, tlist2, y)\n",
    "    \n",
    "    plt.show()\n",
    "    \n",
    "\n",
    "\n",
    "y = checker(tlist3, popt1[k-1],k)\n",
    "plt.plot(tlist3, real(ctlong), tlist3, y)\n",
    "\n",
    "plt.show()\n",
    "    \n",
    "\n",
    "def fit_func2(x, a, b, c, d, N):\n",
    "    tot = 0\n",
    "    for i in range(N):\n",
    "        # print(i)\n",
    "        tot += a[i]*np.exp(b[i]*x)*np.cos(c[i]*x + d[i])\n",
    "    cost = 0.\n",
    "    for i in range(N):\n",
    "        # print(i)\n",
    "        cost += a[i]*np.cos(d[i])\n",
    "        \n",
    "        \n",
    "    tot+=0.01*cost\n",
    "    \n",
    "    return tot      \n",
    "# actual fitting function\n",
    "def wrapper_fit_func2(x, N, *args):\n",
    "    a, b, c, d = list(args[0][:N]), list(args[0][N:2*N]), list(args[0][2*N:3*N]), list(args[0][3*N:4*N])\n",
    "    # print(\"debug\")\n",
    "    return fit_func2(x, a, b, c, d, N)\n",
    "\n",
    "  \n",
    "    \n",
    "def fitterI(ans, tlist, k):\n",
    "    # the actual computing of fit\n",
    "    popt = []\n",
    "    pcov = [] \n",
    "    # tries to fit for k exponents\n",
    "    for i in range(k):\n",
    "        #params_0 = [0]*(2*(i+1))\n",
    "        params_0 = [0.]*(4*(i+1))\n",
    "        upper_a = abs(max(ans, key = abs))*10\n",
    "        #sets initial guess\n",
    "        guess = []\n",
    "        #aguess = [ans[0]]*(i+1)#[max(ans)]*(i+1)\n",
    "        aguess = [abs(max(ans, key = abs))]*(i+1)\n",
    "        bguess = [0]*(i+1)\n",
    "        cguess = [0]*(i+1)\n",
    "        dguess = [pi]*(i+1)\n",
    "        guess.extend(aguess)\n",
    "        guess.extend(bguess)\n",
    "        guess.extend(cguess) #c \n",
    "        guess.extend(dguess) #d\n",
    "        # sets bounds\n",
    "        # a's = anything , b's negative\n",
    "        # sets lower bound\n",
    "        b_lower = []\n",
    "        alower = [-upper_a]*(i+1)\n",
    "        blower = [-np.inf]*(i+1)\n",
    "        clower = [0]*(i+1)\n",
    "        dlower = [0]*(i+1)\n",
    "        b_lower.extend(alower)\n",
    "        b_lower.extend(blower)\n",
    "        b_lower.extend(clower)\n",
    "        b_lower.extend(dlower)\n",
    "        # sets higher bound\n",
    "        b_higher = []\n",
    "        ahigher = [upper_a]*(i+1)\n",
    "        bhigher = [0.01]*(i+1)        \n",
    "        chigher = [np.inf]*(i+1)\n",
    "        dhigher = [2*pi]*(i+1)\n",
    "        b_higher.extend(ahigher)\n",
    "        b_higher.extend(bhigher)\n",
    "        b_higher.extend(chigher)\n",
    "        b_higher.extend(dhigher)\n",
    "        param_bounds = (b_lower, b_higher)\n",
    "        \n",
    "        p1, p2 = curve_fit(lambda x, *params_0: wrapper_fit_func2(x, i+1, \\\n",
    "            params_0), tlist, ans, p0=guess, bounds = param_bounds)\n",
    "        popt.append(p1)\n",
    "        pcov.append(p2)\n",
    "        print(i+1)\n",
    "    return popt\n",
    "# print(popt)\n",
    "\n",
    "k1 = 2\n",
    "popt2 = fitterI(corrIana, tlist2, k1)\n",
    "for i in range(k1):\n",
    "    y = checker(tlist2, popt2[i], i+1)\n",
    "    plt.plot(tlist2, corrIana, tlist2, y)\n",
    "    plt.show()  \n",
    "    \n",
    "#tlist3 = linspace(0,1,1000)\n",
    "\n",
    "y = checker(tlist3, popt2[k-1],k)\n",
    "plt.plot(tlist3, imag(ctlong), tlist3, y)\n",
    "\n",
    "plt.show()"
   ]
  }
 ],
 "metadata": {
  "anaconda-cloud": {},
  "kernelspec": {
   "display_name": "Python 3",
   "language": "python",
   "name": "python3"
  },
  "language_info": {
   "codemirror_mode": {
    "name": "ipython",
    "version": 3
   },
   "file_extension": ".py",
   "mimetype": "text/x-python",
   "name": "python",
   "nbconvert_exporter": "python",
   "pygments_lexer": "ipython3",
   "version": "3.7.3"
  }
 },
 "nbformat": 4,
 "nbformat_minor": 1
}
