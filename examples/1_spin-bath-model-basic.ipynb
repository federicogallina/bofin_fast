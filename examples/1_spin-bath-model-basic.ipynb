{
 "cells": [
  {
   "cell_type": "markdown",
   "metadata": {},
   "source": [
    "## Example 1: Spin-Bath model\n",
    "### Introduction"
   ]
  },
  {
   "cell_type": "markdown",
   "metadata": {},
   "source": [
    "The HEOM method solves the dynamics and steady state of a system and its environment, the latter of which is encoded in a set of auxiliary density matrices.\n",
    "\n",
    "In this example we show the evolution of a single two-level system in contact with a single Bosonic environment.  The properties of the system are encoded in Hamiltonian, and a coupling operator which describes how it is coupled to the environment.\n",
    "\n",
    "The Bosonic environment is implicitly assumed to obey a particular Hamiltonian (see paper), the parameters of which are encoded in the spectral density, and subsequently the free-bath correlation functions.\n",
    "\n",
    "In the example below we show how to model the overdamped Drude-Lorentz Spectral Density, commonly used with the HEOM. We show how to do this the Matsubara, Pade and fitting decompositions, and compare their convergence.  \n",
    "\n",
    "### Drude-Lorentz (overdamped) spectral density\n",
    "The Drude-Lorentz spectral density is:\n",
    "\n",
    "$$J_D(\\omega)= \\frac{2\\omega\\lambda\\gamma}{{\\gamma}^2 + \\omega^2}$$\n",
    "\n",
    "where $\\lambda$ scales the coupling strength, and $\\gamma$ is the cut-off frequency.  We use the convention,\n",
    "\\begin{equation*}\n",
    "C(t) = \\int_0^{\\infty} d\\omega \\frac{J_D(\\omega)}{\\pi}[\\coth(\\beta\\omega) \\cos(\\omega \\tau) - i \\sin(\\omega \\tau)]\n",
    "\\end{equation*}\n",
    "\n",
    "With the HEOM we must use an exponential decomposition:\n",
    "\n",
    "\\begin{equation*}\n",
    "C(t)=\\sum_{k=0}^{k=\\infty} c_k e^{-\\nu_k t}\n",
    "\\end{equation*}\n",
    "\n",
    "As an example, the Matsubara decomposition of the Drude-Lorentz spectral density is given by:\n",
    "\n",
    "\\begin{equation*}\n",
    "    \\nu_k = \\begin{cases}\n",
    "               \\gamma               & k = 0\\\\\n",
    "               {2 \\pi k} / {\\beta }  & k \\geq 1\\\\\n",
    "           \\end{cases}\n",
    "\\end{equation*}\n",
    "\n",
    "\\begin{equation*}\n",
    "    c_k = \\begin{cases}\n",
    "               \\lambda \\gamma (\\cot(\\beta \\gamma / 2) - i)             & k = 0\\\\\n",
    "               4 \\lambda \\gamma \\nu_k / \\{(nu_k^2 - \\gamma^2)\\beta \\}    & k \\geq 1\\\\\n",
    "           \\end{cases}\n",
    "\\end{equation*}\n",
    "\n",
    "Note that in the above, and the following, we set $\\hbar = k_\\mathrm{B} = 1$.\n",
    "\n",
    "\n",
    "\n",
    "Note that in the above, and the following, we set $\\hbar = k_\\mathrm{B} = 1$.\n",
    "\n"
   ]
  },
  {
   "cell_type": "code",
   "execution_count": 3,
   "metadata": {},
   "outputs": [
    {
     "name": "stdout",
     "output_type": "stream",
     "text": [
      "Populating the interactive namespace from numpy and matplotlib\n",
      "The autoreload extension is already loaded. To reload it, use:\n",
      "  %reload_ext autoreload\n"
     ]
    },
    {
     "name": "stderr",
     "output_type": "stream",
     "text": [
      "/Users/shahnawaz/miniconda3/lib/python3.7/site-packages/IPython/core/magics/pylab.py:160: UserWarning: pylab import has clobbered these variables: ['shape', 'identity', 'info', 'squeeze']\n",
      "`%matplotlib` prevents importing * from pylab and numpy\n",
      "  \"\\n`%matplotlib` prevents importing * from pylab and numpy\"\n"
     ]
    }
   ],
   "source": [
    "%pylab inline\n",
    "\n",
    "from qutip import *\n",
    "\n",
    "%load_ext autoreload\n",
    "%autoreload 2"
   ]
  },
  {
   "cell_type": "code",
   "execution_count": 4,
   "metadata": {},
   "outputs": [],
   "source": [
    "#Here we import both python and c++ solvers to compare results and performance\n",
    "\n",
    "from heom.heom_fmotd import BosonicHEOMSolver\n",
    "from heom.heom_fmotd_py import BosonicHEOMSolver as BosonicHEOMSolverPy"
   ]
  },
  {
   "cell_type": "code",
   "execution_count": 5,
   "metadata": {},
   "outputs": [],
   "source": [
    "def cot(x):\n",
    "    return 1./np.tan(x)"
   ]
  },
  {
   "cell_type": "code",
   "execution_count": 6,
   "metadata": {},
   "outputs": [],
   "source": [
    "# Defining the system Hamiltonian\n",
    "eps = .5     # Energy of the 2-level system.\n",
    "Del = 1.0    # Tunnelling term\n",
    "Hsys = 0.5 * eps * sigmaz() + 0.5 * Del* sigmax()"
   ]
  },
  {
   "cell_type": "code",
   "execution_count": 7,
   "metadata": {},
   "outputs": [],
   "source": [
    "# Initial state of the system.\n",
    "rho0 = basis(2,0) * basis(2,0).dag()  "
   ]
  },
  {
   "cell_type": "code",
   "execution_count": 8,
   "metadata": {},
   "outputs": [],
   "source": [
    "# System-bath coupling (Drude-Lorentz spectral density)\n",
    "Q = sigmaz() # coupling operator\n",
    "\n",
    "tlist = np.linspace(0, 50, 1000)\n",
    "\n",
    "#Bath properties:\n",
    "gamma = .5 # cut off frequency\n",
    "lam = .1 # coupling strength\n",
    "T = 0.5\n",
    "beta = 1./T\n",
    "\n",
    "#HEOM parameters\n",
    "NC = 5 # cut off parameter for the bath\n",
    "\n",
    "\n"
   ]
  },
  {
   "cell_type": "code",
   "execution_count": 9,
   "metadata": {},
   "outputs": [
    {
     "data": {
      "text/plain": [
       "Text(0, 0.5, 'J')"
      ]
     },
     "execution_count": 9,
     "metadata": {},
     "output_type": "execute_result"
    },
    {
     "data": {
      "image/png": "[encoded data removed]",
      "text/plain": [
       "<Figure size 576x576 with 1 Axes>"
      ]
     },
     "metadata": {
      "needs_background": "light"
     },
     "output_type": "display_data"
    }
   ],
   "source": [
    "\n",
    "\n",
    "wlist = np.linspace(0, 5, 1000)\n",
    "pref = 1.\n",
    "\n",
    "J = [w * 2 * lam * gamma / ((gamma**2 + w**2)) for w in wlist]\n",
    "\n",
    "# Plot the results\n",
    "fig, axes = plt.subplots(1, 1, sharex=True, figsize=(8,8))\n",
    "axes.plot(wlist, J, 'r', linewidth=2)\n",
    "axes.set_xlabel(r'$\\omega$', fontsize=28)\n",
    "axes.set_ylabel(r'J', fontsize=28)\n",
    "\n"
   ]
  },
  {
   "cell_type": "code",
   "execution_count": 10,
   "metadata": {},
   "outputs": [],
   "source": [
    "Nk = 2 # number of exponentials in approximation of the Matsubara approximation\n",
    "\n",
    "\n",
    "def _calc_matsubara_params():\n",
    "        \"\"\"\n",
    "        Calculate the Matsubara coefficents and frequencies\n",
    "        Returns\n",
    "        -------\n",
    "        c, nu: both list(float)\n",
    "        \"\"\"\n",
    "        c = []\n",
    "        nu = []\n",
    "        lam0 = lam\n",
    "        gam = gamma\n",
    "        hbar = 1\n",
    "        beta = 1.0/T\n",
    "        N_m =  Nk\n",
    "\n",
    "        g = 2*np.pi / (beta)\n",
    "        for k in range(N_m):\n",
    "            if k == 0:\n",
    "                nu.append(gam)\n",
    "                c.append(lam0*gam*\n",
    "                    (1.0/np.tan(gam*hbar*beta/2.0) - 1j) / hbar)\n",
    "            else:\n",
    "                g = 2*np.pi / (beta)\n",
    "                nu.append(k*g)\n",
    "                c.append(4*lam0*gam*nu[k] /\n",
    "                      ((nu[k]**2 - gam**2)*beta*hbar**2))\n",
    "\n",
    "    \n",
    "        return c, nu\n",
    "\n",
    "ctest,nutest=_calc_matsubara_params()\n",
    "\n",
    "\n",
    "\n",
    "ckAR = [ lam * gamma * (cot(gamma / (2 * T)))]\n",
    "ckAR.extend([(4 * lam * gamma * T *  2 * np.pi * k * T / (( 2 * np.pi * k * T)**2 - gamma**2)) for k in range(1,Nk+1)])\n",
    "\n",
    "vkAR = [gamma]\n",
    "vkAR.extend([2 * np.pi * k * T for k in range(1,Nk+1)])\n",
    "\n",
    "ckAI = [lam * gamma * (-1.0)]\n",
    "\n",
    "vkAI = [gamma]\n",
    "\n"
   ]
  },
  {
   "cell_type": "code",
   "execution_count": 11,
   "metadata": {},
   "outputs": [],
   "source": [
    "\n",
    "tlist_corr = linspace(0,2,1000)\n",
    "\n",
    "lmaxmats = 1500\n",
    "\n",
    "def c(t,anamax):\n",
    "\n",
    "    c_temp = (pref * lam * gamma * (-1.0j + cot(gamma / (2 * T))) * np.exp(-gamma * t))\n",
    "    for k in range(1, anamax):\n",
    "        vk = 2 * np.pi * k * T\n",
    "        c_temp += ((pref * 4 * lam * gamma * T * vk / (vk**2 - gamma**2))  * np.exp(- vk * t) ) \n",
    "        \n",
    "    \n",
    "    return c_temp\n",
    "\n",
    "# Reals parts\n",
    "corrRana = [np.real(c(t,lmaxmats)) for t in tlist_corr]\n",
    "# Imaginary parts\n",
    "corrIana = [np.imag((pref * lam * gamma * (-1.0j + cot(gamma / (2 * T))) * np.exp(-gamma * t))) for t in tlist_corr]\n",
    "\n"
   ]
  },
  {
   "cell_type": "code",
   "execution_count": 12,
   "metadata": {},
   "outputs": [
    {
     "data": {
      "text/plain": [
       "Text(0, 0.5, 'C(t)')"
      ]
     },
     "execution_count": 12,
     "metadata": {},
     "output_type": "execute_result"
    },
    {
     "data": {
      "image/png": "[encoded data removed]",
      "text/plain": [
       "<Figure size 576x576 with 1 Axes>"
      ]
     },
     "metadata": {
      "needs_background": "light"
     },
     "output_type": "display_data"
    }
   ],
   "source": [
    "\n",
    "\n",
    "# Plot the results\n",
    "fig, axes = plt.subplots(1, 1, sharex=True, figsize=(8,8))\n",
    "\n",
    "axes.plot(tlist_corr, corrRana, 'b--', linewidth=2)\n",
    "axes.plot(tlist_corr, corrIana, 'r--', linewidth=2)\n",
    "axes.set_xlabel(r'$t$', fontsize=28)\n",
    "axes.set_ylabel(r'C(t)', fontsize=28)\n"
   ]
  },
  {
   "cell_type": "code",
   "execution_count": 13,
   "metadata": {},
   "outputs": [
    {
     "name": "stdout",
     "output_type": "stream",
     "text": [
      "0.019710063934326172\n",
      "ODE solver time 0.40892481803894043\n"
     ]
    }
   ],
   "source": [
    "\n",
    "NR = len(ckAR)\n",
    "NI = len(ckAI)\n",
    "Q2 = [Q for kk in range(NR+NI)]\n",
    "# print(Q2)\n",
    "options = Options(nsteps=15000, store_states=True, rtol=1e-14, atol=1e-14)\n",
    "import time\n",
    "start = time.time()\n",
    "HEOMMats = BosonicHEOMSolver(Hsys, Q2, ckAR, ckAI, vkAR, vkAI, NC, options=options)\n",
    "end = time.time()\n",
    "print(end - start)\n",
    "\n",
    "\n",
    "start = time.time()\n",
    "resultMats = HEOMMats.run(rho0, tlist) #normal  115\n",
    "end = time.time()\n",
    "print(\"ODE solver time\", end - start)"
   ]
  },
  {
   "cell_type": "code",
   "execution_count": 14,
   "metadata": {},
   "outputs": [],
   "source": [
    "# Define some operators with which we will measure the system\n",
    "# 1,1 element of density matrix - corresonding to groundstate\n",
    "P11p=basis(2,0) * basis(2,0).dag()\n",
    "P22p=basis(2,1) * basis(2,1).dag()\n",
    "# 1,2 element of density matrix  - corresonding to coherence\n",
    "P12p=basis(2,0) * basis(2,1).dag()\n",
    "# Calculate expectation values in the bases\n",
    "P11exp = expect(resultMats.states, P11p)\n",
    "P22exp = expect(resultMats.states, P22p)\n",
    "P12exp = expect(resultMats.states, P12p)"
   ]
  },
  {
   "cell_type": "markdown",
   "metadata": {},
   "source": [
    "## Ishizaki-Tanimura Terminator\n",
    "\n",
    "The value of $Re[C(t=0)]$ diverges. We can treat that component as a delta-function distribution, and include it as Lindblad correction. This is sometimes known as the Ishizaki-Tanimura Terminator.\n",
    "\n",
    "In more detail, given\n",
    "\n",
    "\\begin{equation*}\n",
    "C(t)=\\sum_{k=0}^{\\infty} c_k e^{-\\nu_k t}\n",
    "\\end{equation*}\n",
    "since $\\nu_k=\\frac{2 \\pi k}{\\beta }$, if $1/\\nu_k$ is much much smaller than other important time-scales, we can approximate,  $ e^{-\\nu_k t} \\approx \\delta(t)/\\nu_k$, and $C(t)=\\sum_{k=N_k}^{\\infty} \\frac{c_k}{\\nu_k} \\delta(t)$\n",
    "\n",
    "It is convenient to calculate the whole sum $C(t)=\\sum_{k=0}^{\\infty} \\frac{c_k}{\\nu_k} =  2 \\lambda / (\\beta \\gamma) - i\\lambda $, and subtract off the contribution from the finite number of Matsubara terms that are kept in the hierarchy, and treat the residual as a Lindblad."
   ]
  },
  {
   "cell_type": "code",
   "execution_count": 15,
   "metadata": {},
   "outputs": [
    {
     "data": {
      "text/plain": [
       "<matplotlib.legend.Legend at 0x7fe89069e650>"
      ]
     },
     "execution_count": 15,
     "metadata": {},
     "output_type": "execute_result"
    },
    {
     "data": {
      "image/png": "[encoded data removed]",
      "text/plain": [
       "<Figure size 864x504 with 1 Axes>"
      ]
     },
     "metadata": {
      "needs_background": "light"
     },
     "output_type": "display_data"
    }
   ],
   "source": [
    "#This is clearer if we plot the correlation function with a large number of matsubara terms:  the real part is \n",
    "#slowly diverging at t=0\n",
    "\n",
    "lmaxmats = 3\n",
    "anamax = 15000\n",
    "\n",
    "def c(t,anamax):\n",
    "\n",
    "    c_temp = (pref * lam * gamma * (-1.0j + cot(gamma / (2 * T))) * np.exp(-gamma * t))\n",
    "    for k in range(1, anamax):\n",
    "        vk = 2 * np.pi * k * T\n",
    "        c_temp += ((pref * 4 * lam * gamma * T * vk / (vk**2 - gamma**2))  * np.exp(- vk * t) ) \n",
    "        \n",
    "    \n",
    "    return c_temp\n",
    "\n",
    "# Reals parts\n",
    "corrRana = [np.real(c(t,lmaxmats)) for t in tlist_corr]\n",
    "# Imaginary parts\n",
    "corrIana = [np.imag((pref * lam * gamma * (-1.0j + cot(gamma / (2 * T))) * np.exp(-gamma * t))) for t in tlist_corr]\n",
    "\n",
    "\n",
    "\n",
    "cppL = c( tlist_corr,anamax)\n",
    "\n",
    "fig, ax1 = plt.subplots(figsize=(12, 7))\n",
    "#print(gam_list)\n",
    "ax1.plot( tlist_corr,real(cppL), color=\"b\", linewidth=3, label= r\"real alt\")\n",
    "ax1.plot( tlist_corr,imag(cppL), color=\"r\", linewidth=3, label= r\"imag alt\")\n",
    "ax1.plot( tlist_corr,corrRana, \"b--\", linewidth=3, label= r\"real ana\")\n",
    "ax1.plot( tlist_corr,corrIana, \"r--\", linewidth=3, label= r\"imag ana\")\n",
    "\n",
    "\n",
    "ax1.set_xlabel(\"t\")\n",
    "ax1.set_ylabel(r\"$C$\")\n",
    "ax1.legend()"
   ]
  },
  {
   "cell_type": "code",
   "execution_count": 16,
   "metadata": {},
   "outputs": [],
   "source": [
    "#do version with tanimura terminator\n",
    "\n",
    "op = -2*spre(Q)*spost(Q.dag()) + spre(Q.dag()*Q) + spost(Q.dag()*Q)\n",
    "\n",
    "approx_factr = ((2 * lam / (beta * gamma)) - 1j*lam) \n",
    "\n",
    "approx_factr -=  lam * gamma * (-1.0j + cot(gamma / (2 * T)))/gamma\n",
    "for k in range(1,Nk+1):\n",
    "    vk = 2 * np.pi * k * T\n",
    "    #c_temp.append((pref * 4 * lam * gamma * T * vk / (vk**2 - gamma**2))  * np.exp(- vk * t) ) \n",
    "    approx_factr -= ((pref * 4 * lam * gamma * T * vk / (vk**2 - gamma**2))/ vk)\n",
    "    #approx_factr -= (c[k] / nu[k])\n",
    "L_bnd = -approx_factr*op\n",
    "\n",
    "Ltot = -1.0j*(spre(Hsys)-spost(Hsys)) + L_bnd\n",
    "Ltot = liouvillian(Hsys) + L_bnd\n",
    "\n",
    "NR = len(ckAR)\n",
    "NI = len(ckAI)\n",
    "Q2 = [Q for kk in range(NR+NI)]\n",
    "# print(Q2)\n",
    "options = Options(nsteps=15000, store_states=True, rtol=1e-14, atol=1e-14)\n",
    "\n",
    "HEOMMatsT = BosonicHEOMSolver(Ltot, Q2, ckAR, ckAI, vkAR, vkAI, NC, options=options)\n",
    "# Initial state of the system.\n",
    "rho0 = basis(2,0) * basis(2,0).dag()   \n",
    "# Times to record state\n",
    "#tlist = np.linspace(0, 40, 600)\n",
    "\n",
    "resultMatsT = HEOMMatsT.run(rho0, tlist)\n",
    "# print(resultMatsT)\n"
   ]
  },
  {
   "cell_type": "code",
   "execution_count": 17,
   "metadata": {},
   "outputs": [],
   "source": [
    "# Define some operators with which we will measure the system\n",
    "# 1,1 element of density matrix - corresonding to groundstate\n",
    "P11p=basis(2,0) * basis(2,0).dag()\n",
    "P22p=basis(2,1) * basis(2,1).dag()\n",
    "# 1,2 element of density matrix  - corresonding to coherence\n",
    "P12p=basis(2,0) * basis(2,1).dag()\n",
    "# Calculate expectation values in the bases\n",
    "P11expT = expect(resultMatsT.states, P11p)\n",
    "P22expT = expect(resultMatsT.states, P22p)\n",
    "P12expT = expect(resultMatsT.states, P12p)"
   ]
  },
  {
   "cell_type": "code",
   "execution_count": 18,
   "metadata": {},
   "outputs": [],
   "source": [
    "DL = \" 2*pi* 2.0 * {lam} / (pi * {gamma} * {beta})  if (w==0) else 2*pi*(2.0*{lam}*{gamma} *w /(pi*(w**2+{gamma}**2))) * ((1/(exp((w) * {beta})-1))+1)\".format(gamma=gamma, beta = beta, lam = lam)\n",
    "\n",
    "optionsODE = Options(nsteps=15000, store_states=True,rtol=1e-12,atol=1e-12)\n",
    "outputBR  =  brmesolve(Hsys, rho0, tlist, a_ops=[[sigmaz(),DL]], options = optionsODE)\n",
    "\n",
    "\n",
    "# Calculate expectation values in the bases\n",
    "P11BR = expect(outputBR.states, P11p)\n",
    "P22BR = expect(outputBR.states, P22p)\n",
    "P12BR = expect(outputBR.states, P12p)"
   ]
  },
  {
   "cell_type": "code",
   "execution_count": 19,
   "metadata": {},
   "outputs": [
    {
     "data": {
      "text/plain": [
       "<matplotlib.legend.Legend at 0x7fe8b10ddf90>"
      ]
     },
     "execution_count": 19,
     "metadata": {},
     "output_type": "execute_result"
    },
    {
     "data": {
      "image/png": "[encoded data removed]",
      "text/plain": [
       "<Figure size 576x576 with 1 Axes>"
      ]
     },
     "metadata": {
      "needs_background": "light"
     },
     "output_type": "display_data"
    }
   ],
   "source": [
    "\n",
    "# Plot the results\n",
    "fig, axes = plt.subplots(1, 1, sharex=True, figsize=(8,8))\n",
    "#axes.plot(tlist, np.real(P11exp)+ np.real(P22exp), 'b', linewidth=2, label=\"P11\")\n",
    "axes.plot(tlist, np.real(P11exp), 'b', linewidth=2, label=\"P11 Mats\")\n",
    "axes.plot(tlist, np.real(P12exp), 'r', linewidth=2, label=\"P12 Mats\")\n",
    "axes.plot(tlist, np.real(P11expT), 'b--', linewidth=2, label=\"P11 Mats + Term\")\n",
    "axes.plot(tlist, np.real(P12expT), 'r--', linewidth=2, label=\"P12 Mats + Term\")\n",
    "axes.plot(tlist, np.real(P11BR), 'g--', linewidth=2, label=\"P11 Bloch Redfield\")\n",
    "axes.plot(tlist, np.real(P12BR), 'g--', linewidth=2, label=\"P11 Bloch Redfield\")\n",
    "axes.set_xlabel(r't', fontsize=28)\n",
    "axes.legend(loc=0, fontsize=12)"
   ]
  },
  {
   "cell_type": "code",
   "execution_count": 20,
   "metadata": {},
   "outputs": [
    {
     "data": {
      "text/plain": [
       "<matplotlib.legend.Legend at 0x7fe8b0d3d490>"
      ]
     },
     "execution_count": 20,
     "metadata": {},
     "output_type": "execute_result"
    },
    {
     "data": {
      "image/png": "[encoded data removed]",
      "text/plain": [
       "<Figure size 576x576 with 1 Axes>"
      ]
     },
     "metadata": {
      "needs_background": "light"
     },
     "output_type": "display_data"
    }
   ],
   "source": [
    "\n",
    "# Plot the results\n",
    "fig, axes = plt.subplots(1, 1, sharex=True, figsize=(8,8))\n",
    "#axes.plot(tlist, np.real(P11exp)+ np.real(P22exp), 'b', linewidth=2, label=\"P11\")\n",
    "axes.plot(tlist, np.real(P11exp), 'b', linewidth=2, label=\"P11 Mats\")\n",
    "axes.plot(tlist, np.real(P12exp), 'r', linewidth=2, label=\"P12 Mats\")\n",
    "axes.plot(tlist, np.real(P11expT), 'b--', linewidth=2, label=\"P11 Mats + Term\")\n",
    "axes.plot(tlist, np.real(P12expT), 'r--', linewidth=2, label=\"P12 Mats + Term\")\n",
    "axes.plot(tlist, np.real(P11BR), 'g--', linewidth=2, label=\"P11 Bloch Redfield\")\n",
    "axes.plot(tlist, np.real(P12BR), 'g--', linewidth=2, label=\"P11 Bloch Redfield\")\n",
    "axes.set_xlabel(r't', fontsize=28)\n",
    "axes.legend(loc=0, fontsize=12)"
   ]
  },
  {
   "cell_type": "code",
   "execution_count": 21,
   "metadata": {},
   "outputs": [
    {
     "data": {
      "text/plain": [
       "<matplotlib.legend.Legend at 0x7fe8e0939510>"
      ]
     },
     "execution_count": 21,
     "metadata": {},
     "output_type": "execute_result"
    },
    {
     "data": {
      "image/png": "[encoded data removed]",
      "text/plain": [
       "<Figure size 864x504 with 1 Axes>"
      ]
     },
     "metadata": {
      "needs_background": "light"
     },
     "output_type": "display_data"
    },
    {
     "data": {
      "image/png": "[encoded data removed]",
      "text/plain": [
       "<Figure size 864x504 with 1 Axes>"
      ]
     },
     "metadata": {
      "needs_background": "light"
     },
     "output_type": "display_data"
    }
   ],
   "source": [
    "#We can compare the Matsubara result to the faster-converging Pade decomposition\n",
    "\n",
    "\n",
    "lmax = 2\n",
    "\n",
    "\n",
    "\n",
    "\n",
    "def deltafun(j,k):\n",
    "    if j==k: \n",
    "        return 1.\n",
    "    else:\n",
    "        return 0.\n",
    "\n",
    "\n",
    "\n",
    "\n",
    "Alpha =np.zeros((2*lmax,2*lmax))\n",
    "for j in range(2*lmax):\n",
    "    for k in range(2*lmax):\n",
    "        #Alpha[j][k] = (deltafun(j,k+1)+deltafun(j,k-1))/sqrt((2*(j+1)-1)*(2*(k+1)-1)) #fermi\n",
    "        Alpha[j][k] = (deltafun(j,k+1)+deltafun(j,k-1))/sqrt((2*(j+1)+1)*(2*(k+1)+1)) #bose\n",
    "        \n",
    "eigvalsA=eigvalsh(Alpha)  \n",
    "\n",
    "eps = []\n",
    "for val in  eigvalsA[0:lmax]:\n",
    "    #print(-2/val)\n",
    "    eps.append(-2/val)\n",
    "    \n",
    "\n",
    "AlphaP =np.zeros((2*lmax-1,2*lmax-1))\n",
    "for j in range(2*lmax-1):\n",
    "    for k in range(2*lmax-1):\n",
    "        #AlphaP[j][k] = (deltafun(j,k+1)+deltafun(j,k-1))/sqrt((2*(j+1)+1)*(2*(k+1)+1)) #fermi\n",
    "        \n",
    "        AlphaP[j][k] = (deltafun(j,k+1)+deltafun(j,k-1))/sqrt((2*(j+1)+3)*(2*(k+1)+3)) #Bose: This is +3 because +1 (bose) + 2*(+1)(from bm+1)\n",
    "        \n",
    "eigvalsAP=eigvalsh(AlphaP)    \n",
    "\n",
    "\n",
    "chi = []\n",
    "for val in  eigvalsAP[0:lmax-1]:\n",
    "    \n",
    "    chi.append(-2/val)\n",
    "\n",
    "    \n",
    "eta_list = []\n",
    "prefactor = 0.5*lmax*(2*(lmax + 1) - 1)\n",
    "\n",
    "for j in range(lmax):\n",
    "    term = prefactor\n",
    "    for k1 in range(lmax - 1):\n",
    "        term *= (chi[k1]**2 - eps[j]**2)/(eps[k1]**2 - eps[j]**2 + deltafun(j,k1))        \n",
    "    \n",
    "    for k2 in range(lmax-1,lmax):\n",
    "        term /= (eps[k2]**2 - eps[j]**2 + deltafun(j,k2))\n",
    "        \n",
    "        \n",
    "    eta_list.append(term)\n",
    "\n",
    "\n",
    "kappa = [0]+eta_list\n",
    "epsilon = [0]+eps\n",
    "\n",
    "\n",
    "\n",
    "beta = 1/T\n",
    "\n",
    "def f_approx(x):\n",
    "    f = 0.5\n",
    "    for l in range(1,lmax+1):\n",
    "        f= f - 2*kappa[l]*x/(x**2+epsilon[l]**2)\n",
    "    return f\n",
    "\n",
    "def f(x):\n",
    "    kB=1.\n",
    "    return 1/(1-exp(-x)) #this is n(w)+1 (for bosons)\n",
    "\n",
    "\n",
    "def C(tlist):\n",
    "    eta_list = []\n",
    "    gamma_list  =[]\n",
    "    \n",
    "    eta_0 =lam*gamma*(1.0/np.tan(gamma*beta/2.0) - 1.0j)\n",
    "    gamma_0 = gamma\n",
    "    eta_list.append(eta_0)\n",
    "    gamma_list.append(gamma_0)\n",
    "    if lmax>0:\n",
    "        for l in range(1,lmax+1):\n",
    "            eta_list.append((kappa[l]/beta)*4*lam*gamma*(epsilon[l]/beta)/((epsilon[l]**2/beta**2)-gamma**2))\n",
    "            gamma_list.append(epsilon[l]/beta)\n",
    "            \n",
    "     \n",
    "    c_tot = []\n",
    "    for t in tlist:\n",
    "        c_tot.append(sum([eta_list[l]*exp(-gamma_list[l]*t) for l in range(lmax+1)]))\n",
    "    return c_tot, eta_list, gamma_list\n",
    "\n",
    "\n",
    "cppLP,etapLP,gampLP = C( tlist_corr)\n",
    "\n",
    "\n",
    "fig, ax1 = plt.subplots(figsize=(12, 7))\n",
    "#print(gam_list)\n",
    "ax1.plot( tlist_corr,real(cppLP), color=\"b\", linewidth=3, label= r\"real pade 2 terms\")\n",
    "#ax1.plot(tlist,imag(cppL), color=\"r\", linewidth=3, label= r\"imag alt\")\n",
    "ax1.plot( tlist_corr,corrRana, \"r--\", linewidth=3, label= r\"real mats 15000 terms\")\n",
    "ax1.plot( tlist_corr,real(cppL), \"g--\", linewidth=3, label= r\"real mats 2 terms\")\n",
    "#ax1.plot(tlist,corrIana, \"r--\", linewidth=3, label= r\"imag ana\")\n",
    "\n",
    "\n",
    "\n",
    "ax1.set_xlabel(\"t\")\n",
    "ax1.set_ylabel(r\"$C$\")\n",
    "ax1.legend()\n",
    "\n",
    "\n",
    "fig, ax1 = plt.subplots(figsize=(12, 7))\n",
    "#print(gam_list)\n",
    "#ax1.plot(tlist,real(cppL), color=\"b\", linewidth=3, label= r\"real alt\")\n",
    "#ax1.plot(tlist,imag(cppL), color=\"r\", linewidth=3, label= r\"imag alt\")\n",
    "#ax1.plot(tlist,corrRana, \"b--\", linewidth=3, label= r\"real ana\")\n",
    "#ax1.plot(tlist,corrIana, \"r--\", linewidth=3, label= r\"imag ana\")\n",
    "\n",
    "ax1.plot( tlist_corr,real(cppLP)-corrRana, color=\"b\", linewidth=3, label= r\"pade error\")\n",
    "ax1.plot( tlist_corr,real(cppL)-corrRana,\"r--\", linewidth=3, label= r\"mats error\")\n",
    "#ax1.plot(tlist,real(cppL)-corrRana, color=\"b\", linewidth=3, label= r\"mats error\")\n",
    "\n",
    "ax1.set_xlabel(\"t\")\n",
    "ax1.set_ylabel(r\"Error\")\n",
    "ax1.legend()\n"
   ]
  },
  {
   "cell_type": "code",
   "execution_count": 22,
   "metadata": {},
   "outputs": [],
   "source": [
    "\n",
    "ckAR = [real(eta) +0j for eta in etapLP]\n",
    "ckAI = [imag(etapLP[0]) + 0j]\n",
    "vkAR = [gam +0j for gam in gampLP]\n",
    "vkAI = [gampLP[0] + 0j]"
   ]
  },
  {
   "cell_type": "code",
   "execution_count": null,
   "metadata": {},
   "outputs": [],
   "source": [
    "\n",
    "\n",
    "NR = len(ckAR)\n",
    "NI = len(ckAI)\n",
    "Q2 = [Q for kk in range(NR+NI)]\n",
    "print(Q2)\n",
    "options = Options(nsteps=15000, store_states=True, rtol=1e-14, atol=1e-14)\n",
    "\n",
    "HEOMPade = BosonicHEOMSolver(Hsys, Q2, ckAR, ckAI, vkAR, vkAI, NC, options=options)\n",
    "\n",
    "# Initial state of the system.\n",
    "rho0 = basis(2,0) * basis(2,0).dag()   \n",
    "# Times to record state\n",
    "#tlist = np.linspace(0, 40, 600)\n",
    "\n",
    "resultPade = HEOMPade.run(rho0, tlist)"
   ]
  },
  {
   "cell_type": "code",
   "execution_count": null,
   "metadata": {},
   "outputs": [],
   "source": [
    "\n",
    "# Define some operators with which we will measure the system\n",
    "# 1,1 element of density matrix - corresonding to groundstate\n",
    "P11p=basis(2,0) * basis(2,0).dag()\n",
    "P22p=basis(2,1) * basis(2,1).dag()\n",
    "# 1,2 element of density matrix  - corresonding to coherence\n",
    "P12p=basis(2,0) * basis(2,1).dag()\n",
    "# Calculate expectation values in the bases\n",
    "P11expP = expect(resultPade.states, P11p)\n",
    "P22expP = expect(resultPade.states, P22p)\n",
    "P12expP = expect(resultPade.states, P12p)\n",
    "\n",
    "# Plot the results\n",
    "fig, axes = plt.subplots(1, 1, sharex=True, figsize=(8,8))\n",
    "#axes.plot(tlist, np.real(P11exp)+ np.real(P22exp), 'b', linewidth=2, label=\"P11\")\n",
    "axes.plot(tlist, np.real(P11exp), 'b', linewidth=2, label=\"P11 mats\")\n",
    "axes.plot(tlist, np.real(P11expP), 'b--', linewidth=2, label=\"P11 pade\")\n",
    "axes.plot(tlist, np.real(P12exp), 'r', linewidth=2, label=\"P12 mats\")\n",
    "axes.plot(tlist, np.real(P12expP), 'r--', linewidth=2, label=\"P12 pade\")\n",
    "axes.set_xlabel(r't', fontsize=28)\n",
    "axes.legend(loc=0, fontsize=12)"
   ]
  },
  {
   "cell_type": "markdown",
   "metadata": {},
   "source": [
    "### Next we do fitting of correlation, and compare to Mats and Pade\n"
   ]
  },
  {
   "cell_type": "code",
   "execution_count": null,
   "metadata": {},
   "outputs": [],
   "source": [
    "#tlist2= linspace(0,600,100)\n",
    "tlist2= linspace(0,2,10000)\n",
    "#tlist2 = tlist\n",
    "\n",
    "lmaxmats = 15000\n",
    "\n",
    "def c(t,anamax):\n",
    "\n",
    "    c_temp = (pref * lam * gamma * (-1.0j + cot(gamma / (2 * T))) * np.exp(-gamma * t))\n",
    "    for k in range(1, anamax):\n",
    "        vk = 2 * np.pi * k * T\n",
    "        c_temp += ((pref * 4 * lam * gamma * T * vk / (vk**2 - gamma**2))  * np.exp(- vk * t) ) \n",
    "        \n",
    "    \n",
    "    return c_temp\n",
    "\n",
    "# Reals parts\n",
    "corrRana = [np.real(c(t,lmaxmats)) for t in tlist2]\n",
    "# Imaginary parts\n",
    "corrIana = [np.imag((pref * lam * gamma * (-1.0j + cot(gamma / (2 * T))) * np.exp(-gamma * t))) for t in tlist2]\n",
    "\n",
    "\n"
   ]
  },
  {
   "cell_type": "code",
   "execution_count": null,
   "metadata": {},
   "outputs": [],
   "source": [
    "\n",
    "\n",
    "from scipy.optimize import curve_fit\n",
    "def wrapper_fit_func(x, N, *args):\n",
    "    a, b = list(args[0][:N]), list(args[0][N:2*N])\n",
    "    # print(\"debug\")\n",
    "    return fit_func(x, a, b, N)\n",
    "\n",
    "# actual fitting function\n",
    "def fit_func(x, a, b, N):\n",
    "    tot = 0\n",
    "    for i in range(N):\n",
    "        # print(i)\n",
    "        tot += a[i]*np.exp(b[i]*x)\n",
    "    return tot\n",
    "\n",
    "\n",
    "def fitter(ans, tlist, k):\n",
    "    # the actual computing of fit\n",
    "    popt = []\n",
    "    pcov = [] \n",
    "    # tries to fit for k exponents\n",
    "    for i in range(k):\n",
    "        params_0 = [0]*(2*(i+1))\n",
    "        upper_a = abs(max(ans, key = abs))*10\n",
    "        #sets initial guess\n",
    "        guess = []\n",
    "        aguess = [ans[0]]*(i+1)#[max(ans)]*(i+1)\n",
    "        bguess = [0]*(i+1)\n",
    "        guess.extend(aguess)\n",
    "        guess.extend(bguess)\n",
    "        # sets bounds\n",
    "        b_lower = []\n",
    "        alower = [-upper_a]*(i+1)\n",
    "        blower = [-np.inf]*(i+1)\n",
    "        b_lower.extend(alower)\n",
    "        b_lower.extend(blower)\n",
    "        # sets higher bound\n",
    "        b_higher = []\n",
    "        ahigher = [upper_a]*(i+1)\n",
    "        bhigher = [0]*(i+1)\n",
    "        b_higher.extend(ahigher)\n",
    "        b_higher.extend(bhigher)\n",
    "        param_bounds = (b_lower, b_higher)\n",
    "        p1, p2 = curve_fit(lambda x, *params_0: wrapper_fit_func(x, i+1, \\\n",
    "            params_0), tlist, ans, p0=guess, sigma=[0.01 for t in tlist2], bounds = param_bounds,maxfev = 1e8)\n",
    "        popt.append(p1)\n",
    "        pcov.append(p2)\n",
    "        print(i+1)\n",
    "    return popt\n",
    "# print(popt)\n",
    "\n",
    "# function that evaluates values with fitted params at\n",
    "# given inputs\n",
    "def checker(tlist, vals):\n",
    "    y = []\n",
    "    for i in tlist:\n",
    "        # print(i)\n",
    "        y.append(wrapper_fit_func(i, int(len(vals)/2), vals))\n",
    "    return y\n",
    "\n",
    "\n",
    "k = 4\n",
    "popt1 = fitter(corrRana, tlist2, k)\n",
    "\n",
    "\n",
    "corrRMats = [np.real(c(t,Nk)) for t in tlist2]\n",
    "\n",
    "for i in range(k):\n",
    "    y = checker(tlist2, popt1[i])\n",
    "    plt.plot(tlist2, corrRana, tlist2, y, tlist2, corrRMats)\n",
    "    \n",
    "    plt.show()\n",
    "\n",
    "k1 = 1\n",
    "popt2 = fitter(corrIana, tlist2, k1)\n",
    "for i in range(k1):\n",
    "    y = checker(tlist2, popt2[i])\n",
    "    plt.plot(tlist2, corrIana, tlist2, y)\n",
    "    plt.show()  \n"
   ]
  },
  {
   "cell_type": "code",
   "execution_count": null,
   "metadata": {},
   "outputs": [],
   "source": [
    "ckAR1 = list(popt1[k-1])[:len(list(popt1[k-1]))//2]\n",
    "ckAR = [x+0j for x in ckAR1]\n",
    "ckAI1 = list(popt2[k1-1])[:len(list(popt2[k1-1]))//2]\n",
    "\n",
    "ckAI = [x+0j for x in ckAI1]\n",
    "# vkAR, vkAI\n",
    "vkAR1 = list(popt1[k-1])[len(list(popt1[k-1]))//2:]\n",
    "vkAR = [-x+0j for x in vkAR1]\n",
    "vkAI1 = list(popt2[k1-1])[len(list(popt2[k1-1]))//2:]\n",
    "vkAI = [-x+0j for x in vkAI1]\n",
    "\n"
   ]
  },
  {
   "cell_type": "code",
   "execution_count": null,
   "metadata": {
    "scrolled": true
   },
   "outputs": [],
   "source": [
    "#overwrite imaginary fit with analytical value (not much reason to use the fit for this)\n",
    "\n",
    "ckAI = [pref * lam * gamma * (-1.0) + 0.j]\n",
    "\n",
    "vkAI = [gamma+0.j]\n",
    "\n",
    "print(ckAI)\n",
    "print(vkAI)"
   ]
  },
  {
   "cell_type": "code",
   "execution_count": null,
   "metadata": {},
   "outputs": [],
   "source": [
    "\n",
    "NC = 8\n",
    "\n",
    "NR = len(ckAR)\n",
    "NI = len(ckAI)\n",
    "Q2 = [Q for kk in range(NR+NI)]\n",
    "print(Q2)\n",
    "options = Options(nsteps=1500, store_states=True, rtol=1e-12, atol=1e-12, method=\"bdf\") \n",
    "#BDF because we have a slightly stiff problem\n",
    "\n",
    "HEOMFit = BosonicHEOMSolver(Hsys, Q2, ckAR, ckAI, vkAR, vkAI, NC, options=options)\n"
   ]
  },
  {
   "cell_type": "code",
   "execution_count": null,
   "metadata": {},
   "outputs": [],
   "source": [
    "\n",
    "\n",
    "# Initial state of the system.\n",
    "rho0 = basis(2,0) * basis(2,0).dag()   \n",
    "# Times to record state\n",
    "#tlist = np.linspace(0, 40, 600)\n",
    "\n",
    "start = time.time()\n",
    "resultFit = HEOMFit.run(rho0, tlist)\n",
    "\n",
    "end = time.time()\n",
    "print(\"ODE solver time\", end - start)"
   ]
  },
  {
   "cell_type": "code",
   "execution_count": null,
   "metadata": {},
   "outputs": [],
   "source": [
    "# Define some operators with which we will measure the system\n",
    "# 1,1 element of density matrix - corresonding to groundstate\n",
    "P11p=basis(2,0) * basis(2,0).dag()\n",
    "P22p=basis(2,1) * basis(2,1).dag()\n",
    "# 1,2 element of density matrix  - corresonding to coherence\n",
    "P12p=basis(2,0) * basis(2,1).dag()\n",
    "# Calculate expectation values in the bases\n",
    "P11expF = expect(resultFit.states, P11p)\n",
    "P22expF = expect(resultFit.states, P22p)\n",
    "P12expF = expect(resultFit.states, P12p)\n"
   ]
  },
  {
   "cell_type": "code",
   "execution_count": null,
   "metadata": {},
   "outputs": [],
   "source": [
    "\n",
    "\n",
    "#do version with tanimura terminator\n",
    "\n",
    "op = -2*spre(Q)*spost(Q.dag()) + spre(Q.dag()*Q) + spost(Q.dag()*Q)\n",
    "\n",
    "approx_factr = ((2 * lam / (beta * gamma)) - 1j*lam) \n",
    "\n",
    "approx_factr -=  lam * gamma * (-1.0j + cot(gamma / (2 * T)))/gamma\n",
    "\n",
    "for k in range(1,lmaxmats):\n",
    "    vk = 2 * np.pi * k * T\n",
    "    #c_temp.append((pref * 4 * lam * gamma * T * vk / (vk**2 - gamma**2))  * np.exp(- vk * t) ) \n",
    "    approx_factr -= ((pref * 4 * lam * gamma * T * vk / (vk**2 - gamma**2))/ vk)\n",
    "    #approx_factr -= (c[k] / nu[k])\n",
    "    \n",
    "\n",
    "L_bnd = -approx_factr*op\n",
    "\n",
    "Ltot = -1.0j*(spre(Hsys)-spost(Hsys)) + L_bnd\n",
    "#Ltot = liouvillian(Hsys) + L_bnd\n",
    "\n",
    "NR = len(ckAR)\n",
    "NI = len(ckAI)\n",
    "Q2 = [Q for kk in range(NR+NI)]\n",
    "print(Q2)\n",
    "options = Options(nsteps=1500, store_states=True, rtol=1e-12, atol=1e-12, method=\"bdf\") \n",
    "\n",
    "\n",
    "NC= 10\n",
    "HEOMFitT = BosonicHEOMSolver(Ltot, Q2, ckAR, ckAI, vkAR, vkAI, NC, options=options)\n",
    "\n",
    "# Initial state of the system.\n",
    "rho0 = basis(2,0) * basis(2,0).dag()   \n",
    "# Times to record state\n",
    "#tlist = np.linspace(0, 40, 600)\n",
    "\n",
    "\n",
    "\n",
    "resultFitT  = HEOMFitT.run(rho0, tlist)\n",
    "\n",
    "\n"
   ]
  },
  {
   "cell_type": "code",
   "execution_count": null,
   "metadata": {},
   "outputs": [],
   "source": [
    "\n",
    "\n",
    "resultFitT  = HEOMFitT.run(rho0, tlist)\n"
   ]
  },
  {
   "cell_type": "code",
   "execution_count": null,
   "metadata": {},
   "outputs": [],
   "source": [
    "# Define some operators with which we will measure the system\n",
    "# 1,1 element of density matrix - corresonding to groundstate\n",
    "P11p=basis(2,0) * basis(2,0).dag()\n",
    "P22p=basis(2,1) * basis(2,1).dag()\n",
    "# 1,2 element of density matrix  - corresonding to coherence\n",
    "P12p=basis(2,0) * basis(2,1).dag()\n",
    "# Calculate expectation values in the bases\n",
    "P11expFT   = expect(resultFitT.states, P11p)\n",
    "P22expFT   = expect(resultFitT.states, P22p)\n",
    "P12expFT   = expect(resultFitT.states, P12p)"
   ]
  },
  {
   "cell_type": "code",
   "execution_count": null,
   "metadata": {},
   "outputs": [],
   "source": [
    "print(Hsys.eigenstates())\n",
    "energies, states = Hsys.eigenstates()"
   ]
  },
  {
   "cell_type": "code",
   "execution_count": null,
   "metadata": {},
   "outputs": [],
   "source": [
    "print(Hsys.eigenstates())\n",
    "energies, states = Hsys.eigenstates()\n",
    "rhoss = (states[0]*states[0].dag()*exp(-beta*energies[0]) + states[1]*states[1].dag()*exp(-beta*energies[1]))\n",
    "rhoss = rhoss/rhoss.norm()\n",
    "\n",
    "P12 = expect(rhoss,P12p)\n",
    "P11 = expect(rhoss,P11p)"
   ]
  },
  {
   "cell_type": "code",
   "execution_count": null,
   "metadata": {},
   "outputs": [],
   "source": [
    "dot_energy, dot_state = Hsys.eigenstates()\n",
    "deltaE = dot_energy[1] - dot_energy[0]\n",
    "\n",
    "gamma2 = deltaE / (2 * np.pi * gamma)\n",
    "wa = 2 * np.pi * gamma2 *   gamma # reaction coordinate frequency\n",
    "g = np.sqrt(np.pi * wa * lam / 2.0)  # reaction coordinate coupling\n",
    "g = np.sqrt(np.pi * wa * lam / 4.0)  # reaction coordinate coupling Factor over 2 because of diff in J(w) (I have 2 lam now)\n",
    "#nb = (1 / (np.exp(wa/w_th) - 1))\n",
    "\n",
    "NRC = 10\n",
    "\n",
    "Hsys_exp = tensor(qeye(NRC), Hsys)\n",
    "Q_exp = tensor(qeye(NRC), Q)\n",
    "a = tensor(destroy(NRC), qeye(2))\n",
    "\n",
    "H0 = wa * a.dag() * a + Hsys_exp\n",
    "# interaction\n",
    "H1 = (g * (a.dag() + a) * Q_exp)\n",
    "\n",
    "H = H0 + H1\n",
    "\n",
    "#print(H.eigenstates())\n",
    "energies, states = H.eigenstates()\n",
    "rhoss = 0*states[0]*states[0].dag()\n",
    "for kk, energ in enumerate(energies):\n",
    "    rhoss += (states[kk]*states[kk].dag()*exp(-beta*energies[kk])) \n",
    "\n",
    "#rhoss = (states[0]*states[0].dag()*exp(-beta*energies[0]) + states[1]*states[1].dag()*exp(-beta*energies[1]))\n",
    "\n",
    "rhoss = rhoss/rhoss.norm()\n",
    "\n",
    "P12RC = tensor(qeye(NRC), basis(2,0) * basis(2,1).dag())\n",
    "\n",
    "P12RC = expect(rhoss,P12RC)\n",
    "\n",
    "\n",
    "P11RC = tensor(qeye(NRC), basis(2,0) * basis(2,0).dag())\n",
    "\n",
    "P11RC = expect(rhoss,P11RC)"
   ]
  },
  {
   "cell_type": "code",
   "execution_count": null,
   "metadata": {},
   "outputs": [],
   "source": [
    "matplotlib.rcParams['figure.figsize'] = (7, 5)\n",
    "matplotlib.rcParams['axes.titlesize'] = 25\n",
    "matplotlib.rcParams['axes.labelsize'] = 22\n",
    "matplotlib.rcParams['xtick.labelsize'] = 18\n",
    "matplotlib.rcParams['ytick.labelsize'] = 18\n",
    "matplotlib.rcParams['legend.fontsize'] = 18\n",
    "matplotlib.rcParams['axes.grid'] = False\n",
    "matplotlib.rcParams['savefig.bbox'] = 'tight'\n",
    "matplotlib.rcParams['lines.markersize'] = 5\n",
    "matplotlib.rcParams['font.family'] = 'STIXGeneral' \n",
    "matplotlib.rcParams['mathtext.fontset'] =  'stix'"
   ]
  },
  {
   "cell_type": "code",
   "execution_count": null,
   "metadata": {},
   "outputs": [],
   "source": [
    "#matplotlib.rcParams.update({'font.size': 18, 'text.usetex': True})\n",
    "#matplotlib.rcParams.update({'font.size': 18, 'font.family': 'STIXGeneral', 'mathtext.fontset': 'stix','text.usetex': False})\n",
    "\n",
    "# Plot the results\n",
    "fig, axes = plt.subplots(2, 1, sharex=False, figsize=(12,10))\n",
    "\n",
    "axes[0].plot(tlist, [np.real(P11RC) for t in tlist], 'black', ls='--',linewidth=2, label=\"Thermal\")\n",
    "axes[0].plot(tlist, np.real(P11exp), 'r', linewidth=2, label=\"Matsubara $K=2$\")\n",
    "axes[0].plot(tlist, np.real(P11expT), 'g--', linewidth=2, label=\"Matsubara $K=2$ & Terminator\")\n",
    "axes[0].plot(tlist, np.real(P11BR), 'y-.', linewidth=2, label=\"Bloch Redfield\")\n",
    "axes[0].plot(tlist, np.real(P11expF ), 'b:', linewidth=2, label=r\"Fit $K_f = 4$, $K=15\\times 10^3$\")\n",
    "#axes[0].plot(tlist, np.real(P11expF1e6 ),  color='purple', dashes=[6, 2], linewidth=2, label=r\"Fit $K_f = 4$, $K=1\\times 10^5$ & terminator\")\n",
    "\n",
    "\n",
    "axes[0].locator_params(axis='y', nbins=6)\n",
    "axes[0].locator_params(axis='x', nbins=6)\n",
    "\n",
    "\n",
    "#axes[0].set_xlim(0,200)\n",
    "axes[0].set_ylabel(r\"$\\rho_{11}$\")#, fontsize=20)\n",
    "axes[0].legend(loc=0)\n",
    "#axes[0].Rectangle(\n",
    "axes[0].text(5,0.8,\"(a)\",fontsize=28)\n",
    "\n",
    "\n",
    "\n",
    "axes[1].plot(tlist, [np.real(P12RC) for t in tlist], 'black', ls='--', linewidth=2, label=\"Thermal\")\n",
    "axes[1].plot(tlist, np.real(P12exp), 'r', linewidth=2, label=\"Matsubara $K=2$\")\n",
    "axes[1].plot(tlist, np.real(P12expT), 'g--', linewidth=2, label=\"Matsubara $K=2$ & Terminator\")\n",
    "axes[1].plot(tlist, np.real(P12BR), 'y-.', linewidth=2, label=\"Bloch Redfield\")\n",
    "axes[1].plot(tlist, np.real(P12expF ), 'b', dashes=[2,2], linewidth=2, label=r\"Fit $K_f = 4$, $K=15\\times 10^3$\")\n",
    "\n",
    "\n",
    "\n",
    "\n",
    "axes[1].locator_params(axis='y', nbins=6)\n",
    "axes[1].locator_params(axis='x', nbins=6)\n",
    "\n",
    "axes[1].text(5,0.1,\"(b)\",fontsize=28)\n",
    "\n",
    "#axes[1].set_xlim(200,600)\n",
    "axes[1].set_xlabel(r'$t \\Delta$')#, fontsize=20)\n",
    "axes[1].set_ylabel(r'$\\rho_{12}$')#, fontsize=20)\n",
    "#axes[1].legend(loc=0)\n",
    "\n",
    "fig.tight_layout()\n",
    "fig.savefig(\"fig1.pdf\")"
   ]
  },
  {
   "cell_type": "code",
   "execution_count": null,
   "metadata": {},
   "outputs": [],
   "source": [
    "from qutip.ipynbtools import version_table\n",
    "\n",
    "version_table()"
   ]
  },
  {
   "cell_type": "code",
   "execution_count": null,
   "metadata": {},
   "outputs": [],
   "source": []
  }
 ],
 "metadata": {
  "anaconda-cloud": {},
  "kernelspec": {
   "display_name": "Python 3",
   "language": "python",
   "name": "python3"
  },
  "language_info": {
   "codemirror_mode": {
    "name": "ipython",
    "version": 3
   },
   "file_extension": ".py",
   "mimetype": "text/x-python",
   "name": "python",
   "nbconvert_exporter": "python",
   "pygments_lexer": "ipython3",
   "version": "3.8.5"
  }
 },
 "nbformat": 4,
 "nbformat_minor": 1
}
