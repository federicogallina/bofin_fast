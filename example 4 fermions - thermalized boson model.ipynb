{
 "cells": [
  {
   "cell_type": "code",
   "execution_count": 1,
   "metadata": {},
   "outputs": [],
   "source": [
    "#note, this is a modified code which treats the vibration in the heom part, and its thermalized, see schinabeck disseration\n",
    "#section 2.7.5\n"
   ]
  },
  {
   "cell_type": "code",
   "execution_count": 1,
   "metadata": {},
   "outputs": [
    {
     "name": "stdout",
     "output_type": "stream",
     "text": [
      "Populating the interactive namespace from numpy and matplotlib\n"
     ]
    },
    {
     "name": "stderr",
     "output_type": "stream",
     "text": [
      "/home/neill/anaconda3/lib/python3.7/site-packages/IPython/core/magics/pylab.py:160: UserWarning: pylab import has clobbered these variables: ['info', 'squeeze', 'entropy', 'identity', 'shape']\n",
      "`%matplotlib` prevents importing * from pylab and numpy\n",
      "  \"\\n`%matplotlib` prevents importing * from pylab and numpy\"\n"
     ]
    }
   ],
   "source": [
    "from qutip import *\n",
    "%pylab inline"
   ]
  },
  {
   "cell_type": "code",
   "execution_count": 2,
   "metadata": {},
   "outputs": [],
   "source": [
    "%load_ext autoreload\n",
    "%autoreload 2"
   ]
  },
  {
   "cell_type": "code",
   "execution_count": 40,
   "metadata": {},
   "outputs": [],
   "source": [
    "import heom_fermions_1 as heom_fermions\n",
    "import heom_fermions_1_SSboundary as heom_fermions_bound\n",
    "\n",
    "import heom_fermions_1_SSboundary_optimize as heom_fermions_bound"
   ]
  },
  {
   "cell_type": "code",
   "execution_count": 4,
   "metadata": {},
   "outputs": [],
   "source": [
    "def deltafun(j,k):\n",
    "    if j==k: \n",
    "        return 1.\n",
    "    else:\n",
    "        return 0."
   ]
  },
  {
   "cell_type": "code",
   "execution_count": 5,
   "metadata": {},
   "outputs": [],
   "source": [
    "\n",
    "from scipy.integrate import quad\n",
    "import scipy as scipy"
   ]
  },
  {
   "cell_type": "code",
   "execution_count": 25,
   "metadata": {},
   "outputs": [
    {
     "data": {
      "text/plain": [
       "63"
      ]
     },
     "execution_count": 25,
     "metadata": {},
     "output_type": "execute_result"
    }
   ],
   "source": [
    "K"
   ]
  },
  {
   "cell_type": "code",
   "execution_count": 27,
   "metadata": {},
   "outputs": [
    {
     "data": {
      "text/plain": [
       "252"
      ]
     },
     "execution_count": 27,
     "metadata": {},
     "output_type": "execute_result"
    }
   ],
   "source": [
    "len([2]*(K*4))"
   ]
  },
  {
   "cell_type": "code",
   "execution_count": 35,
   "metadata": {},
   "outputs": [],
   "source": [
    "nstates, state2idx, idx2state =enr_state_dictionaries([2]*(2*4) ,1)"
   ]
  },
  {
   "cell_type": "code",
   "execution_count": 36,
   "metadata": {},
   "outputs": [
    {
     "name": "stdout",
     "output_type": "stream",
     "text": [
      "(0, 0, 0, 0, 0, 0, 0, 1)\n",
      "(0, 0, 0, 0, 0, 0, 1, 0)\n",
      "(0, 0, 0, 0, 0, 1, 0, 0)\n",
      "(0, 0, 0, 0, 1, 0, 0, 0)\n",
      "(0, 0, 0, 1, 0, 0, 0, 0)\n",
      "(0, 0, 1, 0, 0, 0, 0, 0)\n",
      "(0, 1, 0, 0, 0, 0, 0, 0)\n",
      "(1, 0, 0, 0, 0, 0, 0, 0)\n"
     ]
    }
   ],
   "source": [
    "aux_indices2=[]\n",
    "aux_heom_indices2= []\n",
    "for stateid in state2idx:\n",
    "        \n",
    "        if np.sum(stateid) == 1:\n",
    "            print(stateid)\n",
    "            aux_indices2.append(state2idx[stateid])\n",
    "            aux_heom_indices2.append(stateid)"
   ]
  },
  {
   "cell_type": "code",
   "execution_count": 32,
   "metadata": {},
   "outputs": [
    {
     "data": {
      "text/plain": [
       "{0: (0, 0, 0, 0, 0, 0, 0, 0),\n",
       " 1: (0, 0, 0, 0, 0, 0, 0, 1),\n",
       " 2: (0, 0, 0, 0, 0, 0, 1, 0),\n",
       " 3: (0, 0, 0, 0, 0, 0, 1, 1),\n",
       " 4: (0, 0, 0, 0, 0, 1, 0, 0),\n",
       " 5: (0, 0, 0, 0, 0, 1, 0, 1),\n",
       " 6: (0, 0, 0, 0, 0, 1, 1, 0),\n",
       " 7: (0, 0, 0, 0, 1, 0, 0, 0),\n",
       " 8: (0, 0, 0, 0, 1, 0, 0, 1),\n",
       " 9: (0, 0, 0, 0, 1, 0, 1, 0),\n",
       " 10: (0, 0, 0, 0, 1, 1, 0, 0),\n",
       " 11: (0, 0, 0, 1, 0, 0, 0, 0),\n",
       " 12: (0, 0, 0, 1, 0, 0, 0, 1),\n",
       " 13: (0, 0, 0, 1, 0, 0, 1, 0),\n",
       " 14: (0, 0, 0, 1, 0, 1, 0, 0),\n",
       " 15: (0, 0, 0, 1, 1, 0, 0, 0),\n",
       " 16: (0, 0, 1, 0, 0, 0, 0, 0),\n",
       " 17: (0, 0, 1, 0, 0, 0, 0, 1),\n",
       " 18: (0, 0, 1, 0, 0, 0, 1, 0),\n",
       " 19: (0, 0, 1, 0, 0, 1, 0, 0),\n",
       " 20: (0, 0, 1, 0, 1, 0, 0, 0),\n",
       " 21: (0, 0, 1, 1, 0, 0, 0, 0),\n",
       " 22: (0, 1, 0, 0, 0, 0, 0, 0),\n",
       " 23: (0, 1, 0, 0, 0, 0, 0, 1),\n",
       " 24: (0, 1, 0, 0, 0, 0, 1, 0),\n",
       " 25: (0, 1, 0, 0, 0, 1, 0, 0),\n",
       " 26: (0, 1, 0, 0, 1, 0, 0, 0),\n",
       " 27: (0, 1, 0, 1, 0, 0, 0, 0),\n",
       " 28: (0, 1, 1, 0, 0, 0, 0, 0),\n",
       " 29: (1, 0, 0, 0, 0, 0, 0, 0),\n",
       " 30: (1, 0, 0, 0, 0, 0, 0, 1),\n",
       " 31: (1, 0, 0, 0, 0, 0, 1, 0),\n",
       " 32: (1, 0, 0, 0, 0, 1, 0, 0),\n",
       " 33: (1, 0, 0, 0, 1, 0, 0, 0),\n",
       " 34: (1, 0, 0, 1, 0, 0, 0, 0),\n",
       " 35: (1, 0, 1, 0, 0, 0, 0, 0),\n",
       " 36: (1, 1, 0, 0, 0, 0, 0, 0)}"
      ]
     },
     "execution_count": 32,
     "metadata": {},
     "output_type": "execute_result"
    }
   ],
   "source": [
    "idx2state"
   ]
  },
  {
   "cell_type": "code",
   "execution_count": 6,
   "metadata": {},
   "outputs": [],
   "source": [
    "#I need to add Ncc back in, which i do here:\n",
    "from qutip.states import enr_state_dictionaries\n",
    "\n",
    "def get_aux_matrices(full, level, N_baths, Nk, N_cut):\n",
    "    \"\"\"\n",
    "    Extracts the auxiliary matrices at a particular level\n",
    "    from the full hierarchy ADOs.\n",
    "    \n",
    "    Parameters\n",
    "    ----------\n",
    "    full: ndarray\n",
    "        A 2D array of the time evolution of the ADOs.\n",
    "    \n",
    "    level: int\n",
    "        The level of the hierarchy to get the ADOs.\n",
    "        \n",
    "    Nc: int\n",
    "        The hierarchy cutoff.\n",
    "    \n",
    "    k: int\n",
    "        The total number of exponentials used to express the correlation.\n",
    "    \"\"\"\n",
    "    #Note: Max N_cut is Nk*N_baths\n",
    "    nstates, state2idx, idx2state =enr_state_dictionaries([2]*(Nk*N_baths) ,N_cut)#_heom_state_dictionaries([Nc + 1]*(Nk), Nc)\n",
    "    aux_indices = []\n",
    "    \n",
    "    aux_heom_indices = []\n",
    "    for stateid in state2idx:\n",
    "        if np.sum(stateid) == level:\n",
    "            aux_indices.append(state2idx[stateid])\n",
    "            aux_heom_indices.append(stateid)\n",
    "    full = np.array(full)\n",
    "    aux = []\n",
    "\n",
    "    for i in aux_indices:\n",
    "        #qlist = [Qobj(full[k, i, :].reshape(2*Nbos, 2*Nbos).T,dims=d1.dims) for k in range(len(full))]\n",
    "        qlist = [Qobj(full[k, i, :].reshape(2, 2).T,dims=d1.dims) for k in range(len(full))]\n",
    "        aux.append(qlist)\n",
    "    return aux, aux_heom_indices, idx2state"
   ]
  },
  {
   "cell_type": "code",
   "execution_count": 7,
   "metadata": {},
   "outputs": [
    {
     "data": {
      "text/plain": [
       "[<matplotlib.lines.Line2D at 0x7fe5dcd75748>]"
      ]
     },
     "execution_count": 7,
     "metadata": {},
     "output_type": "execute_result"
    },
    {
     "data": {
      "image/png": "[encoded data removed]",
      "text/plain": [
       "<Figure size 864x504 with 1 Axes>"
      ]
     },
     "metadata": {
      "needs_background": "light"
     },
     "output_type": "display_data"
    },
    {
     "data": {
      "image/png": "[encoded data removed]",
      "text/plain": [
       "<Figure size 864x504 with 1 Axes>"
      ]
     },
     "metadata": {
      "needs_background": "light"
     },
     "output_type": "display_data"
    },
    {
     "data": {
      "image/png": "[encoded data removed]",
      "text/plain": [
       "<Figure size 864x504 with 1 Axes>"
      ]
     },
     "metadata": {
      "needs_background": "light"
     },
     "output_type": "display_data"
    },
    {
     "data": {
      "image/png": "[encoded data removed]",
      "text/plain": [
       "<Figure size 864x504 with 1 Axes>"
      ]
     },
     "metadata": {
      "needs_background": "light"
     },
     "output_type": "display_data"
    }
   ],
   "source": [
    "#parameters and spectra check\n",
    "\n",
    "#thoss\n",
    "#1a\n",
    "#Gamma = 0.01\n",
    "#1c\n",
    "Gamma = 0.1\n",
    "#phillip\n",
    "#Gamma =10\n",
    "\n",
    "W = 10**4\n",
    "#phillip\n",
    "#W=0.1\n",
    "#pade paper\n",
    "#Gamma = 1.\n",
    "#W=1.\n",
    " \n",
    "#T = 300\n",
    "T = 0.025851991 #in ev\n",
    "beta = 1./T\n",
    "\n",
    "theta = 2.\n",
    "mu_l = theta/2.\n",
    "mu_r = -theta/2.\n",
    "\n",
    "w_list = np.linspace(-2,2,100)\n",
    "\n",
    "def Gamma_L_w(w):\n",
    "    return Gamma*W**2/((w-mu_l)**2 + W**2)\n",
    "\n",
    "def Gamma_R_w(w):\n",
    "    return Gamma*W**2/((w-mu_r)**2 + W**2)\n",
    "\n",
    "\n",
    "def f(x):\n",
    "    kB=1.\n",
    "    return 1/(exp(x)+1.)\n",
    "def f2(x):\n",
    "    return 0.5\n",
    "\n",
    "fig, ax1 = plt.subplots(figsize=(12, 7))\n",
    "gam_list_in = [Gamma_L_w(w)*f(beta*(w-mu_l)) for w in w_list]\n",
    "#print(gam_list)\n",
    "ax1.plot(w_list,gam_list_in, color=\"b\", linewidth=3, label= r\"Gamma_L(w) input (absorption)\")\n",
    "\n",
    "#ax1.set_ylim(0, 0.1)\n",
    "ax1.set_xlabel(\"w\")\n",
    "ax1.set_ylabel(r\"$n$\")\n",
    "ax1.legend()\n",
    "fig, ax2 = plt.subplots(figsize=(12, 7))\n",
    "#ax2.plot(E_list,[f_L(E) for E in E_list], color=\"r\", linewidth=3, label= r\"fl\")\n",
    "gam_list_out = [Gamma_L_w(w)*f(-beta*(w-mu_l)) for w in w_list]\n",
    "spec = [Gamma_L_w(w) for w in w_list]\n",
    "#print(gam_list)\n",
    "ax2.plot(w_list,gam_list_out, color=\"r\", linewidth=3, label= r\"Gamma_L(w) output (emission)\")\n",
    "#ax2.plot(w_list,spec, color=\"g\", linewidth=3, label= r\"Gamma_L(w) output (emission)\")\n",
    "\n",
    "fig, ax1 = plt.subplots(figsize=(12, 7))\n",
    "gam_list_in = [Gamma_R_w(w)*f(beta*(w-mu_r)) for w in w_list]\n",
    "#print(gam_list)\n",
    "ax1.plot(w_list,gam_list_in, color=\"b\", linewidth=3, label= r\"Gamma_R(w) input (absorption)\")\n",
    "\n",
    "#ax1.set_ylim(0, 0.1)\n",
    "ax1.set_xlabel(\"w\")\n",
    "ax1.set_ylabel(r\"$n$\")\n",
    "ax1.legend()\n",
    "fig, ax2 = plt.subplots(figsize=(12, 7))\n",
    "#ax2.plot(E_list,[f_L(E) for E in E_list], color=\"r\", linewidth=3, label= r\"fl\")\n",
    "gam_list_out = [Gamma_R_w(w)*f(-beta*(w-mu_r)) for w in w_list]\n",
    "spec = [Gamma_R_w(w) for w in w_list]\n",
    "#print(gam_list)\n",
    "ax2.plot(w_list,gam_list_out, color=\"r\", linewidth=3, label= r\"Gamma_R(w) output (emission)\")\n",
    "#ax2.plot(w_list,spec, color=\"g\", linewidth=3, label= r\"Gamma_L(w) output (emission)\")\n"
   ]
  },
  {
   "cell_type": "code",
   "execution_count": 8,
   "metadata": {},
   "outputs": [
    {
     "data": {
      "text/plain": [
       "<matplotlib.legend.Legend at 0x7fe5dc507710>"
      ]
     },
     "execution_count": 8,
     "metadata": {},
     "output_type": "execute_result"
    },
    {
     "data": {
      "image/png": "[encoded data removed]",
      "text/plain": [
       "<Figure size 864x504 with 1 Axes>"
      ]
     },
     "metadata": {
      "needs_background": "light"
     },
     "output_type": "display_data"
    }
   ],
   "source": [
    "\n",
    "fig, ax1 = plt.subplots(figsize=(12, 7))\n",
    "gam_list_in = [Gamma_L_w(w)*f(beta*(w-mu_l)) for w in w_list]\n",
    "#print(gam_list)\n",
    "ax1.plot(w_list,gam_list_in, color=\"b\", linewidth=3, label= r\"Gamma_L(w) input (absorption)\")\n",
    "\n",
    "#ax1.set_ylim(0, 0.1)\n",
    "ax1.set_xlabel(\"w\")\n",
    "ax1.set_ylabel(r\"$n$\")\n",
    "ax1.legend()\n",
    "\n",
    "#ax2.plot(E_list,[f_L(E) for E in E_list], color=\"r\", linewidth=3, label= r\"fl\")\n",
    "gam_list_out = [Gamma_L_w(w)*f(-beta*(w-mu_l)) for w in w_list]\n",
    "spec = [Gamma_L_w(w) for w in w_list]\n",
    "#print(gam_list)\n",
    "ax1.plot(w_list,gam_list_out, color=\"r\", linewidth=3, label= r\"Gamma_L(w) output (emission)\")\n",
    "#ax2.plot(w_list,spec, color=\"g\", linewidth=3, label= r\"Gamma_L(w) output (emission)\")\n",
    "\n",
    "gam_list_in = [Gamma_R_w(w)*f(beta*(w-mu_r)) for w in w_list]\n",
    "#print(gam_list)\n",
    "ax1.plot(w_list,gam_list_in, color=\"b\", linewidth=3, label= r\"Gamma_R(w) input (absorption)\")\n",
    "\n",
    "\n",
    "\n",
    "#ax2.plot(E_list,[f_L(E) for E in E_list], color=\"r\", linewidth=3, label= r\"fl\")\n",
    "gam_list_out = [Gamma_R_w(w)*f(-beta*(w-mu_r)) for w in w_list]\n",
    "spec = [Gamma_R_w(w) for w in w_list]\n",
    "#print(gam_list)\n",
    "ax1.plot(w_list,gam_list_out, color=\"r\", linewidth=3, label= r\"Gamma_R(w) output (emission)\")\n",
    "#ax2.plot(w_list,spec, color=\"g\", linewidth=3, label= r\"Gamma_L(w) output (emission)\")\n",
    "#ax1.set_ylim(0, 0.1)\n",
    "ax1.set_xlabel(\"w\")\n",
    "ax1.set_ylabel(r\"$n$\")\n",
    "ax1.legend()"
   ]
  },
  {
   "cell_type": "code",
   "execution_count": 9,
   "metadata": {},
   "outputs": [],
   "source": [
    "#construct phonon correlation function. lets test it!\n",
    "from scipy.special import iv\n",
    "#scipy.special.iv(v, z) \n",
    "Omega = 0.2\n",
    "Lambda = 0.4\n",
    "def n_bos(x):\n",
    "    return 1./(exp(x)-1.)\n",
    "\n",
    "Nth = n_bos(beta*Omega)\n",
    "\n",
    "\n",
    "def c_bos(t):\n",
    "    return exp(-(Lambda**2/Omega**2) *( (1+Nth) * (1-exp(-1.0j*Omega*t)) +Nth*(1-exp(1.0j*Omega*t))))\n",
    "\n",
    "def A(u):\n",
    "    return exp(-(Lambda**2/Omega**2) * (2*Nth + 1)) * ((Nth+1)/Nth)**(u/2.) * iv(abs(u),2*(Lambda**2/Omega**2)*sqrt(Nth*(Nth+1)))\n",
    "    \n",
    "\n",
    "def c_bos2(t,sigma):\n",
    "    c_temp=0.\n",
    "    a_list = []\n",
    "    om_list = []\n",
    "    for u in range(-umax, umax+1):\n",
    "        #print(u)\n",
    "        \n",
    "        c_temp+= A(sigma*u)*exp(-1.0j*sigma*u*Omega*t)\n",
    "        a_list.append(A(sigma*u))\n",
    "        om_list.append(1.0j*sigma*u*Omega)\n",
    "    return c_temp,a_list,om_list\n",
    "\n",
    "\n",
    "        \n"
   ]
  },
  {
   "cell_type": "code",
   "execution_count": 10,
   "metadata": {},
   "outputs": [
    {
     "data": {
      "text/plain": [
       "((0.6287686974948405+0j),\n",
       " [7.10045180774267e-15,\n",
       "  1.625928152338735e-11,\n",
       "  2.79305257428066e-08,\n",
       "  3.200503152894174e-05,\n",
       "  0.018379593101584827,\n",
       "  0.07329452334576846,\n",
       "  0.14648246565201353,\n",
       "  0.1952815201867457,\n",
       "  0.195298562230407],\n",
       " [-0.8j,\n",
       "  -0.6000000000000001j,\n",
       "  -0.4j,\n",
       "  -0.2j,\n",
       "  0j,\n",
       "  0.2j,\n",
       "  0.4j,\n",
       "  0.6000000000000001j,\n",
       "  0.8j])"
      ]
     },
     "execution_count": 10,
     "metadata": {},
     "output_type": "execute_result"
    }
   ],
   "source": [
    "umax=4\n",
    "c_bos2(0,1)"
   ]
  },
  {
   "cell_type": "code",
   "execution_count": 11,
   "metadata": {},
   "outputs": [
    {
     "name": "stderr",
     "output_type": "stream",
     "text": [
      "/home/neill/anaconda3/lib/python3.7/site-packages/numpy/core/numeric.py:501: ComplexWarning: Casting complex values to real discards the imaginary part\n",
      "  return array(a, dtype, copy=False, order=order)\n"
     ]
    },
    {
     "data": {
      "text/plain": [
       "<matplotlib.legend.Legend at 0x7fe5dcc917b8>"
      ]
     },
     "execution_count": 11,
     "metadata": {},
     "output_type": "execute_result"
    },
    {
     "data": {
      "image/png": "[encoded data removed]",
      "text/plain": [
       "<Figure size 864x504 with 1 Axes>"
      ]
     },
     "metadata": {
      "needs_background": "light"
     },
     "output_type": "display_data"
    }
   ],
   "source": [
    "fig, ax1 = plt.subplots(figsize=(12, 7))\n",
    "#\n",
    "umax = 10\n",
    "tlist = linspace(0,10,100)\n",
    "ax1.plot(tlist,[c_bos(t) for t in tlist], color=\"red\", linewidth=3, label= r\"up\")\n",
    "ax1.plot(tlist,[c_bos2(t,1)[0] for t in tlist], color=\"black\", linewidth=3, label= r\"up\")\n",
    "    \n",
    "    \n",
    "    #ax1.set_ylim(0, 1)\n",
    "ax1.set_xlabel(\"t\")\n",
    "ax1.set_ylabel(r\"C\")\n",
    "ax1.legend()\n"
   ]
  },
  {
   "cell_type": "code",
   "execution_count": 3,
   "metadata": {},
   "outputs": [],
   "source": [
    "import numpy as np\n"
   ]
  },
  {
   "cell_type": "code",
   "execution_count": 7,
   "metadata": {},
   "outputs": [
    {
     "name": "stdout",
     "output_type": "stream",
     "text": [
      "[0.         0.04166667 0.08333333 0.125      0.16666667 0.20833333\n",
      " 0.25       0.29166667 0.33333333 0.375      0.41666667 0.45833333\n",
      " 0.5        0.54166667 0.58333333 0.625      0.66666667 0.70833333\n",
      " 0.75       0.79166667 0.83333333 0.875      0.91666667 0.95833333\n",
      " 1.        ]\n"
     ]
    }
   ],
   "source": [
    "theta_list = np.linspace(0,1,25)\n",
    "np.real(theta_list)"
   ]
  },
  {
   "cell_type": "code",
   "execution_count": 8,
   "metadata": {},
   "outputs": [
    {
     "data": {
      "text/plain": [
       "array([0.        , 0.04166667, 0.08333333, 0.125     , 0.16666667,\n",
       "       0.20833333, 0.25      , 0.29166667, 0.33333333, 0.375     ,\n",
       "       0.41666667, 0.45833333, 0.5       , 0.54166667, 0.58333333,\n",
       "       0.625     , 0.66666667, 0.70833333, 0.75      , 0.79166667,\n",
       "       0.83333333, 0.875     , 0.91666667, 0.95833333, 1.        ])"
      ]
     },
     "execution_count": 8,
     "metadata": {},
     "output_type": "execute_result"
    }
   ],
   "source": [
    "np.real(theta_list)"
   ]
  },
  {
   "cell_type": "code",
   "execution_count": 41,
   "metadata": {},
   "outputs": [
    {
     "name": "stdout",
     "output_type": "stream",
     "text": [
      "------------- theta: 0.0\n",
      "[0, 0.9999999999999862, 0.9999999999999868, 1.0000000000012206, 1.0000001690305604, 1.0003807129102773, 1.0439710525567194, 1.5305316265017264, 3.2018172059815946, 9.279187642797012, 84.94411159022091]\n",
      "[0, 3.141592653589793, 9.424777960769381, 15.707963267949479, 21.991148682663308, 28.274698131942646, 34.62641555503289, 42.3031405780699, 56.25248560357533, 90.71566976800949, 267.89788247787743]\n",
      "0\n",
      "[1.3359229316168807e-36, 7.645618129954495e-33, 3.938151727177783e-29, 1.8031348094284043e-25, 7.224105029678759e-22, 2.4809110084756872e-18, 7.10045180774267e-15, 1.625928152338735e-11, 2.79305257428066e-08, 3.200503152894174e-05, 0.018379593101584827, 0.07329452334576846, 0.14648246565201353, 0.1952815201867457, 0.195298562230407, 0.1562706841961669, 0.10420861991805043, 0.05956635917538749, 0.02979329715886841, 0.013246220867802208, 0.005300466079781793]\n",
      "0\n",
      "[-2j, -1.8j, -1.6j, -1.4000000000000001j, -1.2000000000000002j, -1j, -0.8j, -0.6000000000000001j, -0.4j, -0.2j, 0j, 0.2j, 0.4j, 0.6000000000000001j, 0.8j, 1j, 1.2000000000000002j, 1.4000000000000001j, 1.6j, 1.8j, 2j]\n",
      "925\n",
      "6\n",
      "10.1%. Run time: 204.72s. Est. time left: 00:00:30:31\n",
      "20.0%. Run time: 401.22s. Est. time left: 00:00:26:44\n",
      "30.1%. Run time: 599.72s. Est. time left: 00:00:23:15\n",
      "40.0%. Run time: 796.26s. Est. time left: 00:00:19:54\n",
      "50.1%. Run time: 994.38s. Est. time left: 00:00:16:32\n",
      "60.0%. Run time: 1191.71s. Est. time left: 00:00:13:14\n",
      "70.1%. Run time: 1390.38s. Est. time left: 00:00:09:54\n",
      "80.0%. Run time: 1581.47s. Est. time left: 00:00:06:35\n",
      "90.1%. Run time: 1776.32s. Est. time left: 00:00:03:16\n",
      "100.0%. Run time: 1971.15s. Est. time left: 00:00:00:00\n",
      "Total run time: 1971.17s\n",
      "construct time: 2050.4964113235474\n",
      "ss time 1.1759827136993408\n",
      "------------- theta: 0.041666666666666664\n",
      "[0, 0.9999999999999862, 0.9999999999999868, 1.0000000000012206, 1.0000001690305604, 1.0003807129102773, 1.0439710525567194, 1.5305316265017264, 3.2018172059815946, 9.279187642797012, 84.94411159022091]\n",
      "[0, 3.141592653589793, 9.424777960769381, 15.707963267949479, 21.991148682663308, 28.274698131942646, 34.62641555503289, 42.3031405780699, 56.25248560357533, 90.71566976800949, 267.89788247787743]\n",
      "0\n",
      "[1.3359229316168807e-36, 7.645618129954495e-33, 3.938151727177783e-29, 1.8031348094284043e-25, 7.224105029678759e-22, 2.4809110084756872e-18, 7.10045180774267e-15, 1.625928152338735e-11, 2.79305257428066e-08, 3.200503152894174e-05, 0.018379593101584827, 0.07329452334576846, 0.14648246565201353, 0.1952815201867457, 0.195298562230407, 0.1562706841961669, 0.10420861991805043, 0.05956635917538749, 0.02979329715886841, 0.013246220867802208, 0.005300466079781793]\n",
      "0\n",
      "[-2j, -1.8j, -1.6j, -1.4000000000000001j, -1.2000000000000002j, -1j, -0.8j, -0.6000000000000001j, -0.4j, -0.2j, 0j, 0.2j, 0.4j, 0.6000000000000001j, 0.8j, 1j, 1.2000000000000002j, 1.4000000000000001j, 1.6j, 1.8j, 2j]\n",
      "925\n",
      "6\n",
      "10.1%. Run time: 200.64s. Est. time left: 00:00:29:55\n",
      "20.0%. Run time: 388.88s. Est. time left: 00:00:25:55\n",
      "30.1%. Run time: 579.51s. Est. time left: 00:00:22:28\n",
      "40.0%. Run time: 767.64s. Est. time left: 00:00:19:11\n",
      "50.1%. Run time: 956.67s. Est. time left: 00:00:15:54\n",
      "60.0%. Run time: 1144.19s. Est. time left: 00:00:12:42\n",
      "70.1%. Run time: 1332.91s. Est. time left: 00:00:09:29\n",
      "80.0%. Run time: 1520.81s. Est. time left: 00:00:06:20\n",
      "90.1%. Run time: 1709.40s. Est. time left: 00:00:03:08\n",
      "100.0%. Run time: 1895.45s. Est. time left: 00:00:00:00\n",
      "Total run time: 1895.49s\n",
      "construct time: 1977.9072706699371\n",
      "ss time 1.2076096534729004\n",
      "------------- theta: 0.08333333333333333\n",
      "[0, 0.9999999999999862, 0.9999999999999868, 1.0000000000012206, 1.0000001690305604, 1.0003807129102773, 1.0439710525567194, 1.5305316265017264, 3.2018172059815946, 9.279187642797012, 84.94411159022091]\n",
      "[0, 3.141592653589793, 9.424777960769381, 15.707963267949479, 21.991148682663308, 28.274698131942646, 34.62641555503289, 42.3031405780699, 56.25248560357533, 90.71566976800949, 267.89788247787743]\n",
      "0\n",
      "[1.3359229316168807e-36, 7.645618129954495e-33, 3.938151727177783e-29, 1.8031348094284043e-25, 7.224105029678759e-22, 2.4809110084756872e-18, 7.10045180774267e-15, 1.625928152338735e-11, 2.79305257428066e-08, 3.200503152894174e-05, 0.018379593101584827, 0.07329452334576846, 0.14648246565201353, 0.1952815201867457, 0.195298562230407, 0.1562706841961669, 0.10420861991805043, 0.05956635917538749, 0.02979329715886841, 0.013246220867802208, 0.005300466079781793]\n",
      "0\n",
      "[-2j, -1.8j, -1.6j, -1.4000000000000001j, -1.2000000000000002j, -1j, -0.8j, -0.6000000000000001j, -0.4j, -0.2j, 0j, 0.2j, 0.4j, 0.6000000000000001j, 0.8j, 1j, 1.2000000000000002j, 1.4000000000000001j, 1.6j, 1.8j, 2j]\n",
      "925\n",
      "6\n",
      "10.1%. Run time: 203.62s. Est. time left: 00:00:30:21\n",
      "20.0%. Run time: 393.13s. Est. time left: 00:00:26:12\n",
      "30.1%. Run time: 584.91s. Est. time left: 00:00:22:41\n",
      "40.0%. Run time: 776.44s. Est. time left: 00:00:19:24\n",
      "50.1%. Run time: 974.71s. Est. time left: 00:00:16:12\n",
      "60.0%. Run time: 1169.25s. Est. time left: 00:00:12:59\n",
      "70.1%. Run time: 1368.51s. Est. time left: 00:00:09:44\n",
      "80.0%. Run time: 1561.40s. Est. time left: 00:00:06:30\n",
      "90.1%. Run time: 1757.83s. Est. time left: 00:00:03:14\n",
      "100.0%. Run time: 1949.70s. Est. time left: 00:00:00:00\n",
      "Total run time: 1949.77s\n",
      "construct time: 2028.1905326843262\n",
      "ss time 0.7411038875579834\n",
      "------------- theta: 0.125\n",
      "[0, 0.9999999999999862, 0.9999999999999868, 1.0000000000012206, 1.0000001690305604, 1.0003807129102773, 1.0439710525567194, 1.5305316265017264, 3.2018172059815946, 9.279187642797012, 84.94411159022091]\n",
      "[0, 3.141592653589793, 9.424777960769381, 15.707963267949479, 21.991148682663308, 28.274698131942646, 34.62641555503289, 42.3031405780699, 56.25248560357533, 90.71566976800949, 267.89788247787743]\n",
      "0\n",
      "[1.3359229316168807e-36, 7.645618129954495e-33, 3.938151727177783e-29, 1.8031348094284043e-25, 7.224105029678759e-22, 2.4809110084756872e-18, 7.10045180774267e-15, 1.625928152338735e-11, 2.79305257428066e-08, 3.200503152894174e-05, 0.018379593101584827, 0.07329452334576846, 0.14648246565201353, 0.1952815201867457, 0.195298562230407, 0.1562706841961669, 0.10420861991805043, 0.05956635917538749, 0.02979329715886841, 0.013246220867802208, 0.005300466079781793]\n",
      "0\n",
      "[-2j, -1.8j, -1.6j, -1.4000000000000001j, -1.2000000000000002j, -1j, -0.8j, -0.6000000000000001j, -0.4j, -0.2j, 0j, 0.2j, 0.4j, 0.6000000000000001j, 0.8j, 1j, 1.2000000000000002j, 1.4000000000000001j, 1.6j, 1.8j, 2j]\n",
      "925\n",
      "6\n",
      "10.1%. Run time: 208.38s. Est. time left: 00:00:31:04\n",
      "20.0%. Run time: 403.01s. Est. time left: 00:00:26:52\n",
      "30.1%. Run time: 600.36s. Est. time left: 00:00:23:17\n",
      "40.0%. Run time: 793.04s. Est. time left: 00:00:19:49\n",
      "50.1%. Run time: 987.03s. Est. time left: 00:00:16:24\n",
      "60.0%. Run time: 1178.27s. Est. time left: 00:00:13:05\n",
      "70.1%. Run time: 1370.73s. Est. time left: 00:00:09:45\n",
      "80.0%. Run time: 1565.20s. Est. time left: 00:00:06:31\n",
      "90.1%. Run time: 1760.19s. Est. time left: 00:00:03:14\n",
      "100.0%. Run time: 1957.89s. Est. time left: 00:00:00:00\n",
      "Total run time: 1957.93s\n",
      "construct time: 2038.797572851181\n",
      "ss time 1.1563990116119385\n",
      "------------- theta: 0.16666666666666666\n",
      "[0, 0.9999999999999862, 0.9999999999999868, 1.0000000000012206, 1.0000001690305604, 1.0003807129102773, 1.0439710525567194, 1.5305316265017264, 3.2018172059815946, 9.279187642797012, 84.94411159022091]\n",
      "[0, 3.141592653589793, 9.424777960769381, 15.707963267949479, 21.991148682663308, 28.274698131942646, 34.62641555503289, 42.3031405780699, 56.25248560357533, 90.71566976800949, 267.89788247787743]\n",
      "0\n",
      "[1.3359229316168807e-36, 7.645618129954495e-33, 3.938151727177783e-29, 1.8031348094284043e-25, 7.224105029678759e-22, 2.4809110084756872e-18, 7.10045180774267e-15, 1.625928152338735e-11, 2.79305257428066e-08, 3.200503152894174e-05, 0.018379593101584827, 0.07329452334576846, 0.14648246565201353, 0.1952815201867457, 0.195298562230407, 0.1562706841961669, 0.10420861991805043, 0.05956635917538749, 0.02979329715886841, 0.013246220867802208, 0.005300466079781793]\n",
      "0\n",
      "[-2j, -1.8j, -1.6j, -1.4000000000000001j, -1.2000000000000002j, -1j, -0.8j, -0.6000000000000001j, -0.4j, -0.2j, 0j, 0.2j, 0.4j, 0.6000000000000001j, 0.8j, 1j, 1.2000000000000002j, 1.4000000000000001j, 1.6j, 1.8j, 2j]\n",
      "925\n",
      "6\n",
      "10.1%. Run time: 206.10s. Est. time left: 00:00:30:43\n"
     ]
    },
    {
     "name": "stdout",
     "output_type": "stream",
     "text": [
      "20.0%. Run time: 398.20s. Est. time left: 00:00:26:32\n",
      "30.1%. Run time: 592.69s. Est. time left: 00:00:22:59\n",
      "40.0%. Run time: 788.93s. Est. time left: 00:00:19:43\n",
      "50.1%. Run time: 983.04s. Est. time left: 00:00:16:20\n",
      "60.0%. Run time: 1175.96s. Est. time left: 00:00:13:03\n",
      "70.1%. Run time: 1373.72s. Est. time left: 00:00:09:47\n",
      "80.0%. Run time: 1564.12s. Est. time left: 00:00:06:31\n",
      "90.1%. Run time: 1756.25s. Est. time left: 00:00:03:13\n",
      "100.0%. Run time: 1944.93s. Est. time left: 00:00:00:00\n",
      "Total run time: 1944.98s\n",
      "construct time: 2023.4134185314178\n",
      "ss time 0.7366306781768799\n",
      "------------- theta: 0.20833333333333331\n",
      "[0, 0.9999999999999862, 0.9999999999999868, 1.0000000000012206, 1.0000001690305604, 1.0003807129102773, 1.0439710525567194, 1.5305316265017264, 3.2018172059815946, 9.279187642797012, 84.94411159022091]\n",
      "[0, 3.141592653589793, 9.424777960769381, 15.707963267949479, 21.991148682663308, 28.274698131942646, 34.62641555503289, 42.3031405780699, 56.25248560357533, 90.71566976800949, 267.89788247787743]\n",
      "0\n",
      "[1.3359229316168807e-36, 7.645618129954495e-33, 3.938151727177783e-29, 1.8031348094284043e-25, 7.224105029678759e-22, 2.4809110084756872e-18, 7.10045180774267e-15, 1.625928152338735e-11, 2.79305257428066e-08, 3.200503152894174e-05, 0.018379593101584827, 0.07329452334576846, 0.14648246565201353, 0.1952815201867457, 0.195298562230407, 0.1562706841961669, 0.10420861991805043, 0.05956635917538749, 0.02979329715886841, 0.013246220867802208, 0.005300466079781793]\n",
      "0\n",
      "[-2j, -1.8j, -1.6j, -1.4000000000000001j, -1.2000000000000002j, -1j, -0.8j, -0.6000000000000001j, -0.4j, -0.2j, 0j, 0.2j, 0.4j, 0.6000000000000001j, 0.8j, 1j, 1.2000000000000002j, 1.4000000000000001j, 1.6j, 1.8j, 2j]\n",
      "925\n",
      "6\n",
      "10.1%. Run time: 201.26s. Est. time left: 00:00:30:00\n",
      "20.0%. Run time: 392.29s. Est. time left: 00:00:26:09\n",
      "30.1%. Run time: 585.10s. Est. time left: 00:00:22:41\n",
      "40.0%. Run time: 776.75s. Est. time left: 00:00:19:25\n",
      "50.1%. Run time: 968.92s. Est. time left: 00:00:16:06\n",
      "60.0%. Run time: 1157.15s. Est. time left: 00:00:12:51\n",
      "70.1%. Run time: 1353.19s. Est. time left: 00:00:09:38\n",
      "80.0%. Run time: 1541.47s. Est. time left: 00:00:06:25\n",
      "90.1%. Run time: 1734.23s. Est. time left: 00:00:03:11\n",
      "100.0%. Run time: 1927.14s. Est. time left: 00:00:00:00\n",
      "Total run time: 1927.15s\n",
      "construct time: 2009.0825552940369\n",
      "ss time 1.2096915245056152\n",
      "------------- theta: 0.25\n",
      "[0, 0.9999999999999862, 0.9999999999999868, 1.0000000000012206, 1.0000001690305604, 1.0003807129102773, 1.0439710525567194, 1.5305316265017264, 3.2018172059815946, 9.279187642797012, 84.94411159022091]\n",
      "[0, 3.141592653589793, 9.424777960769381, 15.707963267949479, 21.991148682663308, 28.274698131942646, 34.62641555503289, 42.3031405780699, 56.25248560357533, 90.71566976800949, 267.89788247787743]\n",
      "0\n",
      "[1.3359229316168807e-36, 7.645618129954495e-33, 3.938151727177783e-29, 1.8031348094284043e-25, 7.224105029678759e-22, 2.4809110084756872e-18, 7.10045180774267e-15, 1.625928152338735e-11, 2.79305257428066e-08, 3.200503152894174e-05, 0.018379593101584827, 0.07329452334576846, 0.14648246565201353, 0.1952815201867457, 0.195298562230407, 0.1562706841961669, 0.10420861991805043, 0.05956635917538749, 0.02979329715886841, 0.013246220867802208, 0.005300466079781793]\n",
      "0\n",
      "[-2j, -1.8j, -1.6j, -1.4000000000000001j, -1.2000000000000002j, -1j, -0.8j, -0.6000000000000001j, -0.4j, -0.2j, 0j, 0.2j, 0.4j, 0.6000000000000001j, 0.8j, 1j, 1.2000000000000002j, 1.4000000000000001j, 1.6j, 1.8j, 2j]\n",
      "925\n",
      "6\n",
      "10.1%. Run time: 204.72s. Est. time left: 00:00:30:31\n",
      "20.0%. Run time: 394.92s. Est. time left: 00:00:26:19\n",
      "30.1%. Run time: 585.93s. Est. time left: 00:00:22:43\n",
      "40.0%. Run time: 774.67s. Est. time left: 00:00:19:22\n",
      "50.1%. Run time: 964.99s. Est. time left: 00:00:16:02\n",
      "60.0%. Run time: 1153.06s. Est. time left: 00:00:12:48\n",
      "70.1%. Run time: 1343.59s. Est. time left: 00:00:09:34\n",
      "80.0%. Run time: 1531.08s. Est. time left: 00:00:06:22\n",
      "90.1%. Run time: 1719.83s. Est. time left: 00:00:03:09\n",
      "100.0%. Run time: 1905.73s. Est. time left: 00:00:00:00\n",
      "Total run time: 1905.76s\n",
      "construct time: 1985.5383949279785\n",
      "ss time 0.7282178401947021\n",
      "------------- theta: 0.29166666666666663\n",
      "[0, 0.9999999999999862, 0.9999999999999868, 1.0000000000012206, 1.0000001690305604, 1.0003807129102773, 1.0439710525567194, 1.5305316265017264, 3.2018172059815946, 9.279187642797012, 84.94411159022091]\n",
      "[0, 3.141592653589793, 9.424777960769381, 15.707963267949479, 21.991148682663308, 28.274698131942646, 34.62641555503289, 42.3031405780699, 56.25248560357533, 90.71566976800949, 267.89788247787743]\n",
      "0\n",
      "[1.3359229316168807e-36, 7.645618129954495e-33, 3.938151727177783e-29, 1.8031348094284043e-25, 7.224105029678759e-22, 2.4809110084756872e-18, 7.10045180774267e-15, 1.625928152338735e-11, 2.79305257428066e-08, 3.200503152894174e-05, 0.018379593101584827, 0.07329452334576846, 0.14648246565201353, 0.1952815201867457, 0.195298562230407, 0.1562706841961669, 0.10420861991805043, 0.05956635917538749, 0.02979329715886841, 0.013246220867802208, 0.005300466079781793]\n",
      "0\n",
      "[-2j, -1.8j, -1.6j, -1.4000000000000001j, -1.2000000000000002j, -1j, -0.8j, -0.6000000000000001j, -0.4j, -0.2j, 0j, 0.2j, 0.4j, 0.6000000000000001j, 0.8j, 1j, 1.2000000000000002j, 1.4000000000000001j, 1.6j, 1.8j, 2j]\n",
      "925\n",
      "6\n",
      "10.1%. Run time: 205.47s. Est. time left: 00:00:30:38\n",
      "20.0%. Run time: 396.13s. Est. time left: 00:00:26:24\n",
      "30.1%. Run time: 588.67s. Est. time left: 00:00:22:50\n",
      "40.0%. Run time: 778.58s. Est. time left: 00:00:19:27\n",
      "50.1%. Run time: 969.78s. Est. time left: 00:00:16:07\n",
      "60.0%. Run time: 1158.55s. Est. time left: 00:00:12:52\n",
      "70.1%. Run time: 1349.16s. Est. time left: 00:00:09:36\n",
      "80.0%. Run time: 1541.96s. Est. time left: 00:00:06:25\n",
      "90.1%. Run time: 1738.89s. Est. time left: 00:00:03:12\n",
      "100.0%. Run time: 1934.59s. Est. time left: 00:00:00:00\n",
      "Total run time: 1934.67s\n",
      "construct time: 2014.569679737091\n",
      "ss time 1.1493093967437744\n",
      "------------- theta: 0.3333333333333333\n",
      "[0, 0.9999999999999862, 0.9999999999999868, 1.0000000000012206, 1.0000001690305604, 1.0003807129102773, 1.0439710525567194, 1.5305316265017264, 3.2018172059815946, 9.279187642797012, 84.94411159022091]\n",
      "[0, 3.141592653589793, 9.424777960769381, 15.707963267949479, 21.991148682663308, 28.274698131942646, 34.62641555503289, 42.3031405780699, 56.25248560357533, 90.71566976800949, 267.89788247787743]\n",
      "0\n",
      "[1.3359229316168807e-36, 7.645618129954495e-33, 3.938151727177783e-29, 1.8031348094284043e-25, 7.224105029678759e-22, 2.4809110084756872e-18, 7.10045180774267e-15, 1.625928152338735e-11, 2.79305257428066e-08, 3.200503152894174e-05, 0.018379593101584827, 0.07329452334576846, 0.14648246565201353, 0.1952815201867457, 0.195298562230407, 0.1562706841961669, 0.10420861991805043, 0.05956635917538749, 0.02979329715886841, 0.013246220867802208, 0.005300466079781793]\n",
      "0\n",
      "[-2j, -1.8j, -1.6j, -1.4000000000000001j, -1.2000000000000002j, -1j, -0.8j, -0.6000000000000001j, -0.4j, -0.2j, 0j, 0.2j, 0.4j, 0.6000000000000001j, 0.8j, 1j, 1.2000000000000002j, 1.4000000000000001j, 1.6j, 1.8j, 2j]\n",
      "925\n",
      "6\n",
      "10.1%. Run time: 210.03s. Est. time left: 00:00:31:18\n",
      "20.0%. Run time: 406.14s. Est. time left: 00:00:27:04\n",
      "30.1%. Run time: 603.41s. Est. time left: 00:00:23:24\n",
      "40.0%. Run time: 799.12s. Est. time left: 00:00:19:58\n",
      "50.1%. Run time: 997.13s. Est. time left: 00:00:16:34\n",
      "60.0%. Run time: 1192.85s. Est. time left: 00:00:13:15\n",
      "70.1%. Run time: 1389.99s. Est. time left: 00:00:09:54\n",
      "80.0%. Run time: 1584.90s. Est. time left: 00:00:06:36\n",
      "90.1%. Run time: 1782.95s. Est. time left: 00:00:03:16\n",
      "100.0%. Run time: 1976.36s. Est. time left: 00:00:00:00\n",
      "Total run time: 1976.41s\n",
      "construct time: 2053.702373981476\n",
      "ss time 0.758507490158081\n",
      "------------- theta: 0.375\n",
      "[0, 0.9999999999999862, 0.9999999999999868, 1.0000000000012206, 1.0000001690305604, 1.0003807129102773, 1.0439710525567194, 1.5305316265017264, 3.2018172059815946, 9.279187642797012, 84.94411159022091]\n",
      "[0, 3.141592653589793, 9.424777960769381, 15.707963267949479, 21.991148682663308, 28.274698131942646, 34.62641555503289, 42.3031405780699, 56.25248560357533, 90.71566976800949, 267.89788247787743]\n",
      "0\n",
      "[1.3359229316168807e-36, 7.645618129954495e-33, 3.938151727177783e-29, 1.8031348094284043e-25, 7.224105029678759e-22, 2.4809110084756872e-18, 7.10045180774267e-15, 1.625928152338735e-11, 2.79305257428066e-08, 3.200503152894174e-05, 0.018379593101584827, 0.07329452334576846, 0.14648246565201353, 0.1952815201867457, 0.195298562230407, 0.1562706841961669, 0.10420861991805043, 0.05956635917538749, 0.02979329715886841, 0.013246220867802208, 0.005300466079781793]\n",
      "0\n",
      "[-2j, -1.8j, -1.6j, -1.4000000000000001j, -1.2000000000000002j, -1j, -0.8j, -0.6000000000000001j, -0.4j, -0.2j, 0j, 0.2j, 0.4j, 0.6000000000000001j, 0.8j, 1j, 1.2000000000000002j, 1.4000000000000001j, 1.6j, 1.8j, 2j]\n"
     ]
    },
    {
     "name": "stdout",
     "output_type": "stream",
     "text": [
      "925\n",
      "6\n",
      "10.1%. Run time: 208.38s. Est. time left: 00:00:31:04\n",
      "20.0%. Run time: 404.37s. Est. time left: 00:00:26:57\n",
      "30.1%. Run time: 601.83s. Est. time left: 00:00:23:20\n",
      "40.0%. Run time: 796.71s. Est. time left: 00:00:19:55\n",
      "50.1%. Run time: 994.02s. Est. time left: 00:00:16:31\n",
      "60.0%. Run time: 1188.29s. Est. time left: 00:00:13:12\n",
      "70.1%. Run time: 1385.25s. Est. time left: 00:00:09:52\n",
      "80.0%. Run time: 1579.56s. Est. time left: 00:00:06:34\n",
      "90.1%. Run time: 1775.18s. Est. time left: 00:00:03:16\n",
      "100.0%. Run time: 1968.84s. Est. time left: 00:00:00:00\n",
      "Total run time: 1968.89s\n",
      "construct time: 2048.111531972885\n",
      "ss time 1.1712348461151123\n",
      "------------- theta: 0.41666666666666663\n",
      "[0, 0.9999999999999862, 0.9999999999999868, 1.0000000000012206, 1.0000001690305604, 1.0003807129102773, 1.0439710525567194, 1.5305316265017264, 3.2018172059815946, 9.279187642797012, 84.94411159022091]\n",
      "[0, 3.141592653589793, 9.424777960769381, 15.707963267949479, 21.991148682663308, 28.274698131942646, 34.62641555503289, 42.3031405780699, 56.25248560357533, 90.71566976800949, 267.89788247787743]\n",
      "0\n",
      "[1.3359229316168807e-36, 7.645618129954495e-33, 3.938151727177783e-29, 1.8031348094284043e-25, 7.224105029678759e-22, 2.4809110084756872e-18, 7.10045180774267e-15, 1.625928152338735e-11, 2.79305257428066e-08, 3.200503152894174e-05, 0.018379593101584827, 0.07329452334576846, 0.14648246565201353, 0.1952815201867457, 0.195298562230407, 0.1562706841961669, 0.10420861991805043, 0.05956635917538749, 0.02979329715886841, 0.013246220867802208, 0.005300466079781793]\n",
      "0\n",
      "[-2j, -1.8j, -1.6j, -1.4000000000000001j, -1.2000000000000002j, -1j, -0.8j, -0.6000000000000001j, -0.4j, -0.2j, 0j, 0.2j, 0.4j, 0.6000000000000001j, 0.8j, 1j, 1.2000000000000002j, 1.4000000000000001j, 1.6j, 1.8j, 2j]\n",
      "925\n",
      "6\n",
      "10.1%. Run time: 210.49s. Est. time left: 00:00:31:23\n",
      "20.0%. Run time: 408.76s. Est. time left: 00:00:27:15\n",
      "30.1%. Run time: 609.49s. Est. time left: 00:00:23:38\n",
      "40.0%. Run time: 803.33s. Est. time left: 00:00:20:04\n",
      "50.1%. Run time: 998.83s. Est. time left: 00:00:16:36\n",
      "60.0%. Run time: 1191.56s. Est. time left: 00:00:13:14\n",
      "70.1%. Run time: 1386.31s. Est. time left: 00:00:09:52\n",
      "80.0%. Run time: 1579.14s. Est. time left: 00:00:06:34\n",
      "90.1%. Run time: 1773.60s. Est. time left: 00:00:03:15\n",
      "100.0%. Run time: 1964.94s. Est. time left: 00:00:00:00\n",
      "Total run time: 1965.01s\n",
      "construct time: 2039.686440229416\n",
      "ss time 0.6991076469421387\n",
      "------------- theta: 0.4583333333333333\n",
      "[0, 0.9999999999999862, 0.9999999999999868, 1.0000000000012206, 1.0000001690305604, 1.0003807129102773, 1.0439710525567194, 1.5305316265017264, 3.2018172059815946, 9.279187642797012, 84.94411159022091]\n",
      "[0, 3.141592653589793, 9.424777960769381, 15.707963267949479, 21.991148682663308, 28.274698131942646, 34.62641555503289, 42.3031405780699, 56.25248560357533, 90.71566976800949, 267.89788247787743]\n",
      "0\n",
      "[1.3359229316168807e-36, 7.645618129954495e-33, 3.938151727177783e-29, 1.8031348094284043e-25, 7.224105029678759e-22, 2.4809110084756872e-18, 7.10045180774267e-15, 1.625928152338735e-11, 2.79305257428066e-08, 3.200503152894174e-05, 0.018379593101584827, 0.07329452334576846, 0.14648246565201353, 0.1952815201867457, 0.195298562230407, 0.1562706841961669, 0.10420861991805043, 0.05956635917538749, 0.02979329715886841, 0.013246220867802208, 0.005300466079781793]\n",
      "0\n",
      "[-2j, -1.8j, -1.6j, -1.4000000000000001j, -1.2000000000000002j, -1j, -0.8j, -0.6000000000000001j, -0.4j, -0.2j, 0j, 0.2j, 0.4j, 0.6000000000000001j, 0.8j, 1j, 1.2000000000000002j, 1.4000000000000001j, 1.6j, 1.8j, 2j]\n",
      "925\n",
      "6\n",
      "10.1%. Run time: 208.00s. Est. time left: 00:00:31:00\n",
      "20.0%. Run time: 403.89s. Est. time left: 00:00:26:55\n",
      "30.1%. Run time: 600.89s. Est. time left: 00:00:23:18\n",
      "40.0%. Run time: 796.23s. Est. time left: 00:00:19:54\n",
      "50.1%. Run time: 992.06s. Est. time left: 00:00:16:29\n",
      "60.0%. Run time: 1187.34s. Est. time left: 00:00:13:11\n",
      "70.1%. Run time: 1382.73s. Est. time left: 00:00:09:51\n",
      "80.0%. Run time: 1576.06s. Est. time left: 00:00:06:34\n",
      "90.1%. Run time: 1771.35s. Est. time left: 00:00:03:15\n",
      "100.0%. Run time: 1963.47s. Est. time left: 00:00:00:00\n",
      "Total run time: 1963.55s\n",
      "construct time: 2041.3444085121155\n",
      "ss time 1.1689488887786865\n",
      "------------- theta: 0.5\n",
      "[0, 0.9999999999999862, 0.9999999999999868, 1.0000000000012206, 1.0000001690305604, 1.0003807129102773, 1.0439710525567194, 1.5305316265017264, 3.2018172059815946, 9.279187642797012, 84.94411159022091]\n",
      "[0, 3.141592653589793, 9.424777960769381, 15.707963267949479, 21.991148682663308, 28.274698131942646, 34.62641555503289, 42.3031405780699, 56.25248560357533, 90.71566976800949, 267.89788247787743]\n",
      "0\n",
      "[1.3359229316168807e-36, 7.645618129954495e-33, 3.938151727177783e-29, 1.8031348094284043e-25, 7.224105029678759e-22, 2.4809110084756872e-18, 7.10045180774267e-15, 1.625928152338735e-11, 2.79305257428066e-08, 3.200503152894174e-05, 0.018379593101584827, 0.07329452334576846, 0.14648246565201353, 0.1952815201867457, 0.195298562230407, 0.1562706841961669, 0.10420861991805043, 0.05956635917538749, 0.02979329715886841, 0.013246220867802208, 0.005300466079781793]\n",
      "0\n",
      "[-2j, -1.8j, -1.6j, -1.4000000000000001j, -1.2000000000000002j, -1j, -0.8j, -0.6000000000000001j, -0.4j, -0.2j, 0j, 0.2j, 0.4j, 0.6000000000000001j, 0.8j, 1j, 1.2000000000000002j, 1.4000000000000001j, 1.6j, 1.8j, 2j]\n",
      "925\n",
      "6\n",
      "10.1%. Run time: 209.62s. Est. time left: 00:00:31:15\n",
      "20.0%. Run time: 406.93s. Est. time left: 00:00:27:07\n",
      "30.1%. Run time: 616.79s. Est. time left: 00:00:23:55\n",
      "40.0%. Run time: 872.67s. Est. time left: 00:00:21:49\n",
      "50.1%. Run time: 1118.58s. Est. time left: 00:00:18:36\n",
      "60.0%. Run time: 1353.93s. Est. time left: 00:00:15:02\n",
      "70.1%. Run time: 1592.79s. Est. time left: 00:00:11:20\n",
      "80.0%. Run time: 1829.24s. Est. time left: 00:00:07:37\n",
      "90.1%. Run time: 2060.48s. Est. time left: 00:00:03:47\n",
      "100.0%. Run time: 2294.34s. Est. time left: 00:00:00:00\n",
      "Total run time: 2294.40s\n",
      "construct time: 2375.6128182411194\n",
      "ss time 1.2047407627105713\n",
      "------------- theta: 0.5416666666666666\n",
      "[0, 0.9999999999999862, 0.9999999999999868, 1.0000000000012206, 1.0000001690305604, 1.0003807129102773, 1.0439710525567194, 1.5305316265017264, 3.2018172059815946, 9.279187642797012, 84.94411159022091]\n",
      "[0, 3.141592653589793, 9.424777960769381, 15.707963267949479, 21.991148682663308, 28.274698131942646, 34.62641555503289, 42.3031405780699, 56.25248560357533, 90.71566976800949, 267.89788247787743]\n",
      "0\n",
      "[1.3359229316168807e-36, 7.645618129954495e-33, 3.938151727177783e-29, 1.8031348094284043e-25, 7.224105029678759e-22, 2.4809110084756872e-18, 7.10045180774267e-15, 1.625928152338735e-11, 2.79305257428066e-08, 3.200503152894174e-05, 0.018379593101584827, 0.07329452334576846, 0.14648246565201353, 0.1952815201867457, 0.195298562230407, 0.1562706841961669, 0.10420861991805043, 0.05956635917538749, 0.02979329715886841, 0.013246220867802208, 0.005300466079781793]\n",
      "0\n",
      "[-2j, -1.8j, -1.6j, -1.4000000000000001j, -1.2000000000000002j, -1j, -0.8j, -0.6000000000000001j, -0.4j, -0.2j, 0j, 0.2j, 0.4j, 0.6000000000000001j, 0.8j, 1j, 1.2000000000000002j, 1.4000000000000001j, 1.6j, 1.8j, 2j]\n",
      "925\n",
      "6\n",
      "10.1%. Run time: 253.82s. Est. time left: 00:00:37:50\n",
      "20.0%. Run time: 493.34s. Est. time left: 00:00:32:53\n",
      "30.1%. Run time: 733.32s. Est. time left: 00:00:28:26\n",
      "40.0%. Run time: 966.36s. Est. time left: 00:00:24:09\n",
      "50.1%. Run time: 1209.32s. Est. time left: 00:00:20:06\n",
      "60.0%. Run time: 1447.48s. Est. time left: 00:00:16:04\n",
      "70.1%. Run time: 1688.80s. Est. time left: 00:00:12:01\n",
      "80.0%. Run time: 1925.95s. Est. time left: 00:00:08:01\n",
      "90.1%. Run time: 2165.58s. Est. time left: 00:00:03:59\n",
      "100.0%. Run time: 2394.54s. Est. time left: 00:00:00:00\n",
      "Total run time: 2394.63s\n",
      "construct time: 2477.8314390182495\n",
      "ss time 1.243804931640625\n",
      "------------- theta: 0.5833333333333333\n",
      "[0, 0.9999999999999862, 0.9999999999999868, 1.0000000000012206, 1.0000001690305604, 1.0003807129102773, 1.0439710525567194, 1.5305316265017264, 3.2018172059815946, 9.279187642797012, 84.94411159022091]\n",
      "[0, 3.141592653589793, 9.424777960769381, 15.707963267949479, 21.991148682663308, 28.274698131942646, 34.62641555503289, 42.3031405780699, 56.25248560357533, 90.71566976800949, 267.89788247787743]\n",
      "0\n",
      "[1.3359229316168807e-36, 7.645618129954495e-33, 3.938151727177783e-29, 1.8031348094284043e-25, 7.224105029678759e-22, 2.4809110084756872e-18, 7.10045180774267e-15, 1.625928152338735e-11, 2.79305257428066e-08, 3.200503152894174e-05, 0.018379593101584827, 0.07329452334576846, 0.14648246565201353, 0.1952815201867457, 0.195298562230407, 0.1562706841961669, 0.10420861991805043, 0.05956635917538749, 0.02979329715886841, 0.013246220867802208, 0.005300466079781793]\n",
      "0\n",
      "[-2j, -1.8j, -1.6j, -1.4000000000000001j, -1.2000000000000002j, -1j, -0.8j, -0.6000000000000001j, -0.4j, -0.2j, 0j, 0.2j, 0.4j, 0.6000000000000001j, 0.8j, 1j, 1.2000000000000002j, 1.4000000000000001j, 1.6j, 1.8j, 2j]\n"
     ]
    },
    {
     "name": "stdout",
     "output_type": "stream",
     "text": [
      "925\n",
      "6\n",
      "10.1%. Run time: 254.86s. Est. time left: 00:00:37:59\n",
      "20.0%. Run time: 496.51s. Est. time left: 00:00:33:06\n",
      "30.1%. Run time: 740.84s. Est. time left: 00:00:28:44\n",
      "40.0%. Run time: 980.56s. Est. time left: 00:00:24:30\n",
      "50.1%. Run time: 1216.12s. Est. time left: 00:00:20:13\n",
      "60.0%. Run time: 1454.23s. Est. time left: 00:00:16:09\n",
      "70.1%. Run time: 1697.06s. Est. time left: 00:00:12:05\n",
      "80.0%. Run time: 1935.51s. Est. time left: 00:00:08:03\n",
      "90.1%. Run time: 2174.11s. Est. time left: 00:00:04:00\n",
      "100.0%. Run time: 2405.23s. Est. time left: 00:00:00:00\n",
      "Total run time: 2405.30s\n",
      "construct time: 2490.6060523986816\n",
      "ss time 0.804847240447998\n",
      "------------- theta: 0.625\n",
      "[0, 0.9999999999999862, 0.9999999999999868, 1.0000000000012206, 1.0000001690305604, 1.0003807129102773, 1.0439710525567194, 1.5305316265017264, 3.2018172059815946, 9.279187642797012, 84.94411159022091]\n",
      "[0, 3.141592653589793, 9.424777960769381, 15.707963267949479, 21.991148682663308, 28.274698131942646, 34.62641555503289, 42.3031405780699, 56.25248560357533, 90.71566976800949, 267.89788247787743]\n",
      "0\n",
      "[1.3359229316168807e-36, 7.645618129954495e-33, 3.938151727177783e-29, 1.8031348094284043e-25, 7.224105029678759e-22, 2.4809110084756872e-18, 7.10045180774267e-15, 1.625928152338735e-11, 2.79305257428066e-08, 3.200503152894174e-05, 0.018379593101584827, 0.07329452334576846, 0.14648246565201353, 0.1952815201867457, 0.195298562230407, 0.1562706841961669, 0.10420861991805043, 0.05956635917538749, 0.02979329715886841, 0.013246220867802208, 0.005300466079781793]\n",
      "0\n",
      "[-2j, -1.8j, -1.6j, -1.4000000000000001j, -1.2000000000000002j, -1j, -0.8j, -0.6000000000000001j, -0.4j, -0.2j, 0j, 0.2j, 0.4j, 0.6000000000000001j, 0.8j, 1j, 1.2000000000000002j, 1.4000000000000001j, 1.6j, 1.8j, 2j]\n",
      "925\n",
      "6\n",
      "10.1%. Run time: 253.13s. Est. time left: 00:00:37:44\n",
      "20.0%. Run time: 495.62s. Est. time left: 00:00:33:02\n",
      "30.1%. Run time: 765.96s. Est. time left: 00:00:29:42\n",
      "40.0%. Run time: 1018.57s. Est. time left: 00:00:25:27\n",
      "50.1%. Run time: 1256.92s. Est. time left: 00:00:20:54\n",
      "60.0%. Run time: 1489.14s. Est. time left: 00:00:16:32\n",
      "70.1%. Run time: 1728.12s. Est. time left: 00:00:12:18\n",
      "80.0%. Run time: 1965.66s. Est. time left: 00:00:08:11\n",
      "90.1%. Run time: 2204.40s. Est. time left: 00:00:04:03\n",
      "100.0%. Run time: 2439.39s. Est. time left: 00:00:00:00\n",
      "Total run time: 2439.41s\n",
      "construct time: 2522.932548761368\n",
      "ss time 1.2504150867462158\n",
      "------------- theta: 0.6666666666666666\n",
      "[0, 0.9999999999999862, 0.9999999999999868, 1.0000000000012206, 1.0000001690305604, 1.0003807129102773, 1.0439710525567194, 1.5305316265017264, 3.2018172059815946, 9.279187642797012, 84.94411159022091]\n",
      "[0, 3.141592653589793, 9.424777960769381, 15.707963267949479, 21.991148682663308, 28.274698131942646, 34.62641555503289, 42.3031405780699, 56.25248560357533, 90.71566976800949, 267.89788247787743]\n",
      "0\n",
      "[1.3359229316168807e-36, 7.645618129954495e-33, 3.938151727177783e-29, 1.8031348094284043e-25, 7.224105029678759e-22, 2.4809110084756872e-18, 7.10045180774267e-15, 1.625928152338735e-11, 2.79305257428066e-08, 3.200503152894174e-05, 0.018379593101584827, 0.07329452334576846, 0.14648246565201353, 0.1952815201867457, 0.195298562230407, 0.1562706841961669, 0.10420861991805043, 0.05956635917538749, 0.02979329715886841, 0.013246220867802208, 0.005300466079781793]\n",
      "0\n",
      "[-2j, -1.8j, -1.6j, -1.4000000000000001j, -1.2000000000000002j, -1j, -0.8j, -0.6000000000000001j, -0.4j, -0.2j, 0j, 0.2j, 0.4j, 0.6000000000000001j, 0.8j, 1j, 1.2000000000000002j, 1.4000000000000001j, 1.6j, 1.8j, 2j]\n",
      "925\n",
      "6\n",
      "10.1%. Run time: 242.70s. Est. time left: 00:00:36:11\n",
      "20.0%. Run time: 478.41s. Est. time left: 00:00:31:53\n",
      "30.1%. Run time: 715.13s. Est. time left: 00:00:27:44\n",
      "40.0%. Run time: 950.55s. Est. time left: 00:00:23:45\n",
      "50.1%. Run time: 1186.59s. Est. time left: 00:00:19:44\n",
      "60.0%. Run time: 1412.77s. Est. time left: 00:00:15:41\n",
      "70.1%. Run time: 1648.04s. Est. time left: 00:00:11:44\n",
      "80.0%. Run time: 1882.34s. Est. time left: 00:00:07:50\n",
      "90.1%. Run time: 2117.17s. Est. time left: 00:00:03:53\n",
      "100.0%. Run time: 2348.42s. Est. time left: 00:00:00:00\n",
      "Total run time: 2348.47s\n",
      "construct time: 2434.352182149887\n",
      "ss time 0.7941055297851562\n",
      "------------- theta: 0.7083333333333333\n",
      "[0, 0.9999999999999862, 0.9999999999999868, 1.0000000000012206, 1.0000001690305604, 1.0003807129102773, 1.0439710525567194, 1.5305316265017264, 3.2018172059815946, 9.279187642797012, 84.94411159022091]\n",
      "[0, 3.141592653589793, 9.424777960769381, 15.707963267949479, 21.991148682663308, 28.274698131942646, 34.62641555503289, 42.3031405780699, 56.25248560357533, 90.71566976800949, 267.89788247787743]\n",
      "0\n",
      "[1.3359229316168807e-36, 7.645618129954495e-33, 3.938151727177783e-29, 1.8031348094284043e-25, 7.224105029678759e-22, 2.4809110084756872e-18, 7.10045180774267e-15, 1.625928152338735e-11, 2.79305257428066e-08, 3.200503152894174e-05, 0.018379593101584827, 0.07329452334576846, 0.14648246565201353, 0.1952815201867457, 0.195298562230407, 0.1562706841961669, 0.10420861991805043, 0.05956635917538749, 0.02979329715886841, 0.013246220867802208, 0.005300466079781793]\n",
      "0\n",
      "[-2j, -1.8j, -1.6j, -1.4000000000000001j, -1.2000000000000002j, -1j, -0.8j, -0.6000000000000001j, -0.4j, -0.2j, 0j, 0.2j, 0.4j, 0.6000000000000001j, 0.8j, 1j, 1.2000000000000002j, 1.4000000000000001j, 1.6j, 1.8j, 2j]\n",
      "925\n",
      "6\n",
      "10.1%. Run time: 253.11s. Est. time left: 00:00:37:44\n",
      "20.0%. Run time: 486.46s. Est. time left: 00:00:32:25\n",
      "30.1%. Run time: 728.93s. Est. time left: 00:00:28:16\n",
      "40.0%. Run time: 968.68s. Est. time left: 00:00:24:13\n",
      "50.1%. Run time: 1211.00s. Est. time left: 00:00:20:08\n",
      "60.0%. Run time: 1449.41s. Est. time left: 00:00:16:06\n",
      "70.1%. Run time: 1683.30s. Est. time left: 00:00:11:59\n",
      "80.0%. Run time: 1922.81s. Est. time left: 00:00:08:00\n",
      "90.1%. Run time: 2163.61s. Est. time left: 00:00:03:58\n",
      "100.0%. Run time: 2399.93s. Est. time left: 00:00:00:00\n",
      "Total run time: 2399.99s\n",
      "construct time: 2481.519190788269\n",
      "ss time 1.1471617221832275\n",
      "------------- theta: 0.75\n",
      "[0, 0.9999999999999862, 0.9999999999999868, 1.0000000000012206, 1.0000001690305604, 1.0003807129102773, 1.0439710525567194, 1.5305316265017264, 3.2018172059815946, 9.279187642797012, 84.94411159022091]\n",
      "[0, 3.141592653589793, 9.424777960769381, 15.707963267949479, 21.991148682663308, 28.274698131942646, 34.62641555503289, 42.3031405780699, 56.25248560357533, 90.71566976800949, 267.89788247787743]\n",
      "0\n",
      "[1.3359229316168807e-36, 7.645618129954495e-33, 3.938151727177783e-29, 1.8031348094284043e-25, 7.224105029678759e-22, 2.4809110084756872e-18, 7.10045180774267e-15, 1.625928152338735e-11, 2.79305257428066e-08, 3.200503152894174e-05, 0.018379593101584827, 0.07329452334576846, 0.14648246565201353, 0.1952815201867457, 0.195298562230407, 0.1562706841961669, 0.10420861991805043, 0.05956635917538749, 0.02979329715886841, 0.013246220867802208, 0.005300466079781793]\n",
      "0\n",
      "[-2j, -1.8j, -1.6j, -1.4000000000000001j, -1.2000000000000002j, -1j, -0.8j, -0.6000000000000001j, -0.4j, -0.2j, 0j, 0.2j, 0.4j, 0.6000000000000001j, 0.8j, 1j, 1.2000000000000002j, 1.4000000000000001j, 1.6j, 1.8j, 2j]\n",
      "925\n",
      "6\n",
      "10.1%. Run time: 255.11s. Est. time left: 00:00:38:02\n",
      "20.0%. Run time: 486.49s. Est. time left: 00:00:32:25\n",
      "30.1%. Run time: 730.54s. Est. time left: 00:00:28:20\n",
      "40.0%. Run time: 971.58s. Est. time left: 00:00:24:17\n",
      "50.1%. Run time: 1215.22s. Est. time left: 00:00:20:12\n",
      "60.0%. Run time: 1454.16s. Est. time left: 00:00:16:09\n",
      "70.1%. Run time: 1695.74s. Est. time left: 00:00:12:04\n",
      "80.0%. Run time: 1926.62s. Est. time left: 00:00:08:01\n",
      "90.1%. Run time: 2166.73s. Est. time left: 00:00:03:59\n",
      "100.0%. Run time: 2400.61s. Est. time left: 00:00:00:00\n",
      "Total run time: 2400.71s\n",
      "construct time: 2484.8525426387787\n",
      "ss time 0.8025174140930176\n",
      "------------- theta: 0.7916666666666666\n",
      "[0, 0.9999999999999862, 0.9999999999999868, 1.0000000000012206, 1.0000001690305604, 1.0003807129102773, 1.0439710525567194, 1.5305316265017264, 3.2018172059815946, 9.279187642797012, 84.94411159022091]\n",
      "[0, 3.141592653589793, 9.424777960769381, 15.707963267949479, 21.991148682663308, 28.274698131942646, 34.62641555503289, 42.3031405780699, 56.25248560357533, 90.71566976800949, 267.89788247787743]\n",
      "0\n",
      "[1.3359229316168807e-36, 7.645618129954495e-33, 3.938151727177783e-29, 1.8031348094284043e-25, 7.224105029678759e-22, 2.4809110084756872e-18, 7.10045180774267e-15, 1.625928152338735e-11, 2.79305257428066e-08, 3.200503152894174e-05, 0.018379593101584827, 0.07329452334576846, 0.14648246565201353, 0.1952815201867457, 0.195298562230407, 0.1562706841961669, 0.10420861991805043, 0.05956635917538749, 0.02979329715886841, 0.013246220867802208, 0.005300466079781793]\n",
      "0\n",
      "[-2j, -1.8j, -1.6j, -1.4000000000000001j, -1.2000000000000002j, -1j, -0.8j, -0.6000000000000001j, -0.4j, -0.2j, 0j, 0.2j, 0.4j, 0.6000000000000001j, 0.8j, 1j, 1.2000000000000002j, 1.4000000000000001j, 1.6j, 1.8j, 2j]\n"
     ]
    },
    {
     "name": "stdout",
     "output_type": "stream",
     "text": [
      "925\n",
      "6\n",
      "10.1%. Run time: 251.49s. Est. time left: 00:00:37:29\n",
      "20.0%. Run time: 487.99s. Est. time left: 00:00:32:31\n",
      "30.1%. Run time: 719.89s. Est. time left: 00:00:27:55\n",
      "40.0%. Run time: 958.71s. Est. time left: 00:00:23:58\n",
      "50.1%. Run time: 1200.77s. Est. time left: 00:00:19:58\n",
      "60.0%. Run time: 1438.31s. Est. time left: 00:00:15:58\n",
      "70.1%. Run time: 1677.62s. Est. time left: 00:00:11:57\n",
      "80.0%. Run time: 1909.01s. Est. time left: 00:00:07:57\n",
      "90.1%. Run time: 2146.92s. Est. time left: 00:00:03:57\n",
      "100.0%. Run time: 2383.94s. Est. time left: 00:00:00:00\n",
      "Total run time: 2384.03s\n",
      "construct time: 2471.333868741989\n",
      "ss time 1.18827486038208\n",
      "------------- theta: 0.8333333333333333\n",
      "[0, 0.9999999999999862, 0.9999999999999868, 1.0000000000012206, 1.0000001690305604, 1.0003807129102773, 1.0439710525567194, 1.5305316265017264, 3.2018172059815946, 9.279187642797012, 84.94411159022091]\n",
      "[0, 3.141592653589793, 9.424777960769381, 15.707963267949479, 21.991148682663308, 28.274698131942646, 34.62641555503289, 42.3031405780699, 56.25248560357533, 90.71566976800949, 267.89788247787743]\n",
      "0\n",
      "[1.3359229316168807e-36, 7.645618129954495e-33, 3.938151727177783e-29, 1.8031348094284043e-25, 7.224105029678759e-22, 2.4809110084756872e-18, 7.10045180774267e-15, 1.625928152338735e-11, 2.79305257428066e-08, 3.200503152894174e-05, 0.018379593101584827, 0.07329452334576846, 0.14648246565201353, 0.1952815201867457, 0.195298562230407, 0.1562706841961669, 0.10420861991805043, 0.05956635917538749, 0.02979329715886841, 0.013246220867802208, 0.005300466079781793]\n",
      "0\n",
      "[-2j, -1.8j, -1.6j, -1.4000000000000001j, -1.2000000000000002j, -1j, -0.8j, -0.6000000000000001j, -0.4j, -0.2j, 0j, 0.2j, 0.4j, 0.6000000000000001j, 0.8j, 1j, 1.2000000000000002j, 1.4000000000000001j, 1.6j, 1.8j, 2j]\n",
      "925\n",
      "6\n",
      "10.1%. Run time: 248.03s. Est. time left: 00:00:36:58\n",
      "20.0%. Run time: 481.41s. Est. time left: 00:00:32:05\n",
      "30.1%. Run time: 718.08s. Est. time left: 00:00:27:51\n",
      "40.0%. Run time: 945.85s. Est. time left: 00:00:23:38\n",
      "50.1%. Run time: 1182.91s. Est. time left: 00:00:19:40\n",
      "60.0%. Run time: 1416.15s. Est. time left: 00:00:15:44\n",
      "70.1%. Run time: 1653.22s. Est. time left: 00:00:11:46\n",
      "80.0%. Run time: 1885.76s. Est. time left: 00:00:07:51\n",
      "90.1%. Run time: 2113.34s. Est. time left: 00:00:03:53\n",
      "100.0%. Run time: 2343.55s. Est. time left: 00:00:00:00\n",
      "Total run time: 2343.63s\n",
      "construct time: 2427.45033121109\n",
      "ss time 0.825965404510498\n",
      "------------- theta: 0.875\n",
      "[0, 0.9999999999999862, 0.9999999999999868, 1.0000000000012206, 1.0000001690305604, 1.0003807129102773, 1.0439710525567194, 1.5305316265017264, 3.2018172059815946, 9.279187642797012, 84.94411159022091]\n",
      "[0, 3.141592653589793, 9.424777960769381, 15.707963267949479, 21.991148682663308, 28.274698131942646, 34.62641555503289, 42.3031405780699, 56.25248560357533, 90.71566976800949, 267.89788247787743]\n",
      "0\n",
      "[1.3359229316168807e-36, 7.645618129954495e-33, 3.938151727177783e-29, 1.8031348094284043e-25, 7.224105029678759e-22, 2.4809110084756872e-18, 7.10045180774267e-15, 1.625928152338735e-11, 2.79305257428066e-08, 3.200503152894174e-05, 0.018379593101584827, 0.07329452334576846, 0.14648246565201353, 0.1952815201867457, 0.195298562230407, 0.1562706841961669, 0.10420861991805043, 0.05956635917538749, 0.02979329715886841, 0.013246220867802208, 0.005300466079781793]\n",
      "0\n",
      "[-2j, -1.8j, -1.6j, -1.4000000000000001j, -1.2000000000000002j, -1j, -0.8j, -0.6000000000000001j, -0.4j, -0.2j, 0j, 0.2j, 0.4j, 0.6000000000000001j, 0.8j, 1j, 1.2000000000000002j, 1.4000000000000001j, 1.6j, 1.8j, 2j]\n",
      "925\n",
      "6\n",
      "10.1%. Run time: 254.29s. Est. time left: 00:00:37:54\n",
      "20.0%. Run time: 493.56s. Est. time left: 00:00:32:54\n",
      "30.1%. Run time: 734.76s. Est. time left: 00:00:28:30\n",
      "40.0%. Run time: 968.54s. Est. time left: 00:00:24:12\n",
      "50.1%. Run time: 1206.25s. Est. time left: 00:00:20:03\n",
      "60.0%. Run time: 1444.77s. Est. time left: 00:00:16:03\n",
      "70.1%. Run time: 1685.45s. Est. time left: 00:00:12:00\n",
      "80.0%. Run time: 1924.55s. Est. time left: 00:00:08:01\n",
      "90.1%. Run time: 2164.96s. Est. time left: 00:00:03:59\n",
      "100.0%. Run time: 2393.47s. Est. time left: 00:00:00:00\n",
      "Total run time: 2393.49s\n",
      "construct time: 2480.0640070438385\n",
      "ss time 1.225740671157837\n",
      "------------- theta: 0.9166666666666666\n",
      "[0, 0.9999999999999862, 0.9999999999999868, 1.0000000000012206, 1.0000001690305604, 1.0003807129102773, 1.0439710525567194, 1.5305316265017264, 3.2018172059815946, 9.279187642797012, 84.94411159022091]\n",
      "[0, 3.141592653589793, 9.424777960769381, 15.707963267949479, 21.991148682663308, 28.274698131942646, 34.62641555503289, 42.3031405780699, 56.25248560357533, 90.71566976800949, 267.89788247787743]\n",
      "0\n",
      "[1.3359229316168807e-36, 7.645618129954495e-33, 3.938151727177783e-29, 1.8031348094284043e-25, 7.224105029678759e-22, 2.4809110084756872e-18, 7.10045180774267e-15, 1.625928152338735e-11, 2.79305257428066e-08, 3.200503152894174e-05, 0.018379593101584827, 0.07329452334576846, 0.14648246565201353, 0.1952815201867457, 0.195298562230407, 0.1562706841961669, 0.10420861991805043, 0.05956635917538749, 0.02979329715886841, 0.013246220867802208, 0.005300466079781793]\n",
      "0\n",
      "[-2j, -1.8j, -1.6j, -1.4000000000000001j, -1.2000000000000002j, -1j, -0.8j, -0.6000000000000001j, -0.4j, -0.2j, 0j, 0.2j, 0.4j, 0.6000000000000001j, 0.8j, 1j, 1.2000000000000002j, 1.4000000000000001j, 1.6j, 1.8j, 2j]\n",
      "925\n",
      "6\n",
      "10.1%. Run time: 251.90s. Est. time left: 00:00:37:33\n",
      "20.0%. Run time: 488.53s. Est. time left: 00:00:32:34\n",
      "30.1%. Run time: 727.77s. Est. time left: 00:00:28:13\n",
      "40.0%. Run time: 964.31s. Est. time left: 00:00:24:06\n",
      "50.1%. Run time: 1195.89s. Est. time left: 00:00:19:53\n",
      "60.0%. Run time: 1431.73s. Est. time left: 00:00:15:54\n",
      "70.1%. Run time: 1671.34s. Est. time left: 00:00:11:54\n",
      "80.0%. Run time: 1906.64s. Est. time left: 00:00:07:56\n",
      "90.1%. Run time: 2145.51s. Est. time left: 00:00:03:56\n",
      "100.0%. Run time: 2380.06s. Est. time left: 00:00:00:00\n",
      "Total run time: 2380.09s\n",
      "construct time: 2464.52760887146\n",
      "ss time 0.7925901412963867\n",
      "------------- theta: 0.9583333333333333\n",
      "[0, 0.9999999999999862, 0.9999999999999868, 1.0000000000012206, 1.0000001690305604, 1.0003807129102773, 1.0439710525567194, 1.5305316265017264, 3.2018172059815946, 9.279187642797012, 84.94411159022091]\n",
      "[0, 3.141592653589793, 9.424777960769381, 15.707963267949479, 21.991148682663308, 28.274698131942646, 34.62641555503289, 42.3031405780699, 56.25248560357533, 90.71566976800949, 267.89788247787743]\n",
      "0\n",
      "[1.3359229316168807e-36, 7.645618129954495e-33, 3.938151727177783e-29, 1.8031348094284043e-25, 7.224105029678759e-22, 2.4809110084756872e-18, 7.10045180774267e-15, 1.625928152338735e-11, 2.79305257428066e-08, 3.200503152894174e-05, 0.018379593101584827, 0.07329452334576846, 0.14648246565201353, 0.1952815201867457, 0.195298562230407, 0.1562706841961669, 0.10420861991805043, 0.05956635917538749, 0.02979329715886841, 0.013246220867802208, 0.005300466079781793]\n",
      "0\n",
      "[-2j, -1.8j, -1.6j, -1.4000000000000001j, -1.2000000000000002j, -1j, -0.8j, -0.6000000000000001j, -0.4j, -0.2j, 0j, 0.2j, 0.4j, 0.6000000000000001j, 0.8j, 1j, 1.2000000000000002j, 1.4000000000000001j, 1.6j, 1.8j, 2j]\n",
      "925\n",
      "6\n",
      "10.1%. Run time: 253.41s. Est. time left: 00:00:37:47\n",
      "20.0%. Run time: 493.94s. Est. time left: 00:00:32:55\n",
      "30.1%. Run time: 735.80s. Est. time left: 00:00:28:32\n",
      "40.0%. Run time: 974.12s. Est. time left: 00:00:24:21\n",
      "50.1%. Run time: 1215.20s. Est. time left: 00:00:20:12\n",
      "60.0%. Run time: 1446.74s. Est. time left: 00:00:16:04\n",
      "70.1%. Run time: 1688.25s. Est. time left: 00:00:12:01\n",
      "80.0%. Run time: 1926.54s. Est. time left: 00:00:08:01\n",
      "90.1%. Run time: 2166.54s. Est. time left: 00:00:03:59\n",
      "100.0%. Run time: 2402.00s. Est. time left: 00:00:00:00\n",
      "Total run time: 2402.03s\n",
      "construct time: 2481.8808932304382\n",
      "ss time 1.1866953372955322\n",
      "------------- theta: 1.0\n",
      "[0, 0.9999999999999862, 0.9999999999999868, 1.0000000000012206, 1.0000001690305604, 1.0003807129102773, 1.0439710525567194, 1.5305316265017264, 3.2018172059815946, 9.279187642797012, 84.94411159022091]\n",
      "[0, 3.141592653589793, 9.424777960769381, 15.707963267949479, 21.991148682663308, 28.274698131942646, 34.62641555503289, 42.3031405780699, 56.25248560357533, 90.71566976800949, 267.89788247787743]\n",
      "0\n",
      "[1.3359229316168807e-36, 7.645618129954495e-33, 3.938151727177783e-29, 1.8031348094284043e-25, 7.224105029678759e-22, 2.4809110084756872e-18, 7.10045180774267e-15, 1.625928152338735e-11, 2.79305257428066e-08, 3.200503152894174e-05, 0.018379593101584827, 0.07329452334576846, 0.14648246565201353, 0.1952815201867457, 0.195298562230407, 0.1562706841961669, 0.10420861991805043, 0.05956635917538749, 0.02979329715886841, 0.013246220867802208, 0.005300466079781793]\n",
      "0\n",
      "[-2j, -1.8j, -1.6j, -1.4000000000000001j, -1.2000000000000002j, -1j, -0.8j, -0.6000000000000001j, -0.4j, -0.2j, 0j, 0.2j, 0.4j, 0.6000000000000001j, 0.8j, 1j, 1.2000000000000002j, 1.4000000000000001j, 1.6j, 1.8j, 2j]\n"
     ]
    },
    {
     "name": "stdout",
     "output_type": "stream",
     "text": [
      "925\n",
      "6\n",
      "10.1%. Run time: 242.02s. Est. time left: 00:00:36:05\n",
      "20.0%. Run time: 476.13s. Est. time left: 00:00:31:44\n",
      "30.1%. Run time: 713.89s. Est. time left: 00:00:27:41\n",
      "40.0%. Run time: 948.04s. Est. time left: 00:00:23:42\n",
      "50.1%. Run time: 1186.32s. Est. time left: 00:00:19:43\n",
      "60.0%. Run time: 1420.62s. Est. time left: 00:00:15:47\n",
      "70.1%. Run time: 1650.66s. Est. time left: 00:00:11:45\n",
      "80.0%. Run time: 1886.85s. Est. time left: 00:00:07:51\n",
      "90.1%. Run time: 2125.22s. Est. time left: 00:00:03:54\n",
      "100.0%. Run time: 2359.34s. Est. time left: 00:00:00:00\n",
      "Total run time: 2359.36s\n",
      "construct time: 2442.8066778182983\n",
      "ss time 1.2010250091552734\n"
     ]
    }
   ],
   "source": [
    "#Try integrable 2-bath model\n",
    "#here I use paramaers from phillips paper\n",
    "#this collates pade parameters\n",
    "\n",
    "rhoHssPlistl10u10n1 = []\n",
    "fullssPlistl10u10n1 = []\n",
    "theta_list = np.linspace(0,1,25)\n",
    "\n",
    "for theta in theta_list:\n",
    "    print(\"------------- theta:\",theta)\n",
    "    mu_l = theta/2.\n",
    "    mu_r = -theta/2.\n",
    "\n",
    "\n",
    "    tlist = np.linspace(0,0.001,100)\n",
    "\n",
    "\n",
    "\n",
    "    lmax = 10\n",
    "\n",
    "\n",
    "\n",
    "    #beta = 1./T\n",
    "    #beta = np.inf\n",
    "\n",
    "    w_list = np.linspace(-2,2,100)\n",
    "\n",
    "    def Gamma_L_w(w):\n",
    "        return Gamma*W**2/((w-mu_l)**2 + W**2)\n",
    "\n",
    "    def Gamma_w(w, mu):\n",
    "        return Gamma*W**2/((w-mu)**2 + W**2)\n",
    "\n",
    "\n",
    "    def f(x):\n",
    "        kB=1.\n",
    "        return 1/(exp(x)+1.)\n",
    "\n",
    "\n",
    "\n",
    "\n",
    "\n",
    "    #Next compare pade decomp to numerical integration\n",
    "\n",
    "    Alpha =np.zeros((2*lmax,2*lmax))\n",
    "    for j in range(2*lmax):\n",
    "        for k in range(2*lmax):\n",
    "            Alpha[j][k] = (deltafun(j,k+1)+deltafun(j,k-1))/sqrt((2*(j+1)-1)*(2*(k+1)-1))\n",
    "\n",
    "    eigvalsA=eigvalsh(Alpha)  \n",
    "\n",
    "    eps = []\n",
    "    for val in  eigvalsA[0:lmax]:\n",
    "        #print(-2/val)\n",
    "        eps.append(-2/val)\n",
    "\n",
    "\n",
    "    AlphaP =np.zeros((2*lmax-1,2*lmax-1))\n",
    "    for j in range(2*lmax-1):\n",
    "        for k in range(2*lmax-1):\n",
    "            AlphaP[j][k] = (deltafun(j,k+1)+deltafun(j,k-1))/sqrt((2*(j+1)+1)*(2*(k+1)+1))\n",
    "            #AlphaP[j][k] = (deltafun(j,k+1)+deltafun(j,k-1))/sqrt((2*(j+2)-1)*(2*(k+2)-1))\n",
    "\n",
    "    eigvalsAP=eigvalsh(AlphaP)    \n",
    "\n",
    "\n",
    "    chi = []\n",
    "    for val in  eigvalsAP[0:lmax-1]:\n",
    "        #print(-2/val)\n",
    "        chi.append(-2/val)\n",
    "\n",
    "\n",
    "    eta_list=[0.5*lmax*(2*(lmax + 1) - 1)*( \n",
    "      np.prod([chi[k]**2 - eps[j]**2 for k in range(lmax - 1)])/\n",
    "        np.prod([eps[k]**2 - eps[j]**2 +deltafun(j,k) for k in range(lmax)])) \n",
    "              for j in range(lmax)]\n",
    "\n",
    "\n",
    "    #kappa = [0,1,1,1.56,14.44]\n",
    "    kappa = [0]+eta_list\n",
    "    print(kappa)\n",
    "    #epsilon = [0,1*pi,1*3*pi,1.06*5*pi,2.11*7*pi]\n",
    "    #print([0,1*pi,1*3*pi,1.06*5*pi,2.11*7*pi])\n",
    "    epsilon = [0]+eps\n",
    "    print(epsilon)\n",
    "    def f_approx(x):\n",
    "        f = 0.5\n",
    "        for l in range(1,lmax+1):\n",
    "            f= f - 2*kappa[l]*x/(x**2+epsilon[l]**2)\n",
    "        return f\n",
    "\n",
    "    def f(x):\n",
    "        kB=1.\n",
    "        return 1/(exp(x)+1.)\n",
    "\n",
    "\n",
    "\n",
    "    #######\n",
    "\n",
    "    #####HERE I SET LMAX 0, and comment out hte pade stuff... lets just try with one exponent!!!!\n",
    "\n",
    "    #now lets try switching it on. urgh.\n",
    "\n",
    "    #lmax =2\n",
    "\n",
    "    def C(tlist,sigma,mu):\n",
    "        eta_list = []\n",
    "        gamma_list  =[]\n",
    "\n",
    "        #l = 0\n",
    "        eta_0 = 0.5*Gamma*W*f_approx(1.0j*beta*W)\n",
    "        #eta_0 = 0.5*Gamma*W*f(1.0j*beta*W)\n",
    "        gamma_0 = W - sigma*1.0j*mu\n",
    "        eta_list.append(eta_0)\n",
    "        gamma_list.append(gamma_0)\n",
    "        if lmax>0:\n",
    "            for l in range(1,lmax+1):\n",
    "                eta_list.append(-1.0j*(kappa[l]/beta)*Gamma*W**2/(-(epsilon[l]**2/beta**2)+W**2))\n",
    "                gamma_list.append(epsilon[l]/beta - sigma*1.0j*mu)\n",
    "        c_tot = []\n",
    "        for t in tlist:\n",
    "            c_tot.append(sum([eta_list[l]*exp(-gamma_list[l]*t) for l in range(lmax+1)]))\n",
    "        return c_tot, eta_list, gamma_list\n",
    "\n",
    "\n",
    "    #sigma = -  is dsetroy in environment create electron in system\n",
    "\n",
    "\n",
    "    def c_t_L_num(t,sigma,mu):\n",
    "\n",
    "        integrand = lambda w: (1/(2*pi))*exp(sigma*1.0j*w*t)*Gamma_w(w,mu)*f(sigma*beta*(w-mu))\n",
    "        def real_func(x):\n",
    "            return scipy.real(integrand(x))\n",
    "        def imag_func(x):\n",
    "            return scipy.imag(integrand(x))\n",
    "        #return quad(integrand,-np.inf,np.inf)[0]\n",
    "        #a= -600000\n",
    "        #b = 600000\n",
    "\n",
    "        a= -10**6\n",
    "        b=10**6\n",
    "        real_integral = quad(real_func, a, b)\n",
    "        imag_integral = quad(imag_func, a, b)\n",
    "        return real_integral[0] + 1.0j * imag_integral[0]\n",
    "\n",
    "\n",
    "    #tlist = np.linspace(0,1e-3,100)\n",
    "\n",
    "\n",
    "    cppL,etapL,gampL = C(tlist,1.0,mu_l)\n",
    "\n",
    "    cpmL,etamL,gammL = C(tlist,-1.0,mu_l)\n",
    "\n",
    "    #mu_r = -mu_l\n",
    "\n",
    "    cppR,etapR,gampR = C(tlist,1.0,mu_r)\n",
    "\n",
    "    cpmR,etamR,gammR = C(tlist,-1.0,mu_r)\n",
    "\n",
    "    #heom simu on above params (Pade)\n",
    "\n",
    "    #try and do thos proper model\n",
    "\n",
    "\n",
    "    d1 = destroy(2)\n",
    "\n",
    "\n",
    "\n",
    "    #e1 = 0.3 #d1 = spin up\n",
    "    #renormed from polaron\n",
    "    e1 = 0.25 #d1 = spin up\n",
    "    Omega = 0.2\n",
    "    Lambda = 0.4\n",
    "\n",
    "    H0 = e1*d1.dag()*d1 \n",
    "\n",
    "    #Qops = [d1,d1.dag()]\n",
    "    Qops = [d1.dag(),d1,d1.dag(),d1]\n",
    "\n",
    "\n",
    "    rho_0 = basis(2,0)*basis(2,0).dag()\n",
    "    \n",
    "    umax = 10\n",
    "    Kk=(lmax+1)*(2*umax+1)\n",
    "    Ncc=2*2\n",
    "    Ncc=2*4\n",
    "    Ncc = 4*Kk\n",
    "    Ncc = 1\n",
    "    tlist = np.linspace(0,100,1000)\n",
    "    print(0)\n",
    "    A_listp=c_bos2(0,1)[1]\n",
    "    print(A_listp)\n",
    "    om_listp=c_bos2(0,1)[2]\n",
    "    print(0)\n",
    "    print(om_listp)\n",
    "    A_listm=c_bos2(0,-1)[1]\n",
    "    om_listm=c_bos2(0,-1)[2]\n",
    "    #print(etapR)\n",
    "    \n",
    "    #eta_list = [etapR * xx for xx in A_listp] + [etamR * xx for xx in A_listm] + [etapL * xx for xx in A_listp] + [etamL * xx for xx in A_listm]\n",
    "    #eta_list = [x*y for x in etapR  for y in A_listp] + [x*y for x in etamR  for y in A_listm] + [x*y for x in etapL  for y in A_listp] + [x*y for x in etamL  for y in A_listm]\n",
    "    eta_list = [[x*y for x in etapR  for y in A_listp], [x*y for x in etamR  for y in A_listm], [x*y for x in etapL  for y in A_listp], [x*y for x in etamL  for y in A_listm]]\n",
    "\n",
    "    #T=0:\n",
    "    #eta_list = [[Gamma*W/2.],[0.]]\n",
    "    #eta_list = [[0.],[Gamma*W/2.]]\n",
    "    #print(eta_list)\n",
    "    #gamma_list = [gampR + x for x in om_listp] + [gammR+x for x in om_listm]+[gampL+ x for x in om_listp]+[gammL+ x for x in om_listm]\n",
    "    gamma_list = [[x+y for x in gampR  for y in om_listp] , [x+y for x in gammR  for y in om_listm],[x+y for x in gampL  for y in om_listp],[x+y for x in gammL  for y in om_listm]]\n",
    "    #print(gamma_list)\n",
    "    import time\n",
    "    start = time.time()\n",
    "    #resultHEOM1=heom_fermions.HSolverFermions(H0, [], Qops,  eta_list, gamma_list,  Ncc, Kk,renorm=False,bnd_cut_approx=False)\n",
    "    resultHEOM1=heom_fermions_bound.HSolverFermions(H0, [], Qops,  eta_list, gamma_list,  Ncc, Kk,renorm=False,bnd_cut_approx=False)\n",
    "    end = time.time()\n",
    "    print(\"construct time:\", end - start)\n",
    "\n",
    "    #start = time.time()\n",
    "    #out1P,full1P=resultHEOM1.run(rho_0,tlist)\n",
    "    #end = time.time()\n",
    "    #print(end - start)\n",
    "\n",
    "    start = time.time()\n",
    "\n",
    "    rhossHP,fullssP=resultHEOM1.ss(rho_0,H0)\n",
    "    end = time.time()\n",
    "    print(\"ss time\",end - start)\n",
    "    rhoHssPlistl10u10n1.append(rhossHP)\n",
    "    fullssPlistl10u10n1.append(fullssP)\n",
    "    #Pg1 = expect(out1.states,sz)\n",
    "    #Pgg1 = expect(out1.states,sm*sm.dag())\n",
    "    #1mev = 1.51926741 × 10^12 hertz \n",
    "\n",
    "\n",
    "    #fig, ax1 = plt.subplots(figsize=(12, 7))\n",
    "\n",
    "    #ax1.plot(tlist,expect(out1P.states,basis(2,1)*basis(2,1).dag()), color=\"black\", linewidth=3, label= r\"up\")\n",
    "    #ax1.plot(tlist,[f(1) for t in tlist], \"r--\", linewidth=3, label= r\"up\")\n",
    "    #ax1.plot(tlist,[f(beta*(mu_l - mu_l)) for t in tlist], \"r--\", linewidth=3, label= r\"up\")\n",
    "    #ax1.set_ylim(0, 1)\n",
    "    #ax1.set_xlabel(\"t\")\n",
    "    #ax1.set_ylabel(r\"pop\")\n",
    "    #ax1.legend()\n"
   ]
  },
  {
   "cell_type": "code",
   "execution_count": 16,
   "metadata": {},
   "outputs": [
    {
     "data": {
      "text/latex": [
       "Quantum object: dims = [[2], [2]], shape = (2, 2), type = oper, isherm = False\\begin{equation*}\\left(\\begin{array}{*{11}c}0.0 & (-2.014\\times10^{-06}-1.081\\times10^{-05}j)\\\\0.0 & 0.0\\\\\\end{array}\\right)\\end{equation*}"
      ],
      "text/plain": [
       "Quantum object: dims = [[2], [2]], shape = (2, 2), type = oper, isherm = False\n",
       "Qobj data =\n",
       "[[ 0.00000000e+00+0.00000000e+00j -2.01391685e-06-1.08088422e-05j]\n",
       " [ 0.00000000e+00+0.00000000e+00j  0.00000000e+00+0.00000000e+00j]]"
      ]
     },
     "execution_count": 16,
     "metadata": {},
     "output_type": "execute_result"
    }
   ],
   "source": [
    "aux_1_list[0][0]"
   ]
  },
  {
   "cell_type": "code",
   "execution_count": 42,
   "metadata": {},
   "outputs": [],
   "source": [
    "#I need to generelize this a b it better\n",
    "\n",
    "aux_1_list_list=[]\n",
    "aux1_indices_list=[]\n",
    "aux_2_list_list=[]\n",
    "aux2_indices_list=[]\n",
    "\n",
    "#for kk,lam in enumerate(lamlist):\n",
    "K = Kk  #this is not kk (Ihope)\n",
    "\n",
    "\n",
    "#aux_1_list, aux1_indices = get_aux_matrices([fullss], 1, 4, K)\n",
    "#aux_2_list, aux2_indices = get_aux_matrices([fullss], 2, 4, K)\n",
    "\n",
    "aux_1_list, aux1_indices, idx2state = get_aux_matrices(fullssPlistl10u10n1, 1, 4, K, Ncc)\n",
    "aux_2_list, aux2_indices, idx2state = get_aux_matrices(fullssPlistl10u10n1, 2, 4, K, Ncc)\n",
    "\n",
    "\n",
    "#d1 = tensor(destroy(2), qeye(Nbos))   #Kk to 2*Kk\n",
    "d1 =destroy(2)\n",
    "#currP = [0.0]+[-1.0j * ((d1*(sum([aux_1_list[gg][t] for gg in range(Kk,2*Kk)]))).tr() - (d1.dag()*(sum([aux_1_list[gg][t] for gg in range(Kk)]))).tr()) for t in range(999)]\n",
    "#currP = [-1.0j * ((d1*(sum([aux_1_list[gg][thet] for gg in range(Kk,2*Kk)]))).tr() - (d1.dag()*(sum([aux_1_list[gg][thet] for gg in range(Kk)]))).tr()) for thet, thet2 in enumerate(theta_list)]\n",
    "#currPl9u10n1 = [1.0j * ((d1*(sum([aux_1_list[gg][thet] for gg in range(Kk,2*Kk)]))).tr() - (d1.dag()*(sum([aux_1_list[gg][thet] for gg in range(Kk)]))).tr()) for thet, thet2 in enumerate(theta_list)]\n",
    "currPl10u10n1 = [1.0j * (((sum([(d1*aux_1_list[gg][thet]).tr() for gg in range(Kk,2*Kk)]))) - ((sum([(d1.dag()*aux_1_list[gg][thet]).tr() for gg in range(Kk)])))) for thet, thet2 in enumerate(theta_list)]"
   ]
  },
  {
   "cell_type": "code",
   "execution_count": 21,
   "metadata": {},
   "outputs": [
    {
     "data": {
      "text/latex": [
       "Quantum object: dims = [[2], [2]], shape = (2, 2), type = oper, isherm = False\\begin{equation*}\\left(\\begin{array}{*{11}c}0.0 & (-0.001-4.141\\times10^{-04}j)\\\\0.0 & 0.0\\\\\\end{array}\\right)\\end{equation*}"
      ],
      "text/plain": [
       "Quantum object: dims = [[2], [2]], shape = (2, 2), type = oper, isherm = False\n",
       "Qobj data =\n",
       "[[ 0.        +0.j         -0.00122269-0.00041406j]\n",
       " [ 0.        +0.j          0.        +0.j        ]]"
      ]
     },
     "execution_count": 21,
     "metadata": {},
     "output_type": "execute_result"
    }
   ],
   "source": [
    "aux_1_list[1][0]+aux_1_list[2][0]  "
   ]
  },
  {
   "cell_type": "code",
   "execution_count": 22,
   "metadata": {},
   "outputs": [],
   "source": [
    "currPl2u10n1 = [1.0j * (((sum([(d1*aux_1_list[gg][thet]).tr() for gg in range(Kk,2*Kk)]))) - ((sum([(d1.dag()*aux_1_list[gg][thet]).tr() for gg in range(Kk)])))) for thet, thet2 in enumerate(theta_list)]"
   ]
  },
  {
   "cell_type": "code",
   "execution_count": 43,
   "metadata": {},
   "outputs": [],
   "source": [
    "#d1 =destroy(2)\n",
    "#currP = [0.0]+[-1.0j * ((d1*(sum([aux_1_list[gg][t] for gg in range(Kk,2*Kk)]))).tr() - (d1.dag()*(sum([aux_1_list[gg][t] for gg in range(Kk)]))).tr()) for t in range(999)]\n",
    "#currP = [-1.0j * ((d1*(sum([aux_1_list[gg][thet] for gg in range(Kk,2*Kk)]))).tr() - (d1.dag()*(sum([aux_1_list[gg][thet] for gg in range(Kk)]))).tr()) for thet, thet2 in enumerate(theta_list)]\n",
    "#currPl5u2n2 = [1.0j * ((d1*(sum([aux_1_list[gg][thet] for gg in range(Kk,2*Kk)]))).tr() - (d1.dag()*(sum([aux_1_list[gg][thet] for gg in range(Kk)]))).tr()) for thet, thet2 in enumerate(theta_list)]\n",
    "currPunitsl10u10n1 = [curr*2.434e-4*1e6 for curr in currPl10u10n1]"
   ]
  },
  {
   "cell_type": "code",
   "execution_count": 1,
   "metadata": {},
   "outputs": [
    {
     "ename": "NameError",
     "evalue": "name 'real' is not defined",
     "output_type": "error",
     "traceback": [
      "\u001b[0;31m---------------------------------------------------------------------------\u001b[0m",
      "\u001b[0;31mNameError\u001b[0m                                 Traceback (most recent call last)",
      "\u001b[0;32m<ipython-input-1-489ebb391410>\u001b[0m in \u001b[0;36m<module>\u001b[0;34m\u001b[0m\n\u001b[0;32m----> 1\u001b[0;31m \u001b[0mreal\u001b[0m\u001b[0;34m(\u001b[0m\u001b[0mcurrPunitsl9u10n1\u001b[0m\u001b[0;34m)\u001b[0m\u001b[0;34m\u001b[0m\u001b[0;34m\u001b[0m\u001b[0m\n\u001b[0m",
      "\u001b[0;31mNameError\u001b[0m: name 'real' is not defined"
     ]
    }
   ],
   "source": [
    "real(currPunitsl9u10n1)"
   ]
  },
  {
   "cell_type": "code",
   "execution_count": 22,
   "metadata": {},
   "outputs": [
    {
     "data": {
      "text/plain": [
       "array([-5.91124372e-15,  9.87515633e-05,  2.94450517e-04,  7.52055220e-04,\n",
       "        1.82462658e-03,  4.20822417e-03,  9.16960793e-03,  1.91159621e-02,\n",
       "        3.83870318e-02,  7.26155412e-02,  1.24243004e-01,  1.87101495e-01,\n",
       "        2.48708140e-01,  2.99690643e-01,  3.40158541e-01,  3.77666953e-01,\n",
       "        4.22200065e-01,  4.85204952e-01,  5.80501974e-01,  7.18638781e-01,\n",
       "        8.94484505e-01,  1.08444711e+00,  1.26066906e+00,  1.40824501e+00,\n",
       "        1.53196554e+00])"
      ]
     },
     "execution_count": 22,
     "metadata": {},
     "output_type": "execute_result"
    }
   ],
   "source": [
    "real(currPunitsl9u10n1)"
   ]
  },
  {
   "cell_type": "code",
   "execution_count": 45,
   "metadata": {},
   "outputs": [],
   "source": [
    "currPunitsl9u10n1=[-5.91124372e-15,  9.87515633e-05,  2.94450517e-04,  7.52055220e-04,\n",
    "        1.82462658e-03,  4.20822417e-03,  9.16960793e-03,  1.91159621e-02,\n",
    "        3.83870318e-02,  7.26155412e-02,  1.24243004e-01,  1.87101495e-01,\n",
    "        2.48708140e-01,  2.99690643e-01,  3.40158541e-01,  3.77666953e-01,\n",
    "        4.22200065e-01,  4.85204952e-01,  5.80501974e-01,  7.18638781e-01,\n",
    "        8.94484505e-01,  1.08444711e+00,  1.26066906e+00,  1.40824501e+00,\n",
    "        1.53196554e+00]"
   ]
  },
  {
   "cell_type": "code",
   "execution_count": 16,
   "metadata": {},
   "outputs": [],
   "source": [
    "currPunitsl7u10n1=[0.00000000e+00, 3.10110968e-04, 7.00701630e-04, 1.23251853e-03,\n",
    "       2.15953457e-03, 4.20093060e-03, 8.73359638e-03, 1.82590880e-02,\n",
    "       3.71348644e-02, 7.09438816e-02, 1.22041051e-01, 1.84180228e-01,\n",
    "       2.44901517e-01, 2.94964194e-01, 3.34598572e-01, 3.71402173e-01,\n",
    "       4.15352568e-01, 4.77863175e-01, 5.72667480e-01, 7.10139508e-01,\n",
    "       8.84935416e-01, 1.07338738e+00, 1.24782963e+00, 1.39369055e+00,\n",
    "       1.51598084e+00]"
   ]
  },
  {
   "cell_type": "code",
   "execution_count": 46,
   "metadata": {},
   "outputs": [
    {
     "data": {
      "text/plain": [
       "<matplotlib.legend.Legend at 0x7fe5d932d8d0>"
      ]
     },
     "execution_count": 46,
     "metadata": {},
     "output_type": "execute_result"
    },
    {
     "data": {
      "image/png": "[encoded data removed]",
      "text/plain": [
       "<Figure size 864x864 with 1 Axes>"
      ]
     },
     "metadata": {
      "needs_background": "light"
     },
     "output_type": "display_data"
    }
   ],
   "source": [
    "\n",
    "\n",
    "fig, ax1 = plt.subplots(figsize=(12, 12))\n",
    "\n",
    "\n",
    "#ax1.plot(theta_list,currPunitsl5u2n2 , \"b\", linewidth=3, label= r\"l=5, n_max = 2, umax = 2\")\n",
    "#ax1.plot(theta_list,currPunitsl6u2n2 , \"g--\", linewidth=3, label= r\"l=6, n_max = 2, umax = 2\")\n",
    "#ax1.plot(theta_list,currPunitsl5u3n1 , \"r--\", linewidth=3, label= r\"l=5, n_max = 1, umax = 5\")\n",
    "#ax1.plot(theta_list,currPunitsl5u5n1 , \"r-\", linewidth=3, label= r\"l=5, n_max = 1, umax = 5\")\n",
    "#ax1.plot(theta_list,currPunitsl6u5n1 , \"g--\", linewidth=3, label= r\"l=6, n_max = 1, umax = 5\")\n",
    "#ax1.plot(theta_list,currPunitsl7u5n1 , \"b--\", linewidth=3, label= r\"l=7, n_max = 1, umax = 5\")\n",
    "#ax1.plot(theta_list,currPunitsl7u6n1 , \"y--\", linewidth=3, label= r\"l=7, n_max = 1, umax = 6\")\n",
    "#ax1.plot(theta_list,currPunitsl7u10n1 , \"r--\", linewidth=3, label= r\"l=7, n_max = 1, umax = 10\")\n",
    "ax1.plot(theta_list,currPunitsl10u10n1 , \"g\", linewidth=3, label= r\"l=10, n_max = 1, umax = 10\")\n",
    "ax1.plot(theta_list,currPunitsl9u10n1 , \"r--\", linewidth=3, label= r\"l=9, n_max = 1, umax = 10\")\n",
    "\n",
    "\n",
    "ax1.set_xlabel(\"bias voltage (V)\")\n",
    "ax1.set_ylabel(r\"current ($\\mu A$)\")\n",
    "ax1.legend()\n",
    "#plt.ylim(0, 1.75)\n",
    "#plt.savefig(\"fig1d_therm.pdf\")"
   ]
  },
  {
   "cell_type": "code",
   "execution_count": 21,
   "metadata": {},
   "outputs": [
    {
     "data": {
      "image/png": "[encoded data removed]",
      "text/plain": [
       "<Figure size 864x864 with 1 Axes>"
      ]
     },
     "metadata": {
      "needs_background": "light"
     },
     "output_type": "display_data"
    }
   ],
   "source": [
    "\n",
    "\n",
    "fig, ax1 = plt.subplots(figsize=(12, 12))\n",
    "\n",
    "\n",
    "#ax1.plot(theta_list,currPunitsl5u2n2 , \"b\", linewidth=3, label= r\"l=5, n_max = 2, umax = 2\")\n",
    "#ax1.plot(theta_list,currPunitsl6u2n2 , \"g--\", linewidth=3, label= r\"l=6, n_max = 2, umax = 2\")\n",
    "#ax1.plot(theta_list,currPunitsl5u3n1 , \"r--\", linewidth=3, label= r\"l=5, n_max = 1, umax = 5\")\n",
    "#ax1.plot(theta_list,currPunitsl5u5n1 , \"r-\", linewidth=3, label= r\"l=5, n_max = 1, umax = 5\")\n",
    "#ax1.plot(theta_list,currPunitsl6u5n1 , \"g--\", linewidth=3, label= r\"l=6, n_max = 1, umax = 5\")\n",
    "#ax1.plot(theta_list,currPunitsl7u5n1 , \"b--\", linewidth=3, label= r\"l=7, n_max = 1, umax = 5\")\n",
    "#ax1.plot(theta_list,currPunitsl7u6n1 , \"y--\", linewidth=3, label= r\"l=7, n_max = 1, umax = 6\")\n",
    "\n",
    "ax1.plot(theta_list,currPunitsl5u10n1 , \"r--\", linewidth=3, label= r\"l=5, n_max = 1, umax = 10\")\n",
    "ax1.plot(theta_list,currPunitsl7u10n1 , \"g--\", linewidth=3, label= r\"l=7, n_max = 1, umax = 10\")\n",
    "\n",
    "\n",
    "ax1.plot(theta_list,currPunitsl9u10n1 , \"b\", linewidth=3, label= r\"l=9, n_max = 1, umax = 10\")\n",
    "\n",
    "ax1.set_xlabel(\"bias voltage (V)\")\n",
    "ax1.set_ylabel(r\"current ($\\mu A$)\")\n",
    "ax1.legend()\n",
    "plt.ylim(0, 1.75)\n",
    "plt.savefig(\"fig1d_therm.pdf\")"
   ]
  },
  {
   "cell_type": "code",
   "execution_count": 23,
   "metadata": {},
   "outputs": [
    {
     "name": "stdout",
     "output_type": "stream",
     "text": [
      "\n",
      "QuTiP: Quantum Toolbox in Python\n",
      "Copyright (c) 2011 and later.\n",
      "A. J. Pitchford, P. D. Nation, R. J. Johansson, A. Grimsmo, and C. Granade\n",
      "\n",
      "QuTiP Version:      4.3.1\n",
      "Numpy Version:      1.15.4\n",
      "Scipy Version:      1.1.0\n",
      "Cython Version:     0.29.2\n",
      "Matplotlib Version: 3.0.2\n",
      "Python Version:     3.7.1\n",
      "Number of CPUs:     6\n",
      "BLAS Info:          INTEL MKL\n",
      "OPENMP Installed:   False\n",
      "INTEL MKL Ext:      True\n",
      "Platform Info:      Linux (x86_64)\n",
      "Installation path:  /home/neill/anaconda3/lib/python3.7/site-packages/qutip\n",
      "==============================================================================\n",
      "Please cite QuTiP in your publication.\n",
      "==============================================================================\n",
      "For your convenience a bibtex file can be easily generated using `qutip.cite()`\n"
     ]
    }
   ],
   "source": [
    "qutip.about()\n"
   ]
  },
  {
   "cell_type": "code",
   "execution_count": 70,
   "metadata": {},
   "outputs": [
    {
     "data": {
      "image/png": "[encoded data removed]",
      "text/plain": [
       "<Figure size 864x864 with 1 Axes>"
      ]
     },
     "metadata": {
      "needs_background": "light"
     },
     "output_type": "display_data"
    }
   ],
   "source": [
    "\n",
    "\n",
    "fig, ax1 = plt.subplots(figsize=(12, 12))\n",
    "\n",
    "\n",
    "#ax1.plot(theta_list,currPunitsl5u2n2 , \"b\", linewidth=3, label= r\"l=5, n_max = 2, umax = 2\")\n",
    "#ax1.plot(theta_list,currPunitsl6u2n2 , \"g--\", linewidth=3, label= r\"l=6, n_max = 2, umax = 2\")\n",
    "#ax1.plot(theta_list,currPunitsl5u3n1 , \"r--\", linewidth=3, label= r\"l=5, n_max = 1, umax = 5\")\n",
    "#ax1.plot(theta_list,currPunitsl5u5n1 , \"r-\", linewidth=3, label= r\"l=5, n_max = 1, umax = 5\")\n",
    "#ax1.plot(theta_list,currPunitsl6u5n1 , \"g--\", linewidth=3, label= r\"l=6, n_max = 1, umax = 5\")\n",
    "#ax1.plot(theta_list,currPunitsl7u5n1 , \"b--\", linewidth=3, label= r\"l=7, n_max = 1, umax = 5\")\n",
    "#ax1.plot(theta_list,currPunitsl7u6n1 , \"y--\", linewidth=3, label= r\"l=7, n_max = 1, umax = 6\")\n",
    "#ax1.plot(theta_list,currPunitsl7u10n1 , \"r--\", linewidth=3, label= r\"l=7, n_max = 1, umax = 10\")\n",
    "\n",
    "ax1.plot(theta_list,currPunitsl9u10n1 , \"r--\", linewidth=3, label= r\"l=7, n_max = 1, umax = 10\")\n",
    "\n",
    "\n",
    "ax1.set_xlabel(\"bias voltage (V)\")\n",
    "ax1.set_ylabel(r\"current ($\\mu A$)\")\n",
    "ax1.legend()\n",
    "plt.ylim(0, 1.75)\n",
    "#plt.savefig(\"fig1d_therm.pdf\")"
   ]
  },
  {
   "cell_type": "code",
   "execution_count": 56,
   "metadata": {},
   "outputs": [
    {
     "data": {
      "text/plain": [
       "array([0.00000000e+00, 3.10110968e-04, 7.00701630e-04, 1.23251853e-03,\n",
       "       2.15953457e-03, 4.20093060e-03, 8.73359638e-03, 1.82590880e-02,\n",
       "       3.71348644e-02, 7.09438816e-02, 1.22041051e-01, 1.84180228e-01,\n",
       "       2.44901517e-01, 2.94964194e-01, 3.34598572e-01, 3.71402173e-01,\n",
       "       4.15352568e-01, 4.77863175e-01, 5.72667480e-01, 7.10139508e-01,\n",
       "       8.84935416e-01, 1.07338738e+00, 1.24782963e+00, 1.39369055e+00,\n",
       "       1.51598084e+00])"
      ]
     },
     "execution_count": 56,
     "metadata": {},
     "output_type": "execute_result"
    }
   ],
   "source": [
    "real(currPunitsl7u10n1)"
   ]
  },
  {
   "cell_type": "code",
   "execution_count": 59,
   "metadata": {},
   "outputs": [
    {
     "data": {
      "text/plain": [
       "0.85"
      ]
     },
     "execution_count": 59,
     "metadata": {},
     "output_type": "execute_result"
    }
   ],
   "source": [
    "1.05 - 0.2**2/0.2"
   ]
  },
  {
   "cell_type": "code",
   "execution_count": 99,
   "metadata": {},
   "outputs": [
    {
     "data": {
      "image/png": "[encoded data removed]",
      "text/plain": [
       "<Figure size 864x864 with 1 Axes>"
      ]
     },
     "metadata": {
      "needs_background": "light"
     },
     "output_type": "display_data"
    }
   ],
   "source": [
    "\n",
    "\n",
    "fig, ax1 = plt.subplots(figsize=(12, 12))\n",
    "\n",
    "\n",
    "#ax1.plot(theta_list,currPunitsl5u2n2 , \"b\", linewidth=3, label= r\"l=5, n_max = 2, umax = 2\")\n",
    "#ax1.plot(theta_list,currPunitsl6u2n2 , \"g--\", linewidth=3, label= r\"l=6, n_max = 2, umax = 2\")\n",
    "#ax1.plot(theta_list,currPunitsl5u3n2 , \"r--\", linewidth=3, label= r\"l=5, n_max = 2, umax = 3\")\n",
    "\n",
    "\n",
    "ax1.set_xlabel(\"bias voltage (V)\")\n",
    "ax1.set_ylabel(r\"current ($\\mu A$)\")\n",
    "ax1.legend()\n",
    "plt.savefig(\"fig1a_therm.pdf\")"
   ]
  },
  {
   "cell_type": "code",
   "execution_count": null,
   "metadata": {},
   "outputs": [],
   "source": []
  },
  {
   "cell_type": "code",
   "execution_count": 101,
   "metadata": {},
   "outputs": [
    {
     "data": {
      "text/plain": [
       "[(7.455028348118953e-16-4.011201093501171e-15j),\n",
       " (0.010067911731160265+0.013527238486873344j),\n",
       " (0.022999063714545413+0.02704246064713258j),\n",
       " (0.04160462816253056+0.03964519412651141j),\n",
       " (0.06745654148161+0.048909541191739396j),\n",
       " (0.09865020181046319+0.05165114772971156j),\n",
       " (0.12971437429200947+0.04658689533863054j),\n",
       " (0.15585674097289803+0.03580109446552435j),\n",
       " (0.17661722290628656+0.022719342741680547j),\n",
       " (0.1952697681621246+0.009708447579213832j),\n",
       " (0.21715204406349753-0.0023232619618657317j),\n",
       " (0.24951176173444395-0.013308939154182917j),\n",
       " (0.3020494750279636-0.023489373759544768j),\n",
       " (0.3852053846768602-0.03316427309701996j),\n",
       " (0.5024044499341673-0.0426151343266072j),\n",
       " (0.639337063567185-0.05209919685214321j),\n",
       " (0.7672315167956665-0.06186723174274978j),\n",
       " (0.8642379244922072-0.07218752747483086j),\n",
       " (0.9276259007902583-0.0833678380182434j),\n",
       " (0.9662900529129983-0.0957611707325969j),\n",
       " (0.9905796532397004-0.10971582362010887j),\n",
       " (1.0084905957875263-0.12537513608320505j),\n",
       " (1.025750411806558-0.14217489853490603j),\n",
       " (1.04626995044271-0.15804673247952591j),\n",
       " (1.0712837493995147-0.16918508079524652j),\n",
       " (1.0981037144150079-0.17205566281158086j),\n",
       " (1.1217748101134641-0.16669339327277058j),\n",
       " (1.1391868939861747-0.1567052606968541j),\n",
       " (1.1505414767162787-0.1459773004027141j),\n",
       " (1.1576677070071133-0.13666712679993376j),\n",
       " (1.1624049348623722-0.12942563331680895j),\n",
       " (1.166126922391819-0.12415062872346022j),\n",
       " (1.1698164326986795-0.12038785171227336j),\n",
       " (1.174114901609645-0.11739130772878079j),\n",
       " (1.1791226319176031-0.11419436422409653j),\n",
       " (1.1842323560664847-0.11006281935207467j),\n",
       " (1.188565629914189-0.10502245622167301j),\n",
       " (1.1916866884847634-0.09967918520831945j),\n",
       " (1.1937175608633848-0.09460179342994512j),\n",
       " (1.194992426870768-0.09004850704716934j),\n",
       " (1.1958031899767254-0.0860483408953532j),\n",
       " (1.1963391884877481-0.0825361454803911j),\n",
       " (1.1967089549518313-0.07942835711563721j),\n",
       " (1.1969717805674096-0.07665068074422539j),\n",
       " (1.197159810668597-0.07414390005723981j),\n",
       " (1.1972907819193186-0.07186237803573134j),\n",
       " (1.1973748258646932-0.06977102414283984j),\n",
       " (1.197417998914195-0.06784254302643675j),\n",
       " (1.1974241050087784-0.06605533749095144j),\n",
       " (1.1973956468338798-0.06439200415214202j)]"
      ]
     },
     "execution_count": 101,
     "metadata": {},
     "output_type": "execute_result"
    }
   ],
   "source": [
    "currPunitsl6u2n2"
   ]
  },
  {
   "cell_type": "code",
   "execution_count": 102,
   "metadata": {},
   "outputs": [
    {
     "data": {
      "text/plain": [
       "array([0.        , 0.04081633, 0.08163265, 0.12244898, 0.16326531,\n",
       "       0.20408163, 0.24489796, 0.28571429, 0.32653061, 0.36734694,\n",
       "       0.40816327, 0.44897959, 0.48979592, 0.53061224, 0.57142857,\n",
       "       0.6122449 , 0.65306122, 0.69387755, 0.73469388, 0.7755102 ,\n",
       "       0.81632653, 0.85714286, 0.89795918, 0.93877551, 0.97959184,\n",
       "       1.02040816, 1.06122449, 1.10204082, 1.14285714, 1.18367347,\n",
       "       1.2244898 , 1.26530612, 1.30612245, 1.34693878, 1.3877551 ,\n",
       "       1.42857143, 1.46938776, 1.51020408, 1.55102041, 1.59183673,\n",
       "       1.63265306, 1.67346939, 1.71428571, 1.75510204, 1.79591837,\n",
       "       1.83673469, 1.87755102, 1.91836735, 1.95918367, 2.        ])"
      ]
     },
     "execution_count": 102,
     "metadata": {},
     "output_type": "execute_result"
    }
   ],
   "source": [
    "theta_list"
   ]
  },
  {
   "cell_type": "code",
   "execution_count": 48,
   "metadata": {},
   "outputs": [
    {
     "data": {
      "text/plain": [
       "<matplotlib.legend.Legend at 0x7f6c48976dd8>"
      ]
     },
     "execution_count": 48,
     "metadata": {},
     "output_type": "execute_result"
    },
    {
     "data": {
      "image/png": "[encoded data removed]",
      "text/plain": [
       "<Figure size 864x864 with 1 Axes>"
      ]
     },
     "metadata": {
      "needs_background": "light"
     },
     "output_type": "display_data"
    }
   ],
   "source": [
    "\n",
    "\n",
    "fig, ax1 = plt.subplots(figsize=(12, 12))\n",
    "\n",
    "ax1.plot(theta_list,currPunits, \"r-\", linewidth=3, label= r\"l=6\")\n",
    "ax1.plot(theta_list,currPunitsl2, \"b--\", linewidth=3, label= r\"l=2\")\n",
    "    #ax1.plot(tlist,[f(1) for t in tlist], \"r--\", linewidth=3, label= r\"up\")\n",
    "    #ax1.plot(tlist,[f(beta*(mu_l - mu_l)) for t in tlist], \"r--\", linewidth=3, label= r\"up\")\n",
    "#ax1.set_ylim(0, 1)\n",
    "ax1.set_xlabel(\"bias voltage (V)\")\n",
    "ax1.set_ylabel(r\"current ($\\mu A$)\")\n",
    "ax1.legend()"
   ]
  },
  {
   "cell_type": "code",
   "execution_count": 13,
   "metadata": {},
   "outputs": [
    {
     "name": "stdout",
     "output_type": "stream",
     "text": [
      "[[(25+0.010082277039975336j), -0.0002585199100170507j, -0.0002585199239757052j, -0.000258952047262851j, -0.00031445045986558325j, -0.0008616328627340188j, -0.008130201836120126j], [(25+0.010082277039975336j), -0.0002585199100170507j, -0.0002585199239757052j, -0.000258952047262851j, -0.00031445045986558325j, -0.0008616328627340188j, -0.008130201836120126j], [(25+0.010082277039975336j), -0.0002585199100170507j, -0.0002585199239757052j, -0.000258952047262851j, -0.00031445045986558325j, -0.0008616328627340188j, -0.008130201836120126j], [(25+0.010082277039975336j), -0.0002585199100170507j, -0.0002585199239757052j, -0.000258952047262851j, -0.00031445045986558325j, -0.0008616328627340188j, -0.008130201836120126j]]\n",
      "[[(10000+1j), (0.08121642500626945+1j), (0.24364927558183513+1j), (0.40611723881168166+1j), (0.5776989051727179+1j), (0.8967641605723395+1j), (2.5805253138975073+1j)], [(10000-1j), (0.08121642500626945-1j), (0.24364927558183513-1j), (0.40611723881168166-1j), (0.5776989051727179-1j), (0.8967641605723395-1j), (2.5805253138975073-1j)], [(10000-1j), (0.08121642500626945-1j), (0.24364927558183513-1j), (0.40611723881168166-1j), (0.5776989051727179-1j), (0.8967641605723395-1j), (2.5805253138975073-1j)], [(10000+1j), (0.08121642500626945+1j), (0.24364927558183513+1j), (0.40611723881168166+1j), (0.5776989051727179+1j), (0.8967641605723395+1j), (2.5805253138975073+1j)]]\n",
      "construct time: 20.67434000968933\n"
     ]
    },
    {
     "name": "stderr",
     "output_type": "stream",
     "text": [
      "/home/neill/anaconda3/lib/python3.7/site-packages/scipy/sparse/compressed.py:746: SparseEfficiencyWarning: Changing the sparsity structure of a csc_matrix is expensive. lil_matrix is more efficient.\n",
      "  SparseEfficiencyWarning)\n"
     ]
    },
    {
     "name": "stdout",
     "output_type": "stream",
     "text": [
      "ss time 202.61168003082275\n"
     ]
    },
    {
     "ename": "NameError",
     "evalue": "name 'out1P' is not defined",
     "output_type": "error",
     "traceback": [
      "\u001b[0;31m---------------------------------------------------------------------------\u001b[0m",
      "\u001b[0;31mNameError\u001b[0m                                 Traceback (most recent call last)",
      "\u001b[0;32m<ipython-input-13-0b66bcaa63f7>\u001b[0m in \u001b[0;36m<module>\u001b[0;34m\u001b[0m\n\u001b[1;32m     59\u001b[0m \u001b[0mfig\u001b[0m\u001b[0;34m,\u001b[0m \u001b[0max1\u001b[0m \u001b[0;34m=\u001b[0m \u001b[0mplt\u001b[0m\u001b[0;34m.\u001b[0m\u001b[0msubplots\u001b[0m\u001b[0;34m(\u001b[0m\u001b[0mfigsize\u001b[0m\u001b[0;34m=\u001b[0m\u001b[0;34m(\u001b[0m\u001b[0;36m12\u001b[0m\u001b[0;34m,\u001b[0m \u001b[0;36m7\u001b[0m\u001b[0;34m)\u001b[0m\u001b[0;34m)\u001b[0m\u001b[0;34m\u001b[0m\u001b[0;34m\u001b[0m\u001b[0m\n\u001b[1;32m     60\u001b[0m \u001b[0;31m#\u001b[0m\u001b[0;34m\u001b[0m\u001b[0;34m\u001b[0m\u001b[0;34m\u001b[0m\u001b[0m\n\u001b[0;32m---> 61\u001b[0;31m \u001b[0max1\u001b[0m\u001b[0;34m.\u001b[0m\u001b[0mplot\u001b[0m\u001b[0;34m(\u001b[0m\u001b[0mtlist\u001b[0m\u001b[0;34m,\u001b[0m\u001b[0mexpect\u001b[0m\u001b[0;34m(\u001b[0m\u001b[0mout1P\u001b[0m\u001b[0;34m.\u001b[0m\u001b[0mstates\u001b[0m\u001b[0;34m,\u001b[0m\u001b[0mbasis\u001b[0m\u001b[0;34m(\u001b[0m\u001b[0;36m2\u001b[0m\u001b[0;34m,\u001b[0m\u001b[0;36m1\u001b[0m\u001b[0;34m)\u001b[0m\u001b[0;34m*\u001b[0m\u001b[0mbasis\u001b[0m\u001b[0;34m(\u001b[0m\u001b[0;36m2\u001b[0m\u001b[0;34m,\u001b[0m\u001b[0;36m1\u001b[0m\u001b[0;34m)\u001b[0m\u001b[0;34m.\u001b[0m\u001b[0mdag\u001b[0m\u001b[0;34m(\u001b[0m\u001b[0;34m)\u001b[0m\u001b[0;34m)\u001b[0m\u001b[0;34m,\u001b[0m \u001b[0mcolor\u001b[0m\u001b[0;34m=\u001b[0m\u001b[0;34m\"black\"\u001b[0m\u001b[0;34m,\u001b[0m \u001b[0mlinewidth\u001b[0m\u001b[0;34m=\u001b[0m\u001b[0;36m3\u001b[0m\u001b[0;34m,\u001b[0m \u001b[0mlabel\u001b[0m\u001b[0;34m=\u001b[0m \u001b[0;34mr\"up\"\u001b[0m\u001b[0;34m)\u001b[0m\u001b[0;34m\u001b[0m\u001b[0;34m\u001b[0m\u001b[0m\n\u001b[0m\u001b[1;32m     62\u001b[0m \u001b[0;31m#ax1.plot(tlist,[f(1) for t in tlist], \"r--\", linewidth=3, label= r\"up\")\u001b[0m\u001b[0;34m\u001b[0m\u001b[0;34m\u001b[0m\u001b[0;34m\u001b[0m\u001b[0m\n\u001b[1;32m     63\u001b[0m \u001b[0max1\u001b[0m\u001b[0;34m.\u001b[0m\u001b[0mplot\u001b[0m\u001b[0;34m(\u001b[0m\u001b[0mtlist\u001b[0m\u001b[0;34m,\u001b[0m\u001b[0;34m[\u001b[0m\u001b[0mf\u001b[0m\u001b[0;34m(\u001b[0m\u001b[0mbeta\u001b[0m\u001b[0;34m*\u001b[0m\u001b[0;34m(\u001b[0m\u001b[0mmu_l\u001b[0m \u001b[0;34m-\u001b[0m \u001b[0mmu_l\u001b[0m\u001b[0;34m)\u001b[0m\u001b[0;34m)\u001b[0m \u001b[0;32mfor\u001b[0m \u001b[0mt\u001b[0m \u001b[0;32min\u001b[0m \u001b[0mtlist\u001b[0m\u001b[0;34m]\u001b[0m\u001b[0;34m,\u001b[0m \u001b[0;34m\"r--\"\u001b[0m\u001b[0;34m,\u001b[0m \u001b[0mlinewidth\u001b[0m\u001b[0;34m=\u001b[0m\u001b[0;36m3\u001b[0m\u001b[0;34m,\u001b[0m \u001b[0mlabel\u001b[0m\u001b[0;34m=\u001b[0m \u001b[0;34mr\"up\"\u001b[0m\u001b[0;34m)\u001b[0m\u001b[0;34m\u001b[0m\u001b[0;34m\u001b[0m\u001b[0m\n",
      "\u001b[0;31mNameError\u001b[0m: name 'out1P' is not defined"
     ]
    },
    {
     "data": {
      "image/png": "[encoded data removed]",
      "text/plain": [
       "<Figure size 864x504 with 1 Axes>"
      ]
     },
     "metadata": {
      "needs_background": "light"
     },
     "output_type": "display_data"
    }
   ],
   "source": [
    "#heom simu on above params (Pade)\n",
    "\n",
    "#try and do thos proper model\n",
    "\n",
    "Nbos = 10\n",
    "\n",
    "d1 = tensor(destroy(2), qeye(Nbos))\n",
    "\n",
    "a = tensor(qeye(2), destroy(Nbos))\n",
    "\n",
    "e1 = 0.3 #d1 = spin up\n",
    "Omega = 0.2\n",
    "Lambda = 0.12\n",
    "\n",
    "H0 = e1*d1.dag()*d1 + Omega * a.dag()*a + Lambda * (a+a.dag())*d1.dag()*d1\n",
    "\n",
    "#Qops = [d1,d1.dag()]\n",
    "Qops = [d1.dag(),d1,d1.dag(),d1]\n",
    "\n",
    "\n",
    "rho_0 = tensor(basis(2,0)*basis(2,0).dag(),basis(Nbos,0)*basis(Nbos,0).dag())\n",
    "\n",
    "Kk=lmax+1\n",
    "Ncc=2*2\n",
    "Ncc=2*4\n",
    "Ncc = 4*Kk\n",
    "Ncc = 2\n",
    "tlist = np.linspace(0,100,1000)\n",
    "\n",
    "\n",
    "eta_list = [etapR,etamR,etapL,etamL]\n",
    "#T=0:\n",
    "#eta_list = [[Gamma*W/2.],[0.]]\n",
    "#eta_list = [[0.],[Gamma*W/2.]]\n",
    "print(eta_list)\n",
    "gamma_list = [gampR,gammR,gampL,gammL]\n",
    "print(gamma_list)\n",
    "import time\n",
    "start = time.time()\n",
    "resultHEOM1=heom_fermions.HSolverFermions(H0, [], Qops,  eta_list, gamma_list,  Ncc, Kk,renorm=False,bnd_cut_approx=False)\n",
    "end = time.time()\n",
    "print(\"construct time:\", end - start)\n",
    "\n",
    "#start = time.time()\n",
    "#out1P,full1P=resultHEOM1.run(rho_0,tlist)\n",
    "#end = time.time()\n",
    "#print(end - start)\n",
    "\n",
    "start = time.time()\n",
    "\n",
    "rhossHP,fullssP=resultHEOM1.ss(rho_0,H0)\n",
    "end = time.time()\n",
    "print(\"ss time\",end - start)\n",
    "\n",
    "\n",
    "#Pg1 = expect(out1.states,sz)\n",
    "#Pgg1 = expect(out1.states,sm*sm.dag())\n",
    "#1mev = 1.51926741 × 10^12 hertz \n",
    "\n",
    "\n",
    "#fig, ax1 = plt.subplots(figsize=(12, 7))\n",
    "\n",
    "#ax1.plot(tlist,expect(out1P.states,basis(2,1)*basis(2,1).dag()), color=\"black\", linewidth=3, label= r\"up\")\n",
    "#ax1.plot(tlist,[f(1) for t in tlist], \"r--\", linewidth=3, label= r\"up\")\n",
    "#ax1.plot(tlist,[f(beta*(mu_l - mu_l)) for t in tlist], \"r--\", linewidth=3, label= r\"up\")\n",
    "#ax1.set_ylim(0, 1)\n",
    "#ax1.set_xlabel(\"t\")\n",
    "#ax1.set_ylabel(r\"pop\")\n",
    "#ax1.legend()\n"
   ]
  },
  {
   "cell_type": "code",
   "execution_count": 164,
   "metadata": {},
   "outputs": [
    {
     "data": {
      "text/plain": [
       "[<matplotlib.lines.Line2D at 0x7f2040b7be10>]"
      ]
     },
     "execution_count": 164,
     "metadata": {},
     "output_type": "execute_result"
    },
    {
     "data": {
      "image/png": "[encoded data removed]",
      "text/plain": [
       "<Figure size 864x504 with 1 Axes>"
      ]
     },
     "metadata": {
      "needs_background": "light"
     },
     "output_type": "display_data"
    },
    {
     "data": {
      "image/png": "[encoded data removed]",
      "text/plain": [
       "<Figure size 864x504 with 1 Axes>"
      ]
     },
     "metadata": {
      "needs_background": "light"
     },
     "output_type": "display_data"
    }
   ],
   "source": [
    "#asa comparison, this is matsubara\n",
    "tlist = np.linspace(0,0.001,100)\n",
    "\n",
    "#lmax = 1000000\n",
    "#lmax = 1000000\n",
    "lmax = 6\n",
    "kappa = [0.]\n",
    "kappa.extend([1. for l in range(1,lmax+1)])\n",
    "epsilon = [0]\n",
    "epsilon.extend([(2*l-1)*pi for l in range(1,lmax+1)])\n",
    "\n",
    "def f_approx(x):\n",
    "    f = 0.5\n",
    "    for l in range(1,lmax+1):\n",
    "        f= f - 2*kappa[l]*x/(x**2+epsilon[l]**2)\n",
    "    return f\n",
    "\n",
    "def C(tlist,sigma,mu):\n",
    "    eta_list = []\n",
    "    gamma_list  =[]\n",
    "    \n",
    "    #l = 0\n",
    "    eta_0 = 0.5*Gamma*W*f(1.0j*beta*W)\n",
    "    gamma_0 = W - sigma*1.0j*mu\n",
    "    eta_list.append(eta_0)\n",
    "    gamma_list.append(gamma_0)\n",
    "    if lmax>0:\n",
    "        for l in range(1,lmax+1):\n",
    "            eta_list.append(-1.0j*(kappa[l]/beta)*Gamma*W**2/(-(epsilon[l]**2/beta**2)+W**2))\n",
    "            gamma_list.append(epsilon[l]/beta - sigma*1.0j*mu)\n",
    "    c_tot = []\n",
    "    for t in tlist:\n",
    "        c_tot.append(sum([eta_list[l]*exp(-gamma_list[l]*t) for l in range(lmax+1)]))\n",
    "    return c_tot, eta_list, gamma_list\n",
    "\n",
    "def c_t_L_num(t,sigma,mu):\n",
    "    \n",
    "    integrand = lambda w: (1/(2*pi))*exp(sigma*1.0j*w*t)*Gamma_w(w,mu)*f(sigma*beta*(w-mu))\n",
    "    def real_func(x):\n",
    "        return scipy.real(integrand(x))\n",
    "    def imag_func(x):\n",
    "        return scipy.imag(integrand(x))\n",
    "    #return quad(integrand,-np.inf,np.inf)[0]\n",
    "    #a= -600000\n",
    "    #b = 600000\n",
    "\n",
    "    a= -10**6\n",
    "    b=10**6\n",
    "    real_integral = quad(real_func, a, b)\n",
    "    imag_integral = quad(imag_func, a, b)\n",
    "    return real_integral[0] + 1.0j * imag_integral[0] \n",
    " \n",
    "#cp,eta,gam = C(tlist,1.0,mu_l)\n",
    "\n",
    "\n",
    "cppL,etapL,gampL = C(tlist,1.0,mu_l)\n",
    "\n",
    "cpmL,etamL,gammL = C(tlist,-1.0,mu_l)\n",
    "\n",
    "#mu_r = -mu_l\n",
    "\n",
    "cppR,etapR,gampR = C(tlist,1.0,mu_r)\n",
    "\n",
    "cpmR,etamR,gammR = C(tlist,-1.0,mu_r)\n",
    "\n",
    "\n",
    "c_num =[c_t_L_num(t,1.0,mu_l) for t in tlist]\n",
    "\n",
    "\n",
    "fig, ax1 = plt.subplots(figsize=(12, 7))\n",
    "#print(gam_list)\n",
    "ax1.plot(tlist,real(cppL), color=\"b\", linewidth=3, label= r\"C pade\")\n",
    "ax1.plot(tlist,real(c_num), \"r--\", linewidth=3, label= r\"C num\")\n",
    "\n",
    "\n",
    "ax1.set_xlabel(\"t\")\n",
    "ax1.set_ylabel(r\"$C$\")\n",
    "ax1.legend()\n",
    "fig, ax1 = plt.subplots(figsize=(12, 7))\n",
    "#print(gam_list)\n",
    "ax1.plot(tlist,imag(cppL), color=\"b\", linewidth=3, label= r\"C pade\")\n",
    "ax1.plot(tlist,imag(c_num), \"r--\", linewidth=3, label= r\"C num\")\n"
   ]
  },
  {
   "cell_type": "code",
   "execution_count": 28,
   "metadata": {},
   "outputs": [
    {
     "name": "stdout",
     "output_type": "stream",
     "text": [
      "(0.00875448693086689+0j)\n"
     ]
    }
   ],
   "source": []
  },
  {
   "cell_type": "code",
   "execution_count": 165,
   "metadata": {},
   "outputs": [
    {
     "name": "stdout",
     "output_type": "stream",
     "text": [
      "[[(25+7.981505797494913j), -0.00025851991001705224j, -0.0002585199101534703j, -0.0002585199104263063j, -0.0002585199108355603j, -0.00025851991138123244j, -0.0002585199120633225j, -0.0002585199128818306j], [(25+7.981505797494913j), -0.00025851991001705224j, -0.0002585199101534703j, -0.0002585199104263063j, -0.0002585199108355603j, -0.00025851991138123244j, -0.0002585199120633225j, -0.0002585199128818306j], [(25+7.981505797494913j), -0.00025851991001705224j, -0.0002585199101534703j, -0.0002585199104263063j, -0.0002585199108355603j, -0.00025851991138123244j, -0.0002585199120633225j, -0.0002585199128818306j], [(25+7.981505797494913j), -0.00025851991001705224j, -0.0002585199101534703j, -0.0002585199104263063j, -0.0002585199108355603j, -0.00025851991138123244j, -0.0002585199120633225j, -0.0002585199128818306j]]\n",
      "[[(10000+1j), (0.08121642500626945+1j), (0.24364927501880834+1j), (0.4060821250313473+1j), (0.5685149750438862+1j), (0.7309478250564251+1j), (0.8933806750689639+1j), (1.055813525081503+1j)], [(10000-1j), (0.08121642500626945-1j), (0.24364927501880834-1j), (0.4060821250313473-1j), (0.5685149750438862-1j), (0.7309478250564251-1j), (0.8933806750689639-1j), (1.055813525081503-1j)], [(10000-1j), (0.08121642500626945-1j), (0.24364927501880834-1j), (0.4060821250313473-1j), (0.5685149750438862-1j), (0.7309478250564251-1j), (0.8933806750689639-1j), (1.055813525081503-1j)], [(10000+1j), (0.08121642500626945+1j), (0.24364927501880834+1j), (0.4060821250313473+1j), (0.5685149750438862+1j), (0.7309478250564251+1j), (0.8933806750689639+1j), (1.055813525081503+1j)]]\n",
      "56.279916286468506\n",
      "1.1444091796875e-05\n",
      "6.374945402145386\n"
     ]
    },
    {
     "data": {
      "text/plain": [
       "<matplotlib.legend.Legend at 0x7f207c0647b8>"
      ]
     },
     "execution_count": 165,
     "metadata": {},
     "output_type": "execute_result"
    },
    {
     "data": {
      "image/png": "[encoded data removed]",
      "text/plain": [
       "<Figure size 864x504 with 1 Axes>"
      ]
     },
     "metadata": {
      "needs_background": "light"
     },
     "output_type": "display_data"
    }
   ],
   "source": [
    "#heom simu on above params (Matsubara)\n",
    "\n",
    "\n",
    "d1 = destroy(2)\n",
    "\n",
    "e1 = 1. #d1 = spin up\n",
    "\n",
    "\n",
    "H0 = e1*d1.dag()*d1 \n",
    "\n",
    "#Qops = [d1,d1.dag()]\n",
    "Qops = [d1.dag(),d1,d1.dag(),d1]\n",
    "\n",
    "\n",
    "rho_0 = basis(2,0)*basis(2,0).dag()\n",
    "\n",
    "Kk=lmax+1\n",
    "Ncc=2*2\n",
    "Ncc=2*4\n",
    "Ncc = 4*Kk\n",
    "Ncc = 4*Kk \n",
    "Ncc = 2\n",
    "tlist = np.linspace(0,100,1000)\n",
    "\n",
    "\n",
    "eta_list = [etapR,etamR,etapL,etamL]\n",
    "#T=0:\n",
    "#eta_list = [[Gamma*W/2.],[0.]]\n",
    "#eta_list = [[0.],[Gamma*W/2.]]\n",
    "print(eta_list)\n",
    "gamma_list = [gampR,gammR,gampL,gammL]\n",
    "print(gamma_list)\n",
    "import time\n",
    "start = time.time()\n",
    "resultHEOM1=heom_fermions.HSolverFermions(H0, [], Qops,  eta_list, gamma_list,  Ncc, Kk,renorm=False,bnd_cut_approx=False)\n",
    "end = time.time()\n",
    "print(end - start)\n",
    "\n",
    "start = time.time()\n",
    "#out1M,full1M=resultHEOM1.run(rho_0,tlist)\n",
    "end = time.time()\n",
    "print(end - start)\n",
    "\n",
    "start = time.time()\n",
    "\n",
    "rhossHM,fullssM=resultHEOM1.ss(rho_0,H0)\n",
    "end = time.time()\n",
    "print(end - start)\n",
    "\n",
    "\n",
    "#Pg1 = expect(out1.states,sz)\n",
    "#Pgg1 = expect(out1.states,sm*sm.dag())\n",
    "#1mev = 1.51926741 × 10^12 hertz \n",
    "fig, ax1 = plt.subplots(figsize=(12, 7))\n",
    "#\n",
    "ax1.plot(tlist,expect(out1M.states,basis(2,1)*basis(2,1).dag()), color=\"black\", linewidth=3, label= r\"up\")\n",
    "#ax1.plot(tlist,[f(1) for t in tlist], \"r--\", linewidth=3, label= r\"up\")\n",
    "ax1.plot(tlist,[f(beta*(mu_l - mu_l)) for t in tlist], \"r--\", linewidth=3, label= r\"up\")\n",
    "#ax1.set_ylim(0, 1)\n",
    "ax1.set_xlabel(\"t\")\n",
    "ax1.set_ylabel(r\"pop\")\n",
    "ax1.legend()\n"
   ]
  },
  {
   "cell_type": "code",
   "execution_count": 166,
   "metadata": {},
   "outputs": [
    {
     "name": "stdout",
     "output_type": "stream",
     "text": [
      "(0.002492000620502373+0j)\n"
     ]
    },
    {
     "data": {
      "image/png": "[encoded data removed]",
      "text/plain": [
       "<Figure size 864x504 with 1 Axes>"
      ]
     },
     "metadata": {
      "needs_background": "light"
     },
     "output_type": "display_data"
    }
   ],
   "source": [
    "#note that at the moment by model is different from phillips:   w_o_r = mu_r in mine, but w_o_r = eps in phillips. fuck.\n",
    "\n",
    "def CurrFunc():\n",
    "    def lamshift(w,mu):\n",
    "        return (w-mu)*Gamma_w(w,mu)/(2*W)\n",
    "    integrand = lambda w: ((2/(pi))*Gamma_w(w,mu_l)*Gamma_w(w,mu_r)*(f(beta*(w-mu_l))-f(beta*(w-mu_r))) /\n",
    "            ((Gamma_w(w,mu_l)+Gamma_w(w,mu_r))**2 +4*(w-e1 - lamshift(w,mu_l)-lamshift(w,mu_r))**2))\n",
    "    def real_func(x):\n",
    "        return scipy.real(integrand(x))\n",
    "    def imag_func(x):\n",
    "        return scipy.imag(integrand(x))\n",
    "    #return quad(integrand,-np.inf,np.inf)[0]\n",
    "    #a= -600000\n",
    "    #b = 600000\n",
    "    \n",
    "    a= -2\n",
    "    b=2\n",
    "    real_integral = quad(real_func, a, b)\n",
    "    imag_integral = quad(imag_func, a, b)\n",
    "    fig, ax1 = plt.subplots(figsize=(12, 7))\n",
    "#\n",
    "    wlist2 = linspace(a,b,1000)\n",
    "    ax1.plot(wlist2,[real_func(w) for w in wlist2], color=\"black\", linewidth=3, label= r\"up\")\n",
    "    \n",
    "    \n",
    "    #ax1.set_ylim(0, 1)\n",
    "    ax1.set_xlabel(\"t\")\n",
    "    ax1.set_ylabel(r\"pop\")\n",
    "    ax1.legend()\n",
    "\n",
    "    return real_integral[0] + 1.0j * imag_integral[0]\n",
    "    \n",
    "curr_ana = CurrFunc()\n",
    "print(curr_ana)"
   ]
  },
  {
   "cell_type": "code",
   "execution_count": 14,
   "metadata": {},
   "outputs": [
    {
     "ename": "ValueError",
     "evalue": "cannot reshape array of size 400 into shape (2,2)",
     "output_type": "error",
     "traceback": [
      "\u001b[0;31m---------------------------------------------------------------------------\u001b[0m",
      "\u001b[0;31mValueError\u001b[0m                                Traceback (most recent call last)",
      "\u001b[0;32m<ipython-input-14-1053fe5a2fd8>\u001b[0m in \u001b[0;36m<module>\u001b[0;34m\u001b[0m\n\u001b[1;32m     13\u001b[0m \u001b[0;31m#aux_2_list, aux2_indices = get_aux_matrices([fullss], 2, 4, K)\u001b[0m\u001b[0;34m\u001b[0m\u001b[0;34m\u001b[0m\u001b[0;34m\u001b[0m\u001b[0m\n\u001b[1;32m     14\u001b[0m \u001b[0;34m\u001b[0m\u001b[0m\n\u001b[0;32m---> 15\u001b[0;31m \u001b[0maux_1_list\u001b[0m\u001b[0;34m,\u001b[0m \u001b[0maux1_indices\u001b[0m\u001b[0;34m,\u001b[0m \u001b[0midx2state\u001b[0m \u001b[0;34m=\u001b[0m \u001b[0mget_aux_matrices\u001b[0m\u001b[0;34m(\u001b[0m\u001b[0;34m[\u001b[0m\u001b[0mfullssP\u001b[0m\u001b[0;34m]\u001b[0m\u001b[0;34m,\u001b[0m \u001b[0;36m1\u001b[0m\u001b[0;34m,\u001b[0m \u001b[0;36m4\u001b[0m\u001b[0;34m,\u001b[0m \u001b[0mK\u001b[0m\u001b[0;34m,\u001b[0m \u001b[0mNcc\u001b[0m\u001b[0;34m)\u001b[0m\u001b[0;34m\u001b[0m\u001b[0;34m\u001b[0m\u001b[0m\n\u001b[0m\u001b[1;32m     16\u001b[0m \u001b[0maux_2_list\u001b[0m\u001b[0;34m,\u001b[0m \u001b[0maux2_indices\u001b[0m\u001b[0;34m,\u001b[0m \u001b[0midx2state\u001b[0m \u001b[0;34m=\u001b[0m \u001b[0mget_aux_matrices\u001b[0m\u001b[0;34m(\u001b[0m\u001b[0;34m[\u001b[0m\u001b[0mfullssP\u001b[0m\u001b[0;34m]\u001b[0m\u001b[0;34m,\u001b[0m \u001b[0;36m2\u001b[0m\u001b[0;34m,\u001b[0m \u001b[0;36m4\u001b[0m\u001b[0;34m,\u001b[0m \u001b[0mK\u001b[0m\u001b[0;34m,\u001b[0m \u001b[0mNcc\u001b[0m\u001b[0;34m)\u001b[0m\u001b[0;34m\u001b[0m\u001b[0;34m\u001b[0m\u001b[0m\n\u001b[1;32m     17\u001b[0m \u001b[0;34m\u001b[0m\u001b[0m\n",
      "\u001b[0;32m<ipython-input-6-5e690b0deeb2>\u001b[0m in \u001b[0;36mget_aux_matrices\u001b[0;34m(full, level, N_baths, Nk, N_cut)\u001b[0m\n\u001b[1;32m     34\u001b[0m \u001b[0;34m\u001b[0m\u001b[0m\n\u001b[1;32m     35\u001b[0m     \u001b[0;32mfor\u001b[0m \u001b[0mi\u001b[0m \u001b[0;32min\u001b[0m \u001b[0maux_indices\u001b[0m\u001b[0;34m:\u001b[0m\u001b[0;34m\u001b[0m\u001b[0;34m\u001b[0m\u001b[0m\n\u001b[0;32m---> 36\u001b[0;31m         \u001b[0mqlist\u001b[0m \u001b[0;34m=\u001b[0m \u001b[0;34m[\u001b[0m\u001b[0mQobj\u001b[0m\u001b[0;34m(\u001b[0m\u001b[0mfull\u001b[0m\u001b[0;34m[\u001b[0m\u001b[0mk\u001b[0m\u001b[0;34m,\u001b[0m \u001b[0mi\u001b[0m\u001b[0;34m,\u001b[0m \u001b[0;34m:\u001b[0m\u001b[0;34m]\u001b[0m\u001b[0;34m.\u001b[0m\u001b[0mreshape\u001b[0m\u001b[0;34m(\u001b[0m\u001b[0;36m2\u001b[0m\u001b[0;34m,\u001b[0m \u001b[0;36m2\u001b[0m\u001b[0;34m)\u001b[0m\u001b[0;34m.\u001b[0m\u001b[0mT\u001b[0m\u001b[0;34m)\u001b[0m \u001b[0;32mfor\u001b[0m \u001b[0mk\u001b[0m \u001b[0;32min\u001b[0m \u001b[0mrange\u001b[0m\u001b[0;34m(\u001b[0m\u001b[0mlen\u001b[0m\u001b[0;34m(\u001b[0m\u001b[0mfull\u001b[0m\u001b[0;34m)\u001b[0m\u001b[0;34m)\u001b[0m\u001b[0;34m]\u001b[0m\u001b[0;34m\u001b[0m\u001b[0;34m\u001b[0m\u001b[0m\n\u001b[0m\u001b[1;32m     37\u001b[0m         \u001b[0maux\u001b[0m\u001b[0;34m.\u001b[0m\u001b[0mappend\u001b[0m\u001b[0;34m(\u001b[0m\u001b[0mqlist\u001b[0m\u001b[0;34m)\u001b[0m\u001b[0;34m\u001b[0m\u001b[0;34m\u001b[0m\u001b[0m\n\u001b[1;32m     38\u001b[0m     \u001b[0;32mreturn\u001b[0m \u001b[0maux\u001b[0m\u001b[0;34m,\u001b[0m \u001b[0maux_heom_indices\u001b[0m\u001b[0;34m,\u001b[0m \u001b[0midx2state\u001b[0m\u001b[0;34m\u001b[0m\u001b[0;34m\u001b[0m\u001b[0m\n",
      "\u001b[0;32m<ipython-input-6-5e690b0deeb2>\u001b[0m in \u001b[0;36m<listcomp>\u001b[0;34m(.0)\u001b[0m\n\u001b[1;32m     34\u001b[0m \u001b[0;34m\u001b[0m\u001b[0m\n\u001b[1;32m     35\u001b[0m     \u001b[0;32mfor\u001b[0m \u001b[0mi\u001b[0m \u001b[0;32min\u001b[0m \u001b[0maux_indices\u001b[0m\u001b[0;34m:\u001b[0m\u001b[0;34m\u001b[0m\u001b[0;34m\u001b[0m\u001b[0m\n\u001b[0;32m---> 36\u001b[0;31m         \u001b[0mqlist\u001b[0m \u001b[0;34m=\u001b[0m \u001b[0;34m[\u001b[0m\u001b[0mQobj\u001b[0m\u001b[0;34m(\u001b[0m\u001b[0mfull\u001b[0m\u001b[0;34m[\u001b[0m\u001b[0mk\u001b[0m\u001b[0;34m,\u001b[0m \u001b[0mi\u001b[0m\u001b[0;34m,\u001b[0m \u001b[0;34m:\u001b[0m\u001b[0;34m]\u001b[0m\u001b[0;34m.\u001b[0m\u001b[0mreshape\u001b[0m\u001b[0;34m(\u001b[0m\u001b[0;36m2\u001b[0m\u001b[0;34m,\u001b[0m \u001b[0;36m2\u001b[0m\u001b[0;34m)\u001b[0m\u001b[0;34m.\u001b[0m\u001b[0mT\u001b[0m\u001b[0;34m)\u001b[0m \u001b[0;32mfor\u001b[0m \u001b[0mk\u001b[0m \u001b[0;32min\u001b[0m \u001b[0mrange\u001b[0m\u001b[0;34m(\u001b[0m\u001b[0mlen\u001b[0m\u001b[0;34m(\u001b[0m\u001b[0mfull\u001b[0m\u001b[0;34m)\u001b[0m\u001b[0;34m)\u001b[0m\u001b[0;34m]\u001b[0m\u001b[0;34m\u001b[0m\u001b[0;34m\u001b[0m\u001b[0m\n\u001b[0m\u001b[1;32m     37\u001b[0m         \u001b[0maux\u001b[0m\u001b[0;34m.\u001b[0m\u001b[0mappend\u001b[0m\u001b[0;34m(\u001b[0m\u001b[0mqlist\u001b[0m\u001b[0;34m)\u001b[0m\u001b[0;34m\u001b[0m\u001b[0;34m\u001b[0m\u001b[0m\n\u001b[1;32m     38\u001b[0m     \u001b[0;32mreturn\u001b[0m \u001b[0maux\u001b[0m\u001b[0;34m,\u001b[0m \u001b[0maux_heom_indices\u001b[0m\u001b[0;34m,\u001b[0m \u001b[0midx2state\u001b[0m\u001b[0;34m\u001b[0m\u001b[0;34m\u001b[0m\u001b[0m\n",
      "\u001b[0;31mValueError\u001b[0m: cannot reshape array of size 400 into shape (2,2)"
     ]
    }
   ],
   "source": [
    "#I need to generelize this a b it better\n",
    "\n",
    "aux_1_list_list=[]\n",
    "aux1_indices_list=[]\n",
    "aux_2_list_list=[]\n",
    "aux2_indices_list=[]\n",
    "\n",
    "#for kk,lam in enumerate(lamlist):\n",
    "K = Kk  #this is not kk (Ihope)\n",
    "\n",
    "\n",
    "#aux_1_list, aux1_indices = get_aux_matrices([fullss], 1, 4, K)\n",
    "#aux_2_list, aux2_indices = get_aux_matrices([fullss], 2, 4, K)\n",
    "\n",
    "aux_1_list, aux1_indices, idx2state = get_aux_matrices([fullssP], 1, 4, K, Ncc)\n",
    "aux_2_list, aux2_indices, idx2state = get_aux_matrices([fullssP], 2, 4, K, Ncc)\n",
    "\n",
    "\n",
    "d1 = destroy(2)   #Kk to 2*Kk\n",
    "#currP = [0.0]+[-1.0j * ((d1*(sum([aux_1_list[gg][t] for gg in range(Kk,2*Kk)]))).tr() - (d1.dag()*(sum([aux_1_list[gg][t] for gg in range(Kk)]))).tr()) for t in range(999)]\n",
    "currP = -1.0j * ((d1*(sum([aux_1_list[gg][0] for gg in range(Kk,2*Kk)]))).tr() - (d1.dag()*(sum([aux_1_list[gg][0] for gg in range(Kk)]))).tr())"
   ]
  },
  {
   "cell_type": "code",
   "execution_count": 168,
   "metadata": {},
   "outputs": [],
   "source": [
    "#I need to generelize this a b it better\n",
    "\n",
    "aux_1_list_list=[]\n",
    "aux1_indices_list=[]\n",
    "aux_2_list_list=[]\n",
    "aux2_indices_list=[]\n",
    "\n",
    "#for kk,lam in enumerate(lamlist):\n",
    "K = Kk  #this is not kk (Ihope)\n",
    "\n",
    "\n",
    "#aux_1_list, aux1_indices = get_aux_matrices([fullss], 1, 4, K)\n",
    "#aux_2_list, aux2_indices = get_aux_matrices([fullss], 2, 4, K)\n",
    "\n",
    "aux_1_list, aux1_indices, idx2state = get_aux_matrices([fullssM], 1, 4, K, Ncc)\n",
    "aux_2_list, aux2_indices, idx2state = get_aux_matrices([fullssM], 2, 4, K, Ncc)\n",
    "\n",
    "\n",
    "d1 = destroy(2)   #Kk to 2*Kk\n",
    "#currM = [0.0]+[-1.0j * ((d1*(sum([aux_1_list[gg][t] for gg in range(Kk,2*Kk)]))).tr() - (d1.dag()*(sum([aux_1_list[gg][t] for gg in range(Kk)]))).tr()) for t in range(999)]\n",
    "currM = -1.0j * ((d1*(sum([aux_1_list[gg][0] for gg in range(Kk,2*Kk)]))).tr() - (d1.dag()*(sum([aux_1_list[gg][0] for gg in range(Kk)]))).tr())"
   ]
  },
  {
   "cell_type": "code",
   "execution_count": 169,
   "metadata": {},
   "outputs": [
    {
     "name": "stdout",
     "output_type": "stream",
     "text": [
      "(0.0024676236870977523-0j)\n",
      "(0.0008208724731238981+8.673617379884035e-19j)\n",
      "(0.002492000620502373+0j)\n"
     ]
    }
   ],
   "source": [
    "#lmax 7 ncc=3\n",
    "print(-currP)\n",
    "print(-currM)\n",
    "print(curr_ana)"
   ]
  },
  {
   "cell_type": "code",
   "execution_count": 152,
   "metadata": {},
   "outputs": [
    {
     "name": "stdout",
     "output_type": "stream",
     "text": [
      "(0.00019337167825506584-3.903127820947816e-18j)\n",
      "(0.0001288010061298957-4.336808689942018e-19j)\n",
      "(0.002492000620502373+0j)\n"
     ]
    }
   ],
   "source": [
    "#lmax 7 ncc=1? i am not sure\n",
    "print(-currP)\n",
    "print(-currM)\n",
    "print(curr_ana)"
   ]
  },
  {
   "cell_type": "code",
   "execution_count": 144,
   "metadata": {},
   "outputs": [
    {
     "name": "stdout",
     "output_type": "stream",
     "text": [
      "(0.00019337167825506514-1.734723475976807e-18j)\n",
      "(0.0001288010061298974+4.336808689942018e-18j)\n",
      "(0.002492000620502373+0j)\n"
     ]
    }
   ],
   "source": [
    "#lmax 1 I think....\n",
    "\n",
    "print(-currP)\n",
    "print(-currM)\n",
    "print(curr_ana)"
   ]
  },
  {
   "cell_type": "code",
   "execution_count": null,
   "metadata": {},
   "outputs": [],
   "source": [
    "#note for the future... i need 3 exponents in both pade and matsubara to get analytical solution upto 0.00875 (3 sig figs?)\n",
    "#P is one sig fig better (mats gives 876)"
   ]
  },
  {
   "cell_type": "code",
   "execution_count": 137,
   "metadata": {},
   "outputs": [
    {
     "name": "stdout",
     "output_type": "stream",
     "text": [
      "(0.0024676236870977966+6.418476861114186e-17j)\n",
      "(0.000820872473123897+3.469446951953614e-18j)\n",
      "(0.002492000620502373+0j)\n"
     ]
    }
   ],
   "source": [
    "#7 matsubara terms result, Ncc = 4\n",
    "print(-currP)\n",
    "print(-currM)\n",
    "print(curr_ana)"
   ]
  },
  {
   "cell_type": "code",
   "execution_count": null,
   "metadata": {},
   "outputs": [],
   "source": []
  }
 ],
 "metadata": {
  "kernelspec": {
   "display_name": "Python 3",
   "language": "python",
   "name": "python3"
  },
  "language_info": {
   "codemirror_mode": {
    "name": "ipython",
    "version": 3
   },
   "file_extension": ".py",
   "mimetype": "text/x-python",
   "name": "python",
   "nbconvert_exporter": "python",
   "pygments_lexer": "ipython3",
   "version": "3.7.3"
  }
 },
 "nbformat": 4,
 "nbformat_minor": 2
}
