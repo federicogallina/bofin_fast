{
 "cells": [
  {
   "cell_type": "code",
   "execution_count": 5,
   "metadata": {},
   "outputs": [],
   "source": [
    "from qutip._mkl.spmv import mkl_spmv\n",
    "from qutip.cy.spmatfuncs import cy_ode_rhs\n",
    "import scipy.sparse as sp\n",
    "import numpy as np\n",
    "import time"
   ]
  },
  {
   "cell_type": "code",
   "execution_count": 7,
   "metadata": {},
   "outputs": [
    {
     "name": "stdout",
     "output_type": "stream",
     "text": [
      "normal solver time 0.0016586780548095703\n",
      "mkl solver time 0.0007870197296142578\n"
     ]
    }
   ],
   "source": [
    "\n",
    "\n",
    "Nsize = 20000\n",
    "\n",
    "density = 0.001\n",
    "\n",
    "np.random.seed(int(time.time()))\n",
    "\n",
    "L = sp.csr_matrix(sp.random(Nsize, Nsize, density=density),dtype=complex)\n",
    "\n",
    "\n",
    "b = np.zeros(Nsize, dtype=complex)\n",
    "\n",
    "\n",
    "for kk in range(Nsize):\n",
    "    b[kk] = np.random.random()\n",
    "    \n",
    "start = time.time()\n",
    "cy_ode_rhs(1,b.data,L.data,L.indices,L.indptr)\n",
    "end = time.time()\n",
    "print(\"normal solver time\", end - start)\n",
    "\n",
    "\n",
    "start = time.time()\n",
    "mkl_spmv(L,b)\n",
    "end = time.time()\n",
    "print(\"mkl solver time\", end - start)    "
   ]
  },
  {
   "cell_type": "code",
   "execution_count": 8,
   "metadata": {},
   "outputs": [
    {
     "data": {
      "text/plain": [
       "array([0.61940657+0.j, 0.51775076+0.j, 0.96306227+0.j, ...,\n",
       "       0.57348657+0.j, 0.35456548+0.j, 0.89350194+0.j])"
      ]
     },
     "execution_count": 8,
     "metadata": {},
     "output_type": "execute_result"
    }
   ],
   "source": [
    "b"
   ]
  },
  {
   "cell_type": "code",
   "execution_count": 9,
   "metadata": {},
   "outputs": [],
   "source": [
    "from qutip import *\n"
   ]
  },
  {
   "cell_type": "code",
   "execution_count": 54,
   "metadata": {},
   "outputs": [],
   "source": [
    "N =6\n",
    "sz = tensor(sigmaz(),qeye(N),qeye(N))\n",
    "sx = tensor(sigmax(),qeye(N),qeye(N))\n",
    "sm = tensor(destroy(2).dag(),qeye(N),qeye(N))\n",
    "a = tensor(qeye(2),destroy(N),qeye(N))\n",
    "a2 = tensor(qeye(2),qeye(N),destroy(N))\n",
    "\n",
    "H = 0.3*sz + 10*a.dag()*a + 20*sx*(a+a.dag())\n",
    "\n",
    "c_ops = [.43*a]\n",
    "\n",
    "L = liouvillian(H,c_ops)\n",
    "\n"
   ]
  },
  {
   "cell_type": "code",
   "execution_count": 55,
   "metadata": {},
   "outputs": [
    {
     "data": {
      "text/plain": [
       "<5184x5184 sparse matrix of type '<class 'numpy.complex128'>'\n",
       "\twith 25992 stored elements in Compressed Sparse Row format>"
      ]
     },
     "execution_count": 55,
     "metadata": {},
     "output_type": "execute_result"
    }
   ],
   "source": [
    "L.data"
   ]
  },
  {
   "cell_type": "code",
   "execution_count": 56,
   "metadata": {},
   "outputs": [
    {
     "data": {
      "text/plain": [
       "25992"
      ]
     },
     "execution_count": 56,
     "metadata": {},
     "output_type": "execute_result"
    }
   ],
   "source": [
    "len(L.data.data)"
   ]
  },
  {
   "cell_type": "code",
   "execution_count": 57,
   "metadata": {},
   "outputs": [],
   "source": [
    "tlist = np.linspace(0, 50, 1000)\n",
    "rho0 = tensor(basis(2,0),basis(N,0),basis(N,0))\n",
    "out=mesolve(L,rho0,tlist)"
   ]
  },
  {
   "cell_type": "code",
   "execution_count": 28,
   "metadata": {},
   "outputs": [
    {
     "data": {
      "text/plain": [
       "array([ 0.1849+0.j,  0.1849+0.j,  0.1849+0.j, ..., -0.1849+0.j,\n",
       "       -0.1849+0.j, -0.1849+0.j])"
      ]
     },
     "execution_count": 28,
     "metadata": {},
     "output_type": "execute_result"
    }
   ],
   "source": []
  },
  {
   "cell_type": "code",
   "execution_count": 39,
   "metadata": {},
   "outputs": [
    {
     "name": "stdout",
     "output_type": "stream",
     "text": [
      "old solver time 0.0002684593200683594\n",
      "mkl solver time 0.0006377696990966797\n"
     ]
    }
   ],
   "source": [
    "import scipy.sparse as sp\n",
    "\n",
    "\n",
    "\n",
    "b = np.zeros(6400, dtype=complex)\n",
    "\n",
    "\n",
    "\n",
    "for kk in range(6400):\n",
    "    b[kk] = np.random.random()\n",
    "    \n",
    "start = time.time()\n",
    "L2 = L.data\n",
    "cy_ode_rhs(1,b.data,L2.data,L2.indices,L2.indptr)\n",
    "\n",
    "end = time.time()\n",
    "print(\"old solver time\", end - start)\n",
    "start = time.time()\n",
    "mkl_spmv(L2,b)\n",
    "end = time.time()\n",
    "print(\"mkl solver time\", end - start)    "
   ]
  },
  {
   "cell_type": "code",
   "execution_count": null,
   "metadata": {},
   "outputs": [],
   "source": []
  }
 ],
 "metadata": {
  "kernelspec": {
   "display_name": "Python 3",
   "language": "python",
   "name": "python3"
  },
  "language_info": {
   "codemirror_mode": {
    "name": "ipython",
    "version": 3
   },
   "file_extension": ".py",
   "mimetype": "text/x-python",
   "name": "python",
   "nbconvert_exporter": "python",
   "pygments_lexer": "ipython3",
   "version": "3.7.3"
  }
 },
 "nbformat": 4,
 "nbformat_minor": 2
}
