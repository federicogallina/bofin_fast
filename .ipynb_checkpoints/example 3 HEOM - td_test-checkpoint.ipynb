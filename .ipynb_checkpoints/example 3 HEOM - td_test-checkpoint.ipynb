{
 "cells": [
  {
   "cell_type": "markdown",
   "metadata": {},
   "source": [
    "# Dynamical decoupling of a non-Markovian environment\n"
   ]
  },
  {
   "cell_type": "markdown",
   "metadata": {},
   "source": []
  },
  {
   "cell_type": "markdown",
   "metadata": {},
   "source": [
    "### Introduction"
   ]
  },
  {
   "cell_type": "markdown",
   "metadata": {},
   "source": []
  },
  {
   "cell_type": "code",
   "execution_count": 1,
   "metadata": {},
   "outputs": [
    {
     "name": "stdout",
     "output_type": "stream",
     "text": [
      "The history saving thread hit an unexpected error (DatabaseError('database disk image is malformed')).History will not be written to the database.\n",
      "Populating the interactive namespace from numpy and matplotlib\n"
     ]
    }
   ],
   "source": [
    "%pylab inline\n",
    "from qutip import *"
   ]
  },
  {
   "cell_type": "code",
   "execution_count": 2,
   "metadata": {},
   "outputs": [],
   "source": [
    "from qutip.ipynbtools import HTMLProgressBar"
   ]
  },
  {
   "cell_type": "code",
   "execution_count": 3,
   "metadata": {},
   "outputs": [],
   "source": [
    "%load_ext autoreload\n",
    "%autoreload 2"
   ]
  },
  {
   "cell_type": "code",
   "execution_count": 4,
   "metadata": {},
   "outputs": [],
   "source": [
    "from heom_fmotd import BosonicHEOMSolver"
   ]
  },
  {
   "cell_type": "code",
   "execution_count": 5,
   "metadata": {},
   "outputs": [],
   "source": [
    "#non-secular master equation \n",
    "\n",
    "import time\n",
    "import warnings\n",
    "import numpy as np\n",
    "import scipy.sparse as sp\n",
    "from numpy import matrix\n",
    "from numpy import linalg\n",
    "from qutip import spre, spost, sprepost, thermal_dm, mesolve, Odeoptions\n",
    "from qutip import tensor, identity, destroy, sigmax, sigmaz, basis, qeye, dims\n",
    "from qutip.ui.progressbar import BaseProgressBar, TextProgressBar\n",
    "def Lnonsec(Hsys, Qlist, tlist, initial_state, Temperature,\n",
    "            return_vals, eigen_sparse=False, options=None,progress_bar=None):\n",
    "    \n",
    "\n",
    "    if progress_bar is None:\n",
    "        progress_bar = BaseProgressBar()\n",
    "    elif progress_bar is True:\n",
    "        progress_bar = TextProgressBar()\n",
    "        \n",
    "    if options is None:\n",
    "        options = Options()\n",
    "    output = None\n",
    "    \n",
    "    dot_energy, dot_state = Hsys.eigenstates(sparse=eigen_sparse)\n",
    "    deltaE = dot_energy[1] - dot_energy[0]\n",
    "    \n",
    "    \n",
    "    \n",
    "    \n",
    "    dimensions = dims(Qlist[0])\n",
    "    Nmax = dimensions[1][0]        #hilbert space\n",
    "    print(Nmax)\n",
    "    #Nmax = 2       #hilbert space \n",
    "    \n",
    "    H = Hsys\n",
    "    L=0.*spre(Qlist[0])\n",
    "    PsipreEta=0\n",
    "    PsipreX=0\n",
    "\n",
    "    all_energy, all_state = H.eigenstates(sparse=eigen_sparse)\n",
    "    \n",
    "    for Q in Qlist:\n",
    "        Apre = spre(Q)\n",
    "        Apost = spost(Q)\n",
    "        for j in range(Nmax):\n",
    "            for k in range(Nmax):\n",
    "                A = Q.matrix_element(all_state[j].dag(), all_state[k])\n",
    "                #A = sh.matrix_element(all_state[j].dag(), all_state[k])\n",
    "                delE = (all_energy[j] - all_energy[k])\n",
    "                if np.absolute(A) > 0.0:\n",
    "                    if abs(delE) > 0.0:\n",
    "                        #X = (0.5 * np.pi * gamma*(all_energy[j] - all_energy[k])\n",
    "                        X = (0.5  * J0(all_energy[j] - all_energy[k])\n",
    "                             * (np.cosh((all_energy[j] - all_energy[k]) /\n",
    "                                (2 * Temperature))\n",
    "                             / (np.sinh((all_energy[j] - all_energy[k]) /\n",
    "                                (2 * Temperature)))) * A)\n",
    "                        #eta = (0.5 * np.pi * gamma *\n",
    "                        eta = (0.5 *  \n",
    "                               J0(all_energy[j] - all_energy[k]) * A)\n",
    "                        PsipreX = PsipreX + X * all_state[j]*all_state[k].dag()\n",
    "                        PsipreEta = PsipreEta + (eta * all_state[j]\n",
    "                                                 * all_state[k].dag())\n",
    "                    else:\n",
    "                        #X =0.5  * np.pi* J0(0.) * A * 2 * Temperature\n",
    "                        X =0.5  *  J02(0.)* A  * 2 * Temperature\n",
    "                        #X =0.5 * np.pi * gamma * A * 2 * Temperature\n",
    "                        PsipreX=PsipreX+X*all_state[j]*all_state[k].dag()\n",
    "\n",
    "        A = Q\n",
    "        L += ((-spre(A * PsipreX)) + (sprepost(A, PsipreX))\n",
    "             +(sprepost(PsipreX, A)) + (-spost(PsipreX * A))\n",
    "             +(spre(A * PsipreEta)) + (sprepost(A, PsipreEta))\n",
    "             +(-sprepost(PsipreEta, A)) + (-spost(PsipreEta * A)))           \n",
    "\n",
    "    #Setup the operators and the Hamiltonian and the master equation \n",
    "    #and solve for time steps in tlist\n",
    "    psi0 = ( initial_state)\n",
    "    output = mesolve(H, psi0, tlist, [L], return_vals, options=options,progress_bar=progress_bar)\n",
    "    \n",
    "    return output\n",
    "              "
   ]
  },
  {
   "cell_type": "code",
   "execution_count": 9,
   "metadata": {},
   "outputs": [],
   "source": [
    "\n",
    "def coth(x):\n",
    "    \"\"\"\n",
    "    coth function\n",
    "    \"\"\"\n",
    "    return 1./np.tanh(x)\n",
    "\n",
    "def cot(x):\n",
    "    return 1./np.tan(x)\n",
    "\n",
    "\n",
    "def J0(energy):\n",
    "    #underdamped brownian oscillator\n",
    "    return 2 * lam * gamma * (energy)/(((energy**2) + (gamma**2)))\n",
    "def nbs(energy,Temperature):\n",
    "    beta=1./Temperature\n",
    "    \n",
    "    return 1./(np.exp(energy*beta) - 1.)\n",
    "\n",
    "#spectral density/w at w=0\n",
    "def J02(energy):\n",
    "    #underdamped brownian oscillator\n",
    "    return 2 * lam * gamma /( ((gamma**2)))"
   ]
  },
  {
   "cell_type": "markdown",
   "metadata": {},
   "source": [
    "Followings https://journals.aps.org/pra/pdf/10.1103/PhysRevA.58.2733 we consider an example of dynamical decoupling\n",
    "we choose a drive which performs pi/2 rotations, interspersed with short periods where the bath causes dephasing\n",
    " \n",
    "The first example is the full evolution with the natural precession, almost no nosie, and a time-dependant resonant drive performing pi/2 pulses.   "
   ]
  },
  {
   "cell_type": "code",
   "execution_count": 19,
   "metadata": {},
   "outputs": [
    {
     "data": {
      "text/plain": [
       "Text(0, 0.5, 'J')"
      ]
     },
     "execution_count": 19,
     "metadata": {},
     "output_type": "execute_result"
    },
    {
     "data": {
      "image/png": "[encoded data removed]",
      "text/plain": [
       "<Figure size 576x576 with 1 Axes>"
      ]
     },
     "metadata": {
      "needs_background": "light"
     },
     "output_type": "display_data"
    }
   ],
   "source": [
    "#dynamical decoupling test\n",
    "wq = 20.0\n",
    "Hsys = wq * 0.5 * sigmaz()\n",
    "\n",
    "\n",
    "pref = 1.\n",
    "#K is the matsubara terms; if temperature < system energy,  N>1\n",
    "Nk=1\n",
    "\n",
    "Q=sigmaz()\n",
    "T= 1.\n",
    "beta=1./T\n",
    "#beta = 1/10.\n",
    "\n",
    "lam = 0.0001\n",
    "gamma = 0.0001\n",
    "\n",
    "\n",
    "wlist = np.linspace(0, 0.01, 1000)\n",
    "pref = 1.\n",
    "\n",
    "J = [w * 2 * lam * gamma / ((gamma**2 + w**2)) for w in wlist]\n",
    "\n",
    "# Plot the results\n",
    "fig, axes = plt.subplots(1, 1, sharex=True, figsize=(8,8))\n",
    "axes.plot(wlist, J, 'r', linewidth=2)\n",
    "axes.set_xlabel(r'$\\omega$', fontsize=28)\n",
    "axes.set_ylabel(r'J', fontsize=28)\n",
    "\n"
   ]
  },
  {
   "cell_type": "code",
   "execution_count": 37,
   "metadata": {},
   "outputs": [
    {
     "name": "stdout",
     "output_type": "stream",
     "text": [
      "[Quantum object: dims = [[2], [2]], shape = (2, 2), type = oper, isherm = True\n",
      "Qobj data =\n",
      "[[ 1.  0.]\n",
      " [ 0. -1.]], Quantum object: dims = [[2], [2]], shape = (2, 2), type = oper, isherm = True\n",
      "Qobj data =\n",
      "[[ 1.  0.]\n",
      " [ 0. -1.]]]\n",
      "1\n"
     ]
    }
   ],
   "source": [
    "\n",
    "ckAR = [pref * lam * gamma * (cot(gamma / (2 * T))) + 0.j]\n",
    "ckAR.extend([(pref * 4 * lam * gamma * T *  2 * np.pi * k * T / (( 2 * np.pi * k * T)**2 - gamma**2))+0.j for k in range(1,Nk)])\n",
    "\n",
    "vkAR = [gamma+0.j]\n",
    "vkAR.extend([2 * np.pi * k * T + 0.j for k in range(1,Nk)])\n",
    "\n",
    "ckAI = [pref * lam * gamma * (-1.0) + 0.j]\n",
    "\n",
    "vkAI = [gamma+0.j]\n",
    "\n",
    "\n",
    "NR = len(ckAR)\n",
    "NI = len(ckAI)\n",
    "Q2 = [Q for kk in range(NR+NI)]\n",
    "print(Q2)\n",
    "\n",
    "\n",
    "ttotal=50.\n",
    "tlist2 = np.linspace(0, ttotal, 50000)\n",
    "\n",
    "\n",
    "#Pure dephasing example: start with a superposition so there is something to dephase!\n",
    "sup = (basis(2,1)+basis(2,0))/sqrt(2.)\n",
    "initial_state2= sup * sup.dag()\n",
    "\n",
    "optionsODE = Options(nsteps=1500, store_states=True,rtol=1e-12,atol=1e-12)\n",
    "\n",
    "\n",
    "NC = 60\n",
    "\n",
    "HEOM = BosonicHEOMSolver(Hsys, Q2, ckAR, ckAI, vkAR, vkAI, NC, options=optionsODE)\n",
    "\n",
    "outputold =  HEOM.run(initial_state2, tlist2)\n",
    "\n",
    "\n",
    "\n",
    "#followings https://journals.aps.org/pra/pdf/10.1103/PhysRevA.58.2733\n",
    "#I added the t_p dependence to the pulse design in equation 19/20\n",
    "#I omitted sigma_y (why is it there? do we need it?)\n",
    "#I think i need it....  will have to edit the code again. cry\n",
    "def drive(t):\n",
    "    V = .5\n",
    "#    tp = pi/(2.*V)\n",
    "#I think there is a typo/error in seth lloyd, they dont take into account\n",
    "#the 1/2 from the cosine.  its a minor thing\n",
    "    tp = pi/(V)\n",
    "    delt = 20\n",
    "    N = int(ttotal/(tp + delt))\n",
    "    RF = 0.\n",
    "    for n in arange(1,N+1):\n",
    "        if t >= n*delt+(n-1)*tp:\n",
    "            if t<=n*delt + n*tp:\n",
    "                \n",
    "                RF += V*cos(wq*(t-n*delt-(n-1)*tp))\n",
    "    return RF\n",
    "\n",
    "V = .5\n",
    "tp = pi/(V)\n",
    "#    tp = pi/(V)\n",
    "delt = 20\n",
    "N = int(ttotal/(tp + delt))\n",
    "print(N)\n",
    "H_d = [sigmax(), drive]\n",
    "\n",
    "Ncc = 60\n",
    "\n",
    "\n",
    "H_d = [Hsys,[sigmax(), drive]]\n",
    "\n",
    "\n",
    "#Q = [sigmax(),sigmax(),sigmax(),sigmax()]\n",
    "Q2 = [Q for kk in range(NR+NI)]\n",
    "\n",
    "optionsODE = Options(nsteps=15000, store_states=True,rtol=1e-17,atol=1e-17)\n",
    "resultHEOM = BosonicHEOMSolver(H_d, Q2,ckAR,ckAI,vkAR,vkAI, NC, options=optionsODE)\n",
    "outputDD  = resultHEOM.run(initial_state2,tlist2)\n",
    "\n",
    "\n",
    "\n",
    "\n",
    "H_d = [Hsys,[0.*sigmax(), drive]]\n",
    "\n",
    "\n",
    "#Q = [sigmax(),sigmax(),sigmax(),sigmax()]\n",
    "Q2 = [Q for kk in range(NR+NI)]\n",
    "\n",
    "resultHEOM = BosonicHEOMSolver(H_d, Q2,ckAR,ckAI,vkAR,vkAI, NC, options=optionsODE)\n",
    "outputnoDD  = resultHEOM.run(initial_state2,tlist2)\n",
    "\n",
    "\n",
    "#resultHEOM=heom_fmo.HSolverDLMultiBathsWithRes(id4state, Q,  lam0,Temperature, Ncc+1, Kk, gamma,res_list,renorm=True,options=optionsODE,bnd_cut_approx=True)\n",
    "#outputQ2=resultHEOM.run(initial_state,tlist)"
   ]
  },
  {
   "cell_type": "code",
   "execution_count": 38,
   "metadata": {},
   "outputs": [
    {
     "data": {
      "text/plain": [
       "[<matplotlib.lines.Line2D at 0x7f0fc64ec128>]"
      ]
     },
     "execution_count": 38,
     "metadata": {},
     "output_type": "execute_result"
    },
    {
     "data": {
      "image/png": "[encoded data removed]",
      "text/plain": [
       "<Figure size 864x432 with 1 Axes>"
      ]
     },
     "metadata": {
      "needs_background": "light"
     },
     "output_type": "display_data"
    },
    {
     "data": {
      "image/png": "[encoded data removed]",
      "text/plain": [
       "<Figure size 864x432 with 1 Axes>"
      ]
     },
     "metadata": {
      "needs_background": "light"
     },
     "output_type": "display_data"
    }
   ],
   "source": [
    "#P2HEOM=expect(output.states,P2)\n",
    "\n",
    "\n",
    "\n",
    "P12DD=expect(outputDD.states,basis(2,1)*basis(2,0).dag())\n",
    "P12noDD=expect(outputnoDD.states,basis(2,1)*basis(2,0).dag())\n",
    "\n",
    "fig, axes2 = subplots(1, 1, sharex=True, figsize=(12,6))\n",
    "\n",
    "\n",
    "\n",
    "axes2.plot(tlist2, real(P12DD), 'blue', linestyle='-', linewidth=2, label=\"P12 dd\")\n",
    "axes2.plot(tlist2, real(P12noDD), 'orange', linestyle='--', linewidth=2, label=\"P12 no dd\")\n",
    "\n",
    "#P2HEOM=expect(output.states,P2)\n",
    "\n",
    "\n",
    "P1DD=expect(outputDD.states,basis(2,1)*basis(2,1).dag())\n",
    "P1noDD=expect(outputnoDD.states,basis(2,1)*basis(2,1).dag())\n",
    "\n",
    "fig, axes2 = subplots(1, 1, sharex=True, figsize=(12,6))\n",
    "\n",
    "\n",
    "\n",
    "axes2.plot(tlist2, real(P1DD), 'blue', linestyle='-', linewidth=2, label=\"P12 dd\")\n",
    "axes2.plot(tlist2, real(P1noDD), 'orange', linestyle='--', linewidth=2, label=\"P12 no dd\")"
   ]
  },
  {
   "cell_type": "code",
   "execution_count": null,
   "metadata": {
    "collapsed": true
   },
   "outputs": [],
   "source": [
    "\n",
    "# Lets look at the drive itself:"
   ]
  },
  {
   "cell_type": "code",
   "execution_count": 32,
   "metadata": {},
   "outputs": [
    {
     "data": {
      "text/plain": [
       "[<matplotlib.lines.Line2D at 0x7f0fca14cef0>]"
      ]
     },
     "execution_count": 32,
     "metadata": {},
     "output_type": "execute_result"
    },
    {
     "data": {
      "image/png": "[encoded data removed]",
      "text/plain": [
       "<Figure size 864x432 with 1 Axes>"
      ]
     },
     "metadata": {
      "needs_background": "light"
     },
     "output_type": "display_data"
    }
   ],
   "source": [
    "\n",
    "ttotal=50.\n",
    "tlist2 = np.linspace(0, ttotal, 50000)\n",
    "\n",
    "def drive(t):\n",
    "    V = .5\n",
    "    tp = pi/(2.*V)\n",
    "#    tp = pi/(V)\n",
    "    delt = 20\n",
    "    N = int(ttotal/(tp + delt))\n",
    "    RF = 0.\n",
    "    for n in arange(1,N+1):\n",
    "        if t >= n*delt+(n-1)*tp:\n",
    "            if t<=n*delt + n*tp:\n",
    "                \n",
    "                RF += V*cos(wq*(t-n*delt-(n-1)*tp))\n",
    "    return RF\n",
    "\n",
    "pulse = [drive(t) for t in tlist2]\n",
    "\n",
    "fig, axes2 = subplots(1, 1, sharex=True, figsize=(12,6))\n",
    "\n",
    "\n",
    "\n",
    "axes2.plot(tlist2, pulse, 'blue', linestyle='-', linewidth=2, label=\"P12 dd\")\n",
    "\n",
    "\n",
    "#P2HEOM=expect(output.states,P2)\n",
    "\n"
   ]
  },
  {
   "cell_type": "markdown",
   "metadata": {},
   "source": [
    "# Here we remove the natural precession, and make a RWA on the drive (i.e. this is equivalent to being in an interaction picture, and making an RWA) \n",
    "# This is slightly more convenient to play with than the above example"
   ]
  },
  {
   "cell_type": "code",
   "execution_count": 39,
   "metadata": {},
   "outputs": [],
   "source": [
    "#dynamical decoupling test\n",
    "wq = 10.0\n",
    "Hsys = wq * 0.0 * sigmaz()\n",
    "\n",
    "\n",
    "#\n",
    "#K is the matsubara terms; if temperature < system energy,  N>1\n",
    "Kk=1\n",
    "\n",
    "Q=sigmaz()\n",
    "\n",
    "beta=1./1.\n",
    "#beta = 1/10.\n",
    "T=1.\n",
    "\n",
    "\n",
    "\n",
    "lam = 0.01\n",
    "\n",
    "\n",
    "gamma = 0.1\n",
    "\n",
    "\n",
    "ckAR = [pref * lam * gamma * (cot(gamma / (2 * T))) + 0.j]\n",
    "ckAR.extend([(pref * 4 * lam * gamma * T *  2 * np.pi * k * T / (( 2 * np.pi * k * T)**2 - gamma**2))+0.j for k in range(1,Nk)])\n",
    "\n",
    "vkAR = [gamma+0.j]\n",
    "vkAR.extend([2 * np.pi * k * T + 0.j for k in range(1,Nk)])\n",
    "\n",
    "ckAI = [pref * lam * gamma * (-1.0) + 0.j]\n",
    "\n",
    "vkAI = [gamma+0.j]\n",
    "\n",
    "\n",
    "\n",
    "ttotal=20.\n",
    "tlist2 = np.linspace(0, ttotal, 20000)\n",
    "#Pure dephasing example: start with a superposition so there is something to dephase!\n",
    "sup = (basis(2,1)+basis(2,0))/sqrt(2.)\n",
    "initial_state2= sup * sup.dag()\n",
    "\n",
    "optionsODE = Options(nsteps=1500, store_states=True,rtol=1e-12,atol=1e-12)\n",
    "\n",
    "NC = 60\n",
    "Q2 = [Q for kk in range(NR+NI)]\n",
    "\n",
    "HEOM = BosonicHEOMSolver(Hsys, Q2, ckAR, ckAI, vkAR, vkAI, NC, options=optionsODE)\n",
    "\n",
    "outputold =  HEOM.run(initial_state2, tlist2)\n",
    "\n",
    "\n",
    "#followings https://journals.aps.org/pra/pdf/10.1103/PhysRevA.58.2733\n",
    "#in this version i replace the drive with \n",
    "#pi/2 pulse stuff, assuming interaction picture\n",
    "#so h_sys = 0\n",
    "#H_drive = V\\sigma_x when t in {tp} period\n",
    "#this lets me set V arbitrarily large without worrying about RWA violation\n",
    "\n",
    "def drive(t):\n",
    "    V = 10.\n",
    "    tp = pi/(2.*V)\n",
    "#    tp = pi/(V)\n",
    "    delt = 1.\n",
    "    N = int(ttotal/(tp + delt))\n",
    "    RF = 0.\n",
    "    for n in arange(1,N+1):\n",
    "        if t >= n*delt+(n-1)*tp:\n",
    "            if t<=n*delt + n*tp:\n",
    "                \n",
    "                #RF += V*cos(wq*(t-n*delt-(n-1)*tp))\n",
    "                RF += V\n",
    "    return RF\n",
    "\n",
    "\n",
    "\n",
    "\n",
    "Ncc = 60\n",
    "\n",
    "\n",
    "H_d = [Hsys,[sigmax(), drive]]\n",
    "\n",
    "\n",
    "#Q = [sigmax(),sigmax(),sigmax(),sigmax()]\n",
    "Q2 = [Q for kk in range(NR+NI)]\n",
    "\n",
    "resultHEOM = BosonicHEOMSolver(H_d, Q2,ckAR,ckAI,vkAR,vkAI, Ncc, options=optionsODE)\n",
    "outputDD  = resultHEOM.run(initial_state2,tlist2)\n",
    "\n",
    "\n",
    "\n",
    "Ncc = 60\n",
    "\n",
    "\n",
    "H_d = [Hsys,[0.*sigmax(), drive]]\n",
    "\n",
    "\n",
    "#Q = [sigmax(),sigmax(),sigmax(),sigmax()]\n",
    "Q2 = [Q for kk in range(NR+NI)]\n",
    "\n",
    "resultHEOM = BosonicHEOMSolver(H_d, Q2,ckAR,ckAI,vkAR,vkAI, Ncc, options=optionsODE)\n",
    "outputnoDD  = resultHEOM.run(initial_state2,tlist2)\n",
    "\n",
    "\n",
    "#resultHEOM=heom_fmo.HSolverDLMultiBathsWithRes(id4state, Q,  lam0,Temperature, Ncc+1, Kk, gamma,res_list,renorm=True,options=optionsODE,bnd_cut_approx=True)\n",
    "#outputQ2=resultHEOM.run(initial_state,tlist)"
   ]
  },
  {
   "cell_type": "code",
   "execution_count": 40,
   "metadata": {},
   "outputs": [],
   "source": [
    "def drive(t,args):\n",
    "    V = 10.\n",
    "    tp = pi/(2.*V)\n",
    "#    tp = pi/(V)\n",
    "    delt = 1.\n",
    "    N = int(ttotal/(tp + delt))\n",
    "    RF = 0.\n",
    "    for n in arange(1,N+1):\n",
    "        if t >= n*delt+(n-1)*tp:\n",
    "            if t<=n*delt + n*tp:\n",
    "                \n",
    "                #RF += V*cos(wq*(t-n*delt-(n-1)*tp))\n",
    "                RF += V\n",
    "    return RF\n",
    "\n",
    "#lam=lam2\n",
    "#gamma = gamres\n",
    "T= 1.\n",
    "beta = 1./T\n",
    "#this is a really bad approximation for small gamma.  gives a huge dephasing rate\n",
    "approx_factr = ((2.*lam / (beta*gamma)) - 1.0j*lam)\n",
    "\n",
    "#lets reduce it\n",
    "approx_factr = ((2.*lam / (beta)))\n",
    "\n",
    "\n",
    "\n",
    "resultMEDD= mesolve([Hsys,[sigmax(), drive]], initial_state2, tlist2, [np.sqrt(2.*approx_factr)*sigmaz()], [])\n",
    "resultMEnoDD= mesolve(Hsys, initial_state2, tlist2, [np.sqrt(2.*approx_factr)*sigmaz()], [])\n",
    "\n",
    "\n"
   ]
  },
  {
   "cell_type": "code",
   "execution_count": 42,
   "metadata": {},
   "outputs": [
    {
     "data": {
      "text/plain": [
       "[<matplotlib.lines.Line2D at 0x7f0fcd96e828>]"
      ]
     },
     "execution_count": 42,
     "metadata": {},
     "output_type": "execute_result"
    },
    {
     "data": {
      "image/png": "[encoded data removed]",
      "text/plain": [
       "<Figure size 864x432 with 1 Axes>"
      ]
     },
     "metadata": {
      "needs_background": "light"
     },
     "output_type": "display_data"
    },
    {
     "data": {
      "image/png": "[encoded data removed]",
      "text/plain": [
       "<Figure size 864x432 with 1 Axes>"
      ]
     },
     "metadata": {
      "needs_background": "light"
     },
     "output_type": "display_data"
    }
   ],
   "source": [
    "#P2HEOM=expect(output.states,P2)\n",
    "\n",
    "\n",
    "P12DD=expect(outputDD.states,basis(2,1)*basis(2,0).dag())\n",
    "P12noDD=expect(outputnoDD.states,basis(2,1)*basis(2,0).dag())\n",
    "\n",
    "P12MEDD=expect(resultMEDD.states,basis(2,1)*basis(2,0).dag())\n",
    "P12MEnoDD=expect(resultMEnoDD.states,basis(2,1)*basis(2,0).dag())\n",
    "\n",
    "fig, axes2 = subplots(1, 1, sharex=True, figsize=(12,6))\n",
    "\n",
    "\n",
    "\n",
    "axes2.plot(tlist2, real(P12DD), 'blue', linestyle='-', linewidth=2, label=\"P12 dd\")\n",
    "axes2.plot(tlist2, real(P12noDD), 'orange', linestyle='--', linewidth=2, label=\"P12 no dd\")\n",
    "\n",
    "axes2.plot(tlist2, real(P12MEDD), 'yellow', linestyle='-', linewidth=2, label=\"P12 no dd\")\n",
    "axes2.plot(tlist2, real(P12MEnoDD), 'black', linestyle='--', linewidth=2, label=\"P12 no dd\")\n",
    "\n",
    "#P2HEOM=expect(output.states,P2)\n",
    "\n",
    "\n",
    "P1DD=expect(outputDD.states,basis(2,1)*basis(2,1).dag())\n",
    "P1noDD=expect(outputnoDD.states,basis(2,1)*basis(2,1).dag())\n",
    "\n",
    "fig, axes2 = subplots(1, 1, sharex=True, figsize=(12,6))\n",
    "\n",
    "\n",
    "\n",
    "axes2.plot(tlist2, real(P1DD), 'blue', linestyle='-', linewidth=2, label=\"P12 dd\")\n",
    "axes2.plot(tlist2, real(P1noDD), 'orange', linestyle='--', linewidth=2, label=\"P12 no dd\")"
   ]
  },
  {
   "cell_type": "code",
   "execution_count": 131,
   "metadata": {
    "collapsed": true
   },
   "outputs": [],
   "source": [
    "sx = sigmax()\n",
    "sz = sigmaz()"
   ]
  },
  {
   "cell_type": "code",
   "execution_count": 130,
   "metadata": {},
   "outputs": [
    {
     "data": {
      "text/latex": [
       "Quantum object: dims = [[2], [1]], shape = (2, 1), type = ket\\begin{equation*}\\left(\\begin{array}{*{11}c}1.0\\\\0.0\\\\\\end{array}\\right)\\end{equation*}"
      ],
      "text/plain": [
       "Quantum object: dims = [[2], [1]], shape = (2, 1), type = ket\n",
       "Qobj data =\n",
       "[[ 1.]\n",
       " [ 0.]]"
      ]
     },
     "execution_count": 130,
     "metadata": {},
     "output_type": "execute_result"
    }
   ],
   "source": [
    "basis(2,0)"
   ]
  },
  {
   "cell_type": "code",
   "execution_count": 136,
   "metadata": {},
   "outputs": [
    {
     "data": {
      "text/latex": [
       "Quantum object: dims = [[2], [1]], shape = (2, 1), type = ket\\begin{equation*}\\left(\\begin{array}{*{11}c}-1.0\\\\0.0\\\\\\end{array}\\right)\\end{equation*}"
      ],
      "text/plain": [
       "Quantum object: dims = [[2], [1]], shape = (2, 1), type = ket\n",
       "Qobj data =\n",
       "[[-1.]\n",
       " [ 0.]]"
      ]
     },
     "execution_count": 136,
     "metadata": {},
     "output_type": "execute_result"
    }
   ],
   "source": [
    "(1.0j*(pi)*sx).expm()*basis(2,0)"
   ]
  },
  {
   "cell_type": "code",
   "execution_count": 47,
   "metadata": {},
   "outputs": [
    {
     "data": {
      "text/plain": [
       "[<matplotlib.lines.Line2D at 0x7f3a12b60438>]"
      ]
     },
     "execution_count": 47,
     "metadata": {},
     "output_type": "execute_result"
    },
    {
     "data": {
      "image/png": "[encoded data removed]",
      "text/plain": [
       "<Figure size 864x432 with 1 Axes>"
      ]
     },
     "metadata": {
      "needs_background": "light"
     },
     "output_type": "display_data"
    }
   ],
   "source": [
    "\n",
    "def drive(t):\n",
    "    V = 10.\n",
    "    tp = pi/(2.*V)\n",
    "#    tp = pi/(V)\n",
    "    delt = 1.\n",
    "    N = int(ttotal/(tp + delt))\n",
    "    RF = 0.\n",
    "    for n in arange(1,N+1):\n",
    "        if t >= n*delt+(n-1)*tp:\n",
    "            if t<=n*delt + n*tp:\n",
    "                \n",
    "                #RF += V*cos(wq*(t-n*delt-(n-1)*tp))\n",
    "                RF += V\n",
    "    return RF\n",
    "\n",
    "\n",
    "pulse = [drive(t) for t in tlist2]\n",
    "\n",
    "fig, axes2 = subplots(1, 1, sharex=True, figsize=(12,6))\n",
    "\n",
    "\n",
    "\n",
    "axes2.plot(tlist2, pulse, 'blue', linestyle='-', linewidth=2, label=\"P12 dd\")\n",
    "\n",
    "\n",
    "#P2HEOM=expect(output.states,P2)\n",
    "\n"
   ]
  },
  {
   "cell_type": "code",
   "execution_count": null,
   "metadata": {
    "collapsed": true
   },
   "outputs": [],
   "source": []
  }
 ],
 "metadata": {
  "anaconda-cloud": {},
  "kernelspec": {
   "display_name": "Python 3",
   "language": "python",
   "name": "python3"
  },
  "language_info": {
   "codemirror_mode": {
    "name": "ipython",
    "version": 3
   },
   "file_extension": ".py",
   "mimetype": "text/x-python",
   "name": "python",
   "nbconvert_exporter": "python",
   "pygments_lexer": "ipython3",
   "version": "3.7.3"
  }
 },
 "nbformat": 4,
 "nbformat_minor": 1
}
