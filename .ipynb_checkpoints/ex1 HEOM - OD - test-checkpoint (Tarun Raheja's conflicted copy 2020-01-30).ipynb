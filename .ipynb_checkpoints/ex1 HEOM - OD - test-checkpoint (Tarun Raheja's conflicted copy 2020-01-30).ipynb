{
 "cells": [
  {
   "cell_type": "markdown",
   "metadata": {},
   "source": [
    "#FMO"
   ]
  },
  {
   "cell_type": "markdown",
   "metadata": {},
   "source": []
  },
  {
   "cell_type": "markdown",
   "metadata": {},
   "source": [
    "### Introduction"
   ]
  },
  {
   "cell_type": "markdown",
   "metadata": {},
   "source": [
    "\n",
    "\n",
    "Hierarchy method reference: link.aps.org/doi/10.1103/PhysRevLett.104.250401\n",
    "\n",
    "FMO reference http://arxiv.org/pdf/1512.09086v1.pdf\n",
    "Based on the implementation in http://dx.doi.org/10.1073/pnas.0908989106"
   ]
  },
  {
   "cell_type": "markdown",
   "metadata": {},
   "source": [
    "In this example notebook we show the normal overdamped case\n"
   ]
  },
  {
   "cell_type": "code",
   "execution_count": 1,
   "metadata": {},
   "outputs": [
    {
     "name": "stdout",
     "output_type": "stream",
     "text": [
      "Populating the interactive namespace from numpy and matplotlib\n"
     ]
    }
   ],
   "source": [
    "%pylab inline\n",
    "from qutip import *"
   ]
  },
  {
   "cell_type": "code",
   "execution_count": 2,
   "metadata": {},
   "outputs": [],
   "source": [
    "from qutip.ipynbtools import HTMLProgressBar"
   ]
  },
  {
   "cell_type": "code",
   "execution_count": 3,
   "metadata": {},
   "outputs": [],
   "source": [
    "%load_ext autoreload\n",
    "%autoreload 2"
   ]
  },
  {
   "cell_type": "code",
   "execution_count": 4,
   "metadata": {},
   "outputs": [],
   "source": [
    "#import heom_fmo_td_3 as heom_fmo\n",
    "import sys\n",
    "sys.path.append('/mnt/c/Users/nwlam/Dropbox/notebooks/tarun heom codes/8_new_stuff/heomlib/')\n",
    "from heom_fmotd import BosonicHEOMSolver\n",
    "#import heom_fmo_no_lists as heom_fmo_no_lists"
   ]
  },
  {
   "cell_type": "code",
   "execution_count": 5,
   "metadata": {},
   "outputs": [],
   "source": [
    "from qutip.nonmarkov.heom import HSolverDL "
   ]
  },
  {
   "cell_type": "code",
   "execution_count": 105,
   "metadata": {},
   "outputs": [],
   "source": [
    "\n",
    "# Defining the system Hamiltonian\n",
    "eps = 0.5     # Energy of the 2-level system.\n",
    "Del = 1.0    # Tunnelling term\n",
    "Hsys = 0.5 * eps * sigmaz() + 0.5 * Del* sigmax()"
   ]
  },
  {
   "cell_type": "code",
   "execution_count": 106,
   "metadata": {},
   "outputs": [],
   "source": [
    "\n",
    "# Bath description parameters (for HEOM)\n",
    "temperature = 1.0/0.95 # in units where Boltzmann factor is 1\n",
    "Nk = 2 # number of exponentials in approximation of the the spectral density\n",
    "Ncut = 30 # cut off parameter for the bath"
   ]
  },
  {
   "cell_type": "code",
   "execution_count": 107,
   "metadata": {},
   "outputs": [],
   "source": [
    "# System-bath coupling (Drude-Lorentz spectral density)\n",
    "Q = sigmaz() # coupling operator\n",
    "gam = 0.05 # cut off frequency\n",
    "lam = 0.05 # coupling strenght"
   ]
  },
  {
   "cell_type": "code",
   "execution_count": 108,
   "metadata": {},
   "outputs": [],
   "source": [
    "# Configure the solver\n",
    "hsolver = HSolverDL(Hsys, Q, lam, temperature, Ncut, Nk, gam, stats=True)"
   ]
  },
  {
   "cell_type": "code",
   "execution_count": 109,
   "metadata": {},
   "outputs": [
    {
     "name": "stdout",
     "output_type": "stream",
     "text": [
      "Hierarchy Solver Stats\n",
      "======================\n",
      "\n",
      "config\n",
      "------\n",
      "### Timings:\n",
      " - 0:00:08.571941 (99.56% section, 20.38% total)\thierarchy contruct\n",
      " - 0:00:00.001619 (0.02% section, 0.00% total)\tLiouvillian contruct\n",
      " - 0:00:08.609906\tconfig total time\n",
      "### Counts:\n",
      " - 5456\tNum hierarchy elements\n",
      " - 29760\tNum he interactions\n",
      "### Messages:\n",
      " - options:\trenormalisation;boundary cutoff approx\n",
      "\n",
      "run\n",
      "---\n",
      "### Timings:\n",
      " - 0:00:00.001499 (0.00% section, 0.00% total)\tinitialize\n",
      " - 0:00:33.453675 (100.00% section, 79.53% total)\tintegrate\n",
      " - 0:00:33.455191\trun total time\n",
      "### Counts:\n",
      "### Messages:\n",
      "\n",
      "Summary\n",
      "-------\n",
      "0:00:42.065097\t solver total time\n"
     ]
    }
   ],
   "source": [
    "# Initial state of the system.\n",
    "rho0 = basis(2,0) * basis(2,0).dag()   \n",
    "# Times to record state\n",
    "tlist = np.linspace(0, 40, 600)\n",
    "# run the solver\n",
    "result = hsolver.run(rho0, tlist)\n",
    "hsolver.stats.report()"
   ]
  },
  {
   "cell_type": "code",
   "execution_count": 110,
   "metadata": {},
   "outputs": [],
   "source": [
    "# Define some operators with which we will measure the system\n",
    "# 1,1 element of density matrix - corresonding to groundstate\n",
    "P11p=basis(2,0) * basis(2,0).dag()\n",
    "# 1,2 element of density matrix  - corresonding to coherence\n",
    "P12p=basis(2,0) * basis(2,1).dag()\n",
    "# Calculate expectation values in the bases\n",
    "P11exp = expect(result.states, P11p)\n",
    "P12exp = expect(result.states, P12p)"
   ]
  },
  {
   "cell_type": "code",
   "execution_count": 111,
   "metadata": {},
   "outputs": [
    {
     "data": {
      "text/plain": [
       "<matplotlib.legend.Legend at 0x7f800c2d9850>"
      ]
     },
     "execution_count": 111,
     "metadata": {},
     "output_type": "execute_result"
    },
    {
     "data": {
      "image/png": "[encoded data removed]",
      "text/plain": [
       "<Figure size 576x576 with 1 Axes>"
      ]
     },
     "metadata": {
      "needs_background": "light"
     },
     "output_type": "display_data"
    }
   ],
   "source": [
    "# Plot the results\n",
    "fig, axes = plt.subplots(1, 1, sharex=True, figsize=(8,8))\n",
    "axes.plot(tlist, np.real(P11exp), 'b', linewidth=2, label=\"P11\")\n",
    "axes.plot(tlist, np.real(P12exp), 'r', linewidth=2, label=\"P12\")\n",
    "axes.set_xlabel(r't', fontsize=28)\n",
    "axes.legend(loc=0, fontsize=12)"
   ]
  },
  {
   "cell_type": "code",
   "execution_count": 294,
   "metadata": {},
   "outputs": [
    {
     "name": "stdout",
     "output_type": "stream",
     "text": [
      "Computing cks and vks\n",
      "[(0.10524336548378106+0j), (0.0015916403955234214+0j)]\n",
      "[(-0.0025000000000000005+0j)]\n",
      "[(0.05+0j), (6.613879270715354+0j)]\n",
      "[(0.05+0j)]\n"
     ]
    }
   ],
   "source": [
    "###############################################\n",
    "\n",
    "# defines cks and vks for a spectral density\n",
    "\n",
    "# generating correlation function from spectral density\n",
    "\n",
    "Nk = 2 \n",
    "\n",
    "def cot(x):\n",
    "    return 1./np.tan(x)\n",
    "\n",
    "# computing cks and vks\n",
    "print(\"Computing cks and vks\")\n",
    "gamma = 0.05\n",
    "# alpha = 1/(2*np.pi)\n",
    "alpha = 0.05\n",
    "lam = alpha\n",
    "T = 1/0.95\n",
    "\n",
    "wlist = np.linspace(0, 10, 100)\n",
    "\n",
    "pref = 1.\n",
    "\n",
    "J = [w * 2 * lam * gamma / (np.pi*(gamma**2 + w**2)) for w in wlist]\n",
    "\n",
    "def c(t):\n",
    "    c_temp =[]\n",
    "    c_temp.append(pref * lam * gamma * (-1.0j + cot(gamma / (2 * T))) * np.exp(-gamma * t))\n",
    "    for k in range(1,100):\n",
    "        vk = 2 * np.pi * k * T\n",
    "        c_temp.append((pref * 4 * lam * gamma * T * vk / (vk**2 - gamma**2))  * np.exp(- vk * t) ) \n",
    "    return c_temp\n",
    "\n",
    "ckAR = [pref * lam * gamma * (cot(gamma / (2 * T))) +0.j]\n",
    "ckAR.extend([(pref * 4 * lam * gamma * T *  2 * np.pi * k * T / (( 2 * np.pi * k * T)**2 - gamma**2))+0.j for k in range(1,Nk)])\n",
    "\n",
    "vkAR = [gamma+0.j]\n",
    "vkAR.extend([2 * np.pi * k * T + 0.j for k in range(1,Nk)])\n",
    "\n",
    "ckAI= [pref * lam * gamma * (-1.0) + 0.j]\n",
    "\n",
    "vkAI = [gamma+0.j]\n",
    "\n",
    "print(ckAR)\n",
    "print(ckAI)\n",
    "\n",
    "print(vkAR)\n",
    "print(vkAI)\n",
    "\n",
    "# Reals parts\n",
    "ans1 = [np.real(sum(c(t))) for t in tlist]\n",
    "# Imaginary parts\n",
    "ans2 = [np.imag(sum(c(t))) for t in tlist]\n"
   ]
  },
  {
   "cell_type": "code",
   "execution_count": 295,
   "metadata": {},
   "outputs": [
    {
     "name": "stdout",
     "output_type": "stream",
     "text": [
      "[(0.10524336548378106+0j), (0.0015916403955234214+0j)]\n",
      "[(-0.0025000000000000005+0j)]\n",
      "[(0.05+0j), (6.613879270715354+0j)]\n",
      "[(0.05+0j)]\n"
     ]
    }
   ],
   "source": [
    "print(ckAR)\n",
    "print(ckAI)\n",
    "\n",
    "print(vkAR)\n",
    "print(vkAI)"
   ]
  },
  {
   "cell_type": "code",
   "execution_count": 300,
   "metadata": {},
   "outputs": [
    {
     "name": "stdout",
     "output_type": "stream",
     "text": [
      "[Quantum object: dims = [[2], [2]], shape = (2, 2), type = oper, isherm = True\n",
      "Qobj data =\n",
      "[[ 1.  0.]\n",
      " [ 0. -1.]], Quantum object: dims = [[2], [2]], shape = (2, 2), type = oper, isherm = True\n",
      "Qobj data =\n",
      "[[ 1.  0.]\n",
      " [ 0. -1.]], Quantum object: dims = [[2], [2]], shape = (2, 2), type = oper, isherm = True\n",
      "Qobj data =\n",
      "[[ 1.  0.]\n",
      " [ 0. -1.]]]\n",
      "making python csr matrix\n"
     ]
    }
   ],
   "source": [
    "\n",
    "NC = 30\n",
    "NR = len(ckAR)\n",
    "NI = len(ckAI)\n",
    "Q2 = [Q for kk in range(NR+NI)]\n",
    "print(Q2)\n",
    "options = Options(nsteps=15000, store_states=True,rtol=1e-12, atol=1e-12)\n",
    "\n",
    "resultNew = BosonicHEOMSolver(Hsys, Q2, ckAR, ckAI, vkAR, vkAI, NC, options=options)"
   ]
  },
  {
   "cell_type": "code",
   "execution_count": 301,
   "metadata": {},
   "outputs": [],
   "source": [
    "# Initial state of the system.\n",
    "rho0 = basis(2,0) * basis(2,0).dag()   \n",
    "# Times to record state\n",
    "tlist = np.linspace(0, 40, 600)\n",
    "\n",
    "result = resultNew.run(rho0, tlist)"
   ]
  },
  {
   "cell_type": "code",
   "execution_count": 302,
   "metadata": {},
   "outputs": [],
   "source": [
    "# Define some operators with which we will measure the system\n",
    "# 1,1 element of density matrix - corresonding to groundstate\n",
    "P11p=basis(2,0) * basis(2,0).dag()\n",
    "P22p=basis(2,1) * basis(2,1).dag()\n",
    "# 1,2 element of density matrix  - corresonding to coherence\n",
    "P12p=basis(2,0) * basis(2,1).dag()\n",
    "# Calculate expectation values in the bases\n",
    "P11exp = expect(result.states, P11p)\n",
    "P22exp = expect(result.states, P22p)\n",
    "P12exp = expect(result.states, P12p)"
   ]
  },
  {
   "cell_type": "code",
   "execution_count": 303,
   "metadata": {},
   "outputs": [
    {
     "data": {
      "text/plain": [
       "<matplotlib.legend.Legend at 0x7f7ff6cc4290>"
      ]
     },
     "execution_count": 303,
     "metadata": {},
     "output_type": "execute_result"
    },
    {
     "data": {
      "image/png": "[encoded data removed]",
      "text/plain": [
       "<Figure size 576x576 with 1 Axes>"
      ]
     },
     "metadata": {
      "needs_background": "light"
     },
     "output_type": "display_data"
    }
   ],
   "source": [
    "# Plot the results\n",
    "fig, axes = plt.subplots(1, 1, sharex=True, figsize=(8,8))\n",
    "axes.plot(tlist, np.real(P11exp)+ np.real(P22exp), 'b', linewidth=2, label=\"P11\")\n",
    "axes.plot(tlist, np.real(P11exp), 'b', linewidth=2, label=\"P11\")\n",
    "axes.plot(tlist, np.real(P12exp), 'r', linewidth=2, label=\"P12\")\n",
    "axes.set_xlabel(r't', fontsize=28)\n",
    "axes.legend(loc=0, fontsize=12)"
   ]
  },
  {
   "cell_type": "markdown",
   "metadata": {},
   "source": [
    "### Comparison to pure dephasing exact result"
   ]
  },
  {
   "cell_type": "markdown",
   "metadata": {},
   "source": [
    "### Software versions"
   ]
  },
  {
   "cell_type": "code",
   "execution_count": 93,
   "metadata": {},
   "outputs": [
    {
     "data": {
      "text/html": [
       "<table><tr><th>Software</th><th>Version</th></tr><tr><td>QuTiP</td><td>3.2.0.dev-</td></tr><tr><td>Numpy</td><td>1.8.1</td></tr><tr><td>SciPy</td><td>0.14.0</td></tr><tr><td>matplotlib</td><td>1.3.1</td></tr><tr><td>Cython</td><td>0.20.1</td></tr><tr><td>IPython</td><td>2.1.0</td></tr><tr><td>Python</td><td>2.7.7 |Anaconda 2.0.1 (64-bit)| (default, Jun 11 2014, 10:40:02) [MSC v.1500 64 bit (AMD64)]</td></tr><tr><td>OS</td><td>nt [win32]</td></tr><tr><td colspan='2'>Thu Jun 18 15:09:30 2015 Tokyo Standard Time</td></tr></table>"
      ],
      "text/plain": [
       "<IPython.core.display.HTML at 0x1a1aef98>"
      ]
     },
     "execution_count": 93,
     "metadata": {},
     "output_type": "execute_result"
    }
   ],
   "source": [
    "from qutip.ipynbtools import version_table\n",
    "\n",
    "version_table()"
   ]
  },
  {
   "cell_type": "code",
   "execution_count": null,
   "metadata": {},
   "outputs": [],
   "source": []
  }
 ],
 "metadata": {
  "anaconda-cloud": {},
  "kernelspec": {
   "display_name": "Python 3",
   "language": "python",
   "name": "python3"
  },
  "language_info": {
   "codemirror_mode": {
    "name": "ipython",
    "version": 3
   },
   "file_extension": ".py",
   "mimetype": "text/x-python",
   "name": "python",
   "nbconvert_exporter": "python",
   "pygments_lexer": "ipython3",
   "version": "3.7.5"
  }
 },
 "nbformat": 4,
 "nbformat_minor": 1
}
